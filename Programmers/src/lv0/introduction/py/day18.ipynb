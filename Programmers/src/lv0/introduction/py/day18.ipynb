{
 "cells": [
  {
   "cell_type": "markdown",
   "source": [
    "# Day 18 문자열, 수학, 조건문, 정렬"
   ],
   "metadata": {
    "collapsed": false
   },
   "id": "fdf63387b9da63b9"
  },
  {
   "cell_type": "code",
   "outputs": [
    {
     "name": "stdout",
     "output_type": "stream",
     "text": [
      "1\n",
      "2\n",
      "2\n"
     ]
    }
   ],
   "source": [
    "def solution(str1: str, str2: str) -> int:\n",
    "    \"\"\"\n",
    "    문자열안에 문자열\n",
    "    \n",
    "    :param str1: 문자열\n",
    "    :param str2: 문자열\n",
    "    :return: str1 안에 str2가 있다면 1을 없다면 2를 반환\n",
    "    \"\"\"\n",
    "    return 1 if str2 in str1 else 2\n",
    "\n",
    "\n",
    "print(solution(\"ab6CDE443fgh22iJKlmn1o\", \"6CD\"))\n",
    "print(solution(\"ppprrrogrammers\", \"pppp\"))\n",
    "print(solution(\"AbcAbcA\", \"AAA\"))"
   ],
   "metadata": {
    "collapsed": false,
    "ExecuteTime": {
     "end_time": "2024-03-11T15:10:05.303632Z",
     "start_time": "2024-03-11T15:10:05.295993Z"
    }
   },
   "id": "f740730889c1b7ce",
   "execution_count": 1
  },
  {
   "cell_type": "code",
   "outputs": [
    {
     "name": "stdout",
     "output_type": "stream",
     "text": [
      "1\n",
      "2\n"
     ]
    }
   ],
   "source": [
    "def solution(n):\n",
    "    \"\"\"\n",
    "    제곱수 판별하기\n",
    "    \n",
    "    :param n: 정수\n",
    "    :return: n이 제곱수라면 1을 아니라면 2를 반환\n",
    "    \"\"\"\n",
    "    return 1 if (n ** 0.5).is_integer() else 2\n",
    "\n",
    "\n",
    "print(solution(144))\n",
    "print(solution(976))"
   ],
   "metadata": {
    "collapsed": false,
    "ExecuteTime": {
     "end_time": "2024-03-12T15:13:47.167371Z",
     "start_time": "2024-03-12T15:13:47.161436Z"
    }
   },
   "id": "9ee662e95540a376",
   "execution_count": 1
  },
  {
   "cell_type": "code",
   "outputs": [],
   "source": [],
   "metadata": {
    "collapsed": false
   },
   "id": "dc61a4abd0e3b1fc"
  }
 ],
 "metadata": {
  "kernelspec": {
   "display_name": "Python 3",
   "language": "python",
   "name": "python3"
  },
  "language_info": {
   "codemirror_mode": {
    "name": "ipython",
    "version": 2
   },
   "file_extension": ".py",
   "mimetype": "text/x-python",
   "name": "python",
   "nbconvert_exporter": "python",
   "pygments_lexer": "ipython2",
   "version": "2.7.6"
  }
 },
 "nbformat": 4,
 "nbformat_minor": 5
}
