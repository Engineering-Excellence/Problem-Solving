{
 "cells": [
  {
   "cell_type": "markdown",
   "source": [
    "# Day 18 문자열, 수학, 조건문, 정렬"
   ],
   "metadata": {
    "collapsed": false
   },
   "id": "fdf63387b9da63b9"
  },
  {
   "cell_type": "code",
   "outputs": [
    {
     "name": "stdout",
     "output_type": "stream",
     "text": [
      "1\n",
      "2\n",
      "2\n"
     ]
    }
   ],
   "source": [
    "def solution(str1: str, str2: str) -> int:\n",
    "    \"\"\"\n",
    "    문자열안에 문자열\n",
    "    \n",
    "    :param str1: 문자열\n",
    "    :param str2: 문자열\n",
    "    :return: str1 안에 str2가 있다면 1을 없다면 2를 반환\n",
    "    \"\"\"\n",
    "    return 1 if str2 in str1 else 2\n",
    "\n",
    "\n",
    "print(solution(\"ab6CDE443fgh22iJKlmn1o\", \"6CD\"))\n",
    "print(solution(\"ppprrrogrammers\", \"pppp\"))\n",
    "print(solution(\"AbcAbcA\", \"AAA\"))"
   ],
   "metadata": {
    "collapsed": false,
    "ExecuteTime": {
     "end_time": "2024-03-11T15:10:05.303632Z",
     "start_time": "2024-03-11T15:10:05.295993Z"
    }
   },
   "id": "f740730889c1b7ce",
   "execution_count": 1
  },
  {
   "cell_type": "code",
   "outputs": [],
   "source": [],
   "metadata": {
    "collapsed": false
   },
   "id": "9ee662e95540a376"
  }
 ],
 "metadata": {
  "kernelspec": {
   "display_name": "Python 3",
   "language": "python",
   "name": "python3"
  },
  "language_info": {
   "codemirror_mode": {
    "name": "ipython",
    "version": 2
   },
   "file_extension": ".py",
   "mimetype": "text/x-python",
   "name": "python",
   "nbconvert_exporter": "python",
   "pygments_lexer": "ipython2",
   "version": "2.7.6"
  }
 },
 "nbformat": 4,
 "nbformat_minor": 5
}
