{
 "cells": [
  {
   "cell_type": "markdown",
   "source": [
    "# Day 14 조건문, 반복문, 시뮬레이션, 문자열"
   ],
   "metadata": {
    "collapsed": false
   },
   "id": "f2df0f9cbba0f515"
  },
  {
   "cell_type": "code",
   "outputs": [
    {
     "name": "stdout",
     "output_type": "stream",
     "text": [
      "28\n",
      "12\n"
     ]
    }
   ],
   "source": [
    "def solution(array: list, n: int) -> int:\n",
    "    \"\"\"\n",
    "    가까운 수\n",
    "    \n",
    "    :param array: 정수 배열\n",
    "    :param n: 정수\n",
    "    :return: array에 들어있는 정수 중 n과 가장 가까운 수\n",
    "    \"\"\"\n",
    "    # return sorted([(abs(n - i), i) for i in array])[0][1]\n",
    "    return sorted(array, key=lambda x: (abs(x - n), x - n))[0]\n",
    "\n",
    "\n",
    "print(solution([3, 10, 28], 20))\n",
    "print(solution([10, 11, 12], 13))"
   ],
   "metadata": {
    "collapsed": false,
    "ExecuteTime": {
     "end_time": "2024-02-28T10:51:56.569594500Z",
     "start_time": "2024-02-28T10:51:56.550859500Z"
    }
   },
   "id": "1005914da7f10d3e",
   "execution_count": 1
  },
  {
   "cell_type": "code",
   "outputs": [
    {
     "name": "stdout",
     "output_type": "stream",
     "text": [
      "1\n",
      "2\n"
     ]
    }
   ],
   "source": [
    "def solution(order: int) -> int:\n",
    "    \"\"\"\n",
    "    369게임\n",
    "    \n",
    "    :param order: 숫자\n",
    "    :return: 박수 횟수\n",
    "    \"\"\"\n",
    "    # return sum([str(order).count(str(3 * i)) for i in range(1, 4)])\n",
    "    return sum(map(lambda x: str(order).count(x), ['3', '6', '9']))\n",
    "\n",
    "\n",
    "print(solution(3))\n",
    "print(solution(29423))"
   ],
   "metadata": {
    "collapsed": false,
    "ExecuteTime": {
     "end_time": "2024-02-28T10:51:56.570594700Z",
     "start_time": "2024-02-28T10:51:56.555698800Z"
    }
   },
   "id": "90c8baff7b18bac9",
   "execution_count": 2
  },
  {
   "cell_type": "code",
   "outputs": [
    {
     "name": "stdout",
     "output_type": "stream",
     "text": [
      "attack\n",
      "fallback\n"
     ]
    }
   ],
   "source": [
    "def solution(cipher: str, code: int) -> str:\n",
    "    \"\"\"\n",
    "    암호 해독\n",
    "    \n",
    "    :param cipher: 암호화된 문자열\n",
    "    :param code: 정수(배수 번째 글자만 진짜 암호)\n",
    "    :return: 해독된 암호 문자열\n",
    "    \"\"\"\n",
    "    # return ''.join([cipher[code * i - 1] for i in range(1, len(cipher) // code + 1)])\n",
    "    return cipher[code - 1::code]\n",
    "\n",
    "\n",
    "print(solution(\"dfjardstddetckdaccccdegk\", 4))\n",
    "print(solution(\"pfqallllabwaoclk\", 2))"
   ],
   "metadata": {
    "collapsed": false,
    "ExecuteTime": {
     "end_time": "2024-02-28T10:51:56.571538500Z",
     "start_time": "2024-02-28T10:51:56.559604600Z"
    }
   },
   "id": "9905b36f484fab02",
   "execution_count": 3
  },
  {
   "cell_type": "code",
   "outputs": [
    {
     "name": "stdout",
     "output_type": "stream",
     "text": [
      "CCCccc\n",
      "ABcDeFGHij\n"
     ]
    }
   ],
   "source": [
    "def solution(my_string: str) -> str:\n",
    "    \"\"\"\n",
    "    대문자와 소문자\n",
    "    \n",
    "    :param my_string: 문자열\n",
    "    :return: 대문자는 소문자로 소문자는 대문자로 변환한 문자열\n",
    "    \"\"\"\n",
    "    return my_string.swapcase()\n",
    "\n",
    "\n",
    "print(solution(\"cccCCC\"))\n",
    "print(solution(\"abCdEfghIJ\"))"
   ],
   "metadata": {
    "collapsed": false,
    "ExecuteTime": {
     "end_time": "2024-02-28T10:51:56.577052400Z",
     "start_time": "2024-02-28T10:51:56.567594900Z"
    }
   },
   "id": "4bc7cdc6b28ea8a5",
   "execution_count": 4
  },
  {
   "cell_type": "code",
   "outputs": [],
   "source": [],
   "metadata": {
    "collapsed": false
   },
   "id": "8ec854ade3167e8a"
  }
 ],
 "metadata": {
  "kernelspec": {
   "display_name": "Python 3",
   "language": "python",
   "name": "python3"
  },
  "language_info": {
   "codemirror_mode": {
    "name": "ipython",
    "version": 2
   },
   "file_extension": ".py",
   "mimetype": "text/x-python",
   "name": "python",
   "nbconvert_exporter": "python",
   "pygments_lexer": "ipython2",
   "version": "2.7.6"
  }
 },
 "nbformat": 4,
 "nbformat_minor": 5
}
