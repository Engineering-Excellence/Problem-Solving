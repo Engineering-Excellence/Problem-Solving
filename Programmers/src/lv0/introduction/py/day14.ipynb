{
 "cells": [
  {
   "cell_type": "markdown",
   "source": [
    "# Day 14 조건문, 반복문, 시뮬레이션, 문자열"
   ],
   "metadata": {
    "collapsed": false
   },
   "id": "f2df0f9cbba0f515"
  },
  {
   "cell_type": "code",
   "outputs": [
    {
     "name": "stdout",
     "output_type": "stream",
     "text": [
      "28\n",
      "12\n"
     ]
    }
   ],
   "source": [
    "def solution(array: list, n: int) -> int:\n",
    "    \"\"\"\n",
    "    가까운 수\n",
    "    \n",
    "    :param array: 정수 배열\n",
    "    :param n: 정수\n",
    "    :return: array에 들어있는 정수 중 n과 가장 가까운 수\n",
    "    \"\"\"\n",
    "    # return sorted([(abs(n - i), i) for i in array])[0][1]\n",
    "    return sorted(array, key=lambda x: (abs(x - n), x - n))[0]\n",
    "\n",
    "\n",
    "print(solution([3, 10, 28], 20))\n",
    "print(solution([10, 11, 12], 13))"
   ],
   "metadata": {
    "collapsed": false,
    "ExecuteTime": {
     "end_time": "2024-02-24T16:08:40.181860600Z",
     "start_time": "2024-02-24T16:08:40.180351200Z"
    }
   },
   "id": "1005914da7f10d3e",
   "execution_count": 5
  },
  {
   "cell_type": "code",
   "outputs": [
    {
     "name": "stdout",
     "output_type": "stream",
     "text": [
      "1\n",
      "2\n"
     ]
    }
   ],
   "source": [
    "def solution(order: int) -> int:\n",
    "    \"\"\"\n",
    "    369게임\n",
    "    \n",
    "    :param order: 숫자\n",
    "    :return: 박수 횟수\n",
    "    \"\"\"\n",
    "    # return sum([str(order).count(str(3 * i)) for i in range(1, 4)])\n",
    "    return sum(map(lambda x: str(order).count(x), ['3', '6', '9']))\n",
    "\n",
    "\n",
    "print(solution(3))\n",
    "print(solution(29423))"
   ],
   "metadata": {
    "collapsed": false,
    "ExecuteTime": {
     "end_time": "2024-02-25T15:14:16.047717100Z",
     "start_time": "2024-02-25T15:14:16.033203600Z"
    }
   },
   "id": "90c8baff7b18bac9",
   "execution_count": 3
  },
  {
   "cell_type": "code",
   "outputs": [],
   "source": [],
   "metadata": {
    "collapsed": false
   },
   "id": "9905b36f484fab02"
  }
 ],
 "metadata": {
  "kernelspec": {
   "display_name": "Python 3",
   "language": "python",
   "name": "python3"
  },
  "language_info": {
   "codemirror_mode": {
    "name": "ipython",
    "version": 2
   },
   "file_extension": ".py",
   "mimetype": "text/x-python",
   "name": "python",
   "nbconvert_exporter": "python",
   "pygments_lexer": "ipython2",
   "version": "2.7.6"
  }
 },
 "nbformat": 4,
 "nbformat_minor": 5
}
