{
 "cells": [
  {
   "metadata": {},
   "cell_type": "markdown",
   "source": "# Day 24 수학, 시뮬레이션, 문자열, 조건문, 반복문",
   "id": "6e2fe9d6bb3c863"
  },
  {
   "metadata": {
    "ExecuteTime": {
     "end_time": "2024-05-10T15:34:33.823431Z",
     "start_time": "2024-05-10T15:34:33.820163Z"
    }
   },
   "cell_type": "code",
   "source": [
    "def solution(chicken: int) -> int:\n",
    "    \"\"\"\n",
    "    치킨 쿠폰\n",
    "    \n",
    "    :param chicken: 시켜먹은 치킨의 수\n",
    "    :return: 받을 수 있는 최대 서비스 치킨의 수\n",
    "    \"\"\"\n",
    "    # answer = 0\n",
    "    # ticket = chicken\n",
    "    # while True:\n",
    "    #     service, residue = divmod(ticket, 10)\n",
    "    #     answer += service\n",
    "    #     ticket = service + residue\n",
    "    #     if ticket < 10:\n",
    "    #         break\n",
    "    # return answer\n",
    "    return (max(chicken, 1) - 1) // 9\n",
    "\n",
    "\n",
    "print(solution(100))\n",
    "print(solution(1081))"
   ],
   "id": "93d0310362ed5b9b",
   "outputs": [
    {
     "name": "stdout",
     "output_type": "stream",
     "text": [
      "11\n",
      "120\n"
     ]
    }
   ],
   "execution_count": 3
  },
  {
   "metadata": {
    "ExecuteTime": {
     "end_time": "2024-05-13T13:56:35.318812Z",
     "start_time": "2024-05-13T13:56:35.314672Z"
    }
   },
   "cell_type": "code",
   "source": [
    "def solution(bin1: str, bin2: str) -> str:\n",
    "    \"\"\"\n",
    "    이진수 더하기\n",
    "    \n",
    "    :param bin1: 이진수 문자열\n",
    "    :param bin2: 이진수 문자열\n",
    "    :return: 두 이진수의 합\n",
    "    \"\"\"\n",
    "    return bin(int(bin1, 2) + int(bin2, 2))[2:]\n",
    "\n",
    "\n",
    "print(solution(\"10\", \"11\"))\n",
    "print(solution(\"1001\", \"1111\"))"
   ],
   "id": "10a389f4a0932ed5",
   "outputs": [
    {
     "name": "stdout",
     "output_type": "stream",
     "text": [
      "101\n",
      "11000\n"
     ]
    }
   ],
   "execution_count": 3
  },
  {
   "metadata": {
    "ExecuteTime": {
     "end_time": "2024-05-19T10:41:27.971155Z",
     "start_time": "2024-05-19T10:41:27.962300Z"
    }
   },
   "cell_type": "code",
   "source": [
    "def solution(before: str, after: str) -> int:\n",
    "    \"\"\"\n",
    "    A로 B 만들기\n",
    "    \n",
    "    :param before: 문자열\n",
    "    :param after: 문자열\n",
    "    :return: before의 순서를 바꾸어 after를 만들 수 있으면 1을, 만들 수 없으면 0 반환\n",
    "    \"\"\"\n",
    "    return 1 if sorted(before) == sorted(after) else 0\n",
    "\n",
    "\n",
    "print(solution(\"olleh\", \"hello\"))\n",
    "print(solution(\"allpe\", \"apple\"))"
   ],
   "id": "7d6207b61901c73e",
   "outputs": [
    {
     "name": "stdout",
     "output_type": "stream",
     "text": [
      "1\n",
      "0\n"
     ]
    }
   ],
   "execution_count": 5
  },
  {
   "metadata": {},
   "cell_type": "code",
   "outputs": [],
   "execution_count": null,
   "source": "",
   "id": "20a35499668fa988"
  }
 ],
 "metadata": {
  "kernelspec": {
   "display_name": "Python 3",
   "language": "python",
   "name": "python3"
  },
  "language_info": {
   "codemirror_mode": {
    "name": "ipython",
    "version": 2
   },
   "file_extension": ".py",
   "mimetype": "text/x-python",
   "name": "python",
   "nbconvert_exporter": "python",
   "pygments_lexer": "ipython2",
   "version": "2.7.6"
  }
 },
 "nbformat": 4,
 "nbformat_minor": 5
}
