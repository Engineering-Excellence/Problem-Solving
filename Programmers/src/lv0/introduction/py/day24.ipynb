{
 "cells": [
  {
   "metadata": {},
   "cell_type": "markdown",
   "source": "# Day 24 수학, 시뮬레이션, 문자열, 조건문, 반복문",
   "id": "6e2fe9d6bb3c863"
  },
  {
   "metadata": {
    "ExecuteTime": {
     "end_time": "2024-05-10T15:34:33.823431Z",
     "start_time": "2024-05-10T15:34:33.820163Z"
    }
   },
   "cell_type": "code",
   "source": [
    "def solution(chicken: int) -> int:\n",
    "    \"\"\"\n",
    "    치킨 쿠폰\n",
    "    \n",
    "    :param chicken: 시켜먹은 치킨의 수\n",
    "    :return: 받을 수 있는 최대 서비스 치킨의 수\n",
    "    \"\"\"\n",
    "    # answer = 0\n",
    "    # ticket = chicken\n",
    "    # while True:\n",
    "    #     service, residue = divmod(ticket, 10)\n",
    "    #     answer += service\n",
    "    #     ticket = service + residue\n",
    "    #     if ticket < 10:\n",
    "    #         break\n",
    "    # return answer\n",
    "    return (max(chicken, 1) - 1) // 9\n",
    "\n",
    "\n",
    "print(solution(100))\n",
    "print(solution(1081))"
   ],
   "id": "93d0310362ed5b9b",
   "outputs": [
    {
     "name": "stdout",
     "output_type": "stream",
     "text": [
      "11\n",
      "120\n"
     ]
    }
   ],
   "execution_count": 3
  },
  {
   "metadata": {},
   "cell_type": "code",
   "outputs": [],
   "execution_count": null,
   "source": "",
   "id": "10a389f4a0932ed5"
  }
 ],
 "metadata": {
  "kernelspec": {
   "display_name": "Python 3",
   "language": "python",
   "name": "python3"
  },
  "language_info": {
   "codemirror_mode": {
    "name": "ipython",
    "version": 2
   },
   "file_extension": ".py",
   "mimetype": "text/x-python",
   "name": "python",
   "nbconvert_exporter": "python",
   "pygments_lexer": "ipython2",
   "version": "2.7.6"
  }
 },
 "nbformat": 4,
 "nbformat_minor": 5
}
