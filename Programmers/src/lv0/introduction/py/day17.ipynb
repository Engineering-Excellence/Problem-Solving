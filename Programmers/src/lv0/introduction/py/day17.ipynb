{
 "cells": [
  {
   "cell_type": "markdown",
   "source": [
    "# Day 17 문자열, 수학, 조건문, 배열, 사칙연산"
   ],
   "metadata": {
    "collapsed": false
   },
   "id": "7c0dd4b08defdabc"
  },
  {
   "cell_type": "code",
   "outputs": [
    {
     "name": "stdout",
     "output_type": "stream",
     "text": [
      "3\n",
      "4\n",
      "-1\n"
     ]
    }
   ],
   "source": [
    "def solution(num: int, k: int) -> int:\n",
    "    \"\"\"\n",
    "    숫자 찾기\n",
    "    \n",
    "    :param num: 정수\n",
    "    :param k: 정수\n",
    "    :return: num을 이루는 숫자 중에 k가 있으면 num의 그 숫자가 있는 자리 수를, 없으면 -1을 반환\n",
    "    \"\"\"\n",
    "    return -1 if str(k) not in str(num) else str(num).find(str(k)) + 1\n",
    "\n",
    "\n",
    "print(solution(29183, 1))\n",
    "print(solution(232443, 4))\n",
    "print(solution(123456, 7))"
   ],
   "metadata": {
    "collapsed": false,
    "ExecuteTime": {
     "end_time": "2024-03-08T07:47:44.021255Z",
     "start_time": "2024-03-08T07:47:44.014747Z"
    }
   },
   "id": "a323f11b4899dc05",
   "execution_count": 1
  },
  {
   "cell_type": "code",
   "outputs": [],
   "source": [],
   "metadata": {
    "collapsed": false
   },
   "id": "90db84a10b90b7bc"
  }
 ],
 "metadata": {
  "kernelspec": {
   "display_name": "Python 3",
   "language": "python",
   "name": "python3"
  },
  "language_info": {
   "codemirror_mode": {
    "name": "ipython",
    "version": 2
   },
   "file_extension": ".py",
   "mimetype": "text/x-python",
   "name": "python",
   "nbconvert_exporter": "python",
   "pygments_lexer": "ipython2",
   "version": "2.7.6"
  }
 },
 "nbformat": 4,
 "nbformat_minor": 5
}
