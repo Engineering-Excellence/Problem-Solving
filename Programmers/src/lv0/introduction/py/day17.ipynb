{
 "cells": [
  {
   "cell_type": "markdown",
   "source": [
    "# Day 17 문자열, 수학, 조건문, 배열, 사칙연산"
   ],
   "metadata": {
    "collapsed": false
   },
   "id": "7c0dd4b08defdabc"
  },
  {
   "cell_type": "code",
   "outputs": [
    {
     "name": "stdout",
     "output_type": "stream",
     "text": [
      "3\n",
      "4\n",
      "-1\n"
     ]
    }
   ],
   "source": [
    "def solution(num: int, k: int) -> int:\n",
    "    \"\"\"\n",
    "    숫자 찾기\n",
    "    \n",
    "    :param num: 정수\n",
    "    :param k: 정수\n",
    "    :return: num을 이루는 숫자 중에 k가 있으면 num의 그 숫자가 있는 자리 수를, 없으면 -1을 반환\n",
    "    \"\"\"\n",
    "    return -1 if str(k) not in str(num) else str(num).find(str(k)) + 1\n",
    "\n",
    "\n",
    "print(solution(29183, 1))\n",
    "print(solution(232443, 4))\n",
    "print(solution(123456, 7))"
   ],
   "metadata": {
    "collapsed": false,
    "ExecuteTime": {
     "end_time": "2024-03-10T15:15:18.259529Z",
     "start_time": "2024-03-10T15:15:18.252855Z"
    }
   },
   "id": "a323f11b4899dc05",
   "execution_count": 1
  },
  {
   "cell_type": "code",
   "outputs": [
    {
     "name": "stdout",
     "output_type": "stream",
     "text": [
      "[6, 9, 12]\n",
      "[10, 5]\n",
      "[120, 600, 12, 12]\n"
     ]
    }
   ],
   "source": [
    "def solution(n: int, numlist: list) -> list:\n",
    "    \"\"\"\n",
    "    n의 배수 고르기\n",
    "    \n",
    "    :param n: 정수\n",
    "    :param numlist: 정수 배열\n",
    "    :return: numlist에서 n의 배수가 아닌 수들을 제거한 배열\n",
    "    \"\"\"\n",
    "    # return [i for i in numlist if i % n == 0]\n",
    "    return list(filter(lambda v: v % n == 0, numlist))\n",
    "\n",
    "\n",
    "print(solution(3, [4, 5, 6, 7, 8, 9, 10, 11, 12]))\n",
    "print(solution(5, [1, 9, 3, 10, 13, 5]))\n",
    "print(solution(12, [2, 100, 120, 600, 12, 12]))"
   ],
   "metadata": {
    "collapsed": false,
    "ExecuteTime": {
     "end_time": "2024-03-10T15:15:18.265481Z",
     "start_time": "2024-03-10T15:15:18.259529Z"
    }
   },
   "id": "90db84a10b90b7bc",
   "execution_count": 2
  },
  {
   "cell_type": "code",
   "outputs": [
    {
     "name": "stdout",
     "output_type": "stream",
     "text": [
      "10\n",
      "16\n"
     ]
    }
   ],
   "source": [
    "def solution(n: int) -> int:\n",
    "    \"\"\"\n",
    "    자릿수 더하기\n",
    "    \n",
    "    :param n: 정수\n",
    "    :return: n의 각 자리 숫자의 합\n",
    "    \"\"\"\n",
    "    return sum(map(int, str(n)))\n",
    "\n",
    "\n",
    "print(solution(1234))\n",
    "print(solution(930211))"
   ],
   "metadata": {
    "collapsed": false,
    "ExecuteTime": {
     "end_time": "2024-03-10T15:15:18.272324Z",
     "start_time": "2024-03-10T15:15:18.265481Z"
    }
   },
   "id": "198b1e840c27b9f",
   "execution_count": 3
  },
  {
   "cell_type": "code",
   "outputs": [
    {
     "name": "stdout",
     "output_type": "stream",
     "text": [
      "['X', 'O']\n",
      "['O', 'O', 'X', 'O']\n"
     ]
    }
   ],
   "source": [
    "def solution(quiz: list) -> list:\n",
    "    \"\"\"\n",
    "    OX퀴즈\n",
    "    \n",
    "    :param quiz: 덧셈, 뺄셈 수식들이 'X [연산자] Y = Z' 형태로 들어있는 문자열 배열\n",
    "    :return: 수식이 옳다면 \"O\"를 틀리다면 \"X\"를 순서대로 담은 배열\n",
    "    \"\"\"\n",
    "    # answer = []\n",
    "    # for q in quiz:\n",
    "    #     s = q.split('=')\n",
    "    #     answer.append('O' if eval(s[0]) == int(s[1]) else 'X')\n",
    "    # return answer\n",
    "    return [\"O\" if eval(equation.replace('=', '==')) else \"X\" for equation in quiz]\n",
    "\n",
    "\n",
    "print(solution([\"3 - 4 = -3\", \"5 + 6 = 11\"]))\n",
    "print(solution([\"19 - 6 = 13\", \"5 + 66 = 71\", \"5 - 15 = 63\", \"3 - 1 = 2\"]))"
   ],
   "metadata": {
    "collapsed": false,
    "ExecuteTime": {
     "end_time": "2024-03-10T15:15:18.279196Z",
     "start_time": "2024-03-10T15:15:18.273329Z"
    }
   },
   "id": "77e647829e6d394a",
   "execution_count": 4
  },
  {
   "cell_type": "code",
   "outputs": [],
   "source": [],
   "metadata": {
    "collapsed": false
   },
   "id": "6cb3b107a6e5ab8f"
  }
 ],
 "metadata": {
  "kernelspec": {
   "display_name": "Python 3",
   "language": "python",
   "name": "python3"
  },
  "language_info": {
   "codemirror_mode": {
    "name": "ipython",
    "version": 2
   },
   "file_extension": ".py",
   "mimetype": "text/x-python",
   "name": "python",
   "nbconvert_exporter": "python",
   "pygments_lexer": "ipython2",
   "version": "2.7.6"
  }
 },
 "nbformat": 4,
 "nbformat_minor": 5
}
