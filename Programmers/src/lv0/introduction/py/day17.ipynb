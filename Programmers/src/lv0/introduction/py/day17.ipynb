{
 "cells": [
  {
   "cell_type": "markdown",
   "source": [
    "# Day 17 문자열, 수학, 조건문, 배열, 사칙연산"
   ],
   "metadata": {
    "collapsed": false
   },
   "id": "7c0dd4b08defdabc"
  },
  {
   "cell_type": "code",
   "outputs": [
    {
     "name": "stdout",
     "output_type": "stream",
     "text": [
      "3\n",
      "4\n",
      "-1\n"
     ]
    }
   ],
   "source": [
    "def solution(num: int, k: int) -> int:\n",
    "    \"\"\"\n",
    "    숫자 찾기\n",
    "    \n",
    "    :param num: 정수\n",
    "    :param k: 정수\n",
    "    :return: num을 이루는 숫자 중에 k가 있으면 num의 그 숫자가 있는 자리 수를, 없으면 -1을 반환\n",
    "    \"\"\"\n",
    "    return -1 if str(k) not in str(num) else str(num).find(str(k)) + 1\n",
    "\n",
    "\n",
    "print(solution(29183, 1))\n",
    "print(solution(232443, 4))\n",
    "print(solution(123456, 7))"
   ],
   "metadata": {
    "collapsed": false,
    "ExecuteTime": {
     "end_time": "2024-03-08T07:47:44.021255Z",
     "start_time": "2024-03-08T07:47:44.014747Z"
    }
   },
   "id": "a323f11b4899dc05",
   "execution_count": 1
  },
  {
   "cell_type": "code",
   "outputs": [
    {
     "name": "stdout",
     "output_type": "stream",
     "text": [
      "[6, 9, 12]\n",
      "[10, 5]\n",
      "[120, 600, 12, 12]\n"
     ]
    }
   ],
   "source": [
    "def solution(n: int, numlist: list) -> list:\n",
    "    \"\"\"\n",
    "    n의 배수 고르기\n",
    "    \n",
    "    :param n: 정수\n",
    "    :param numlist: 정수 배열\n",
    "    :return: numlist에서 n의 배수가 아닌 수들을 제거한 배열\n",
    "    \"\"\"\n",
    "    # return [i for i in numlist if i % n == 0]\n",
    "    return list(filter(lambda v: v % n == 0, numlist))\n",
    "\n",
    "\n",
    "print(solution(3, [4, 5, 6, 7, 8, 9, 10, 11, 12]))\n",
    "print(solution(5, [1, 9, 3, 10, 13, 5]))\n",
    "print(solution(12, [2, 100, 120, 600, 12, 12]))"
   ],
   "metadata": {
    "collapsed": false,
    "ExecuteTime": {
     "end_time": "2024-03-09T14:55:57.490718Z",
     "start_time": "2024-03-09T14:55:57.482610Z"
    }
   },
   "id": "90db84a10b90b7bc",
   "execution_count": 1
  },
  {
   "cell_type": "code",
   "outputs": [],
   "source": [],
   "metadata": {
    "collapsed": false
   },
   "id": "198b1e840c27b9f"
  }
 ],
 "metadata": {
  "kernelspec": {
   "display_name": "Python 3",
   "language": "python",
   "name": "python3"
  },
  "language_info": {
   "codemirror_mode": {
    "name": "ipython",
    "version": 2
   },
   "file_extension": ".py",
   "mimetype": "text/x-python",
   "name": "python",
   "nbconvert_exporter": "python",
   "pygments_lexer": "ipython2",
   "version": "2.7.6"
  }
 },
 "nbformat": 4,
 "nbformat_minor": 5
}
