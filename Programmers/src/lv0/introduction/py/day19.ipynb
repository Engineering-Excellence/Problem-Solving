{
 "cells": [
  {
   "cell_type": "markdown",
   "source": [
    "# Day 19 문자열, 배열, 조건문"
   ],
   "metadata": {
    "collapsed": false
   },
   "id": "280f073165ec817a"
  },
  {
   "cell_type": "code",
   "outputs": [
    {
     "name": "stdout",
     "output_type": "stream",
     "text": [
      "4\n",
      "0\n"
     ]
    }
   ],
   "source": [
    "def solution(array: list) -> int:\n",
    "    \"\"\"\n",
    "    7의 개수\n",
    "    \n",
    "    :param array: 정수 배열\n",
    "    :return: 7이 총 몇 개 있는지 반환\n",
    "    \"\"\"\n",
    "    # return sum([s.count('7') for s in list(map(str, array))])\n",
    "    return str(array).count('7')\n",
    "\n",
    "\n",
    "print(solution([7, 77, 17]))\n",
    "print(solution([10, 29]))"
   ],
   "metadata": {
    "collapsed": false,
    "ExecuteTime": {
     "end_time": "2024-03-15T16:00:57.356448Z",
     "start_time": "2024-03-15T16:00:57.352847Z"
    }
   },
   "id": "7013deeb29d242cd",
   "execution_count": 2
  },
  {
   "cell_type": "code",
   "outputs": [],
   "source": [],
   "metadata": {
    "collapsed": false
   },
   "id": "f145269a95d8271b"
  }
 ],
 "metadata": {
  "kernelspec": {
   "display_name": "Python 3",
   "language": "python",
   "name": "python3"
  },
  "language_info": {
   "codemirror_mode": {
    "name": "ipython",
    "version": 2
   },
   "file_extension": ".py",
   "mimetype": "text/x-python",
   "name": "python",
   "nbconvert_exporter": "python",
   "pygments_lexer": "ipython2",
   "version": "2.7.6"
  }
 },
 "nbformat": 4,
 "nbformat_minor": 5
}
