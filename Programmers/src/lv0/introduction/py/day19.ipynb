{
 "cells": [
  {
   "cell_type": "markdown",
   "source": [
    "# Day 19 문자열, 배열, 조건문"
   ],
   "metadata": {
    "collapsed": false
   },
   "id": "280f073165ec817a"
  },
  {
   "cell_type": "code",
   "outputs": [
    {
     "name": "stdout",
     "output_type": "stream",
     "text": [
      "4\n",
      "0\n"
     ]
    }
   ],
   "source": [
    "def solution(array: list) -> int:\n",
    "    \"\"\"\n",
    "    7의 개수\n",
    "    \n",
    "    :param array: 정수 배열\n",
    "    :return: 7이 총 몇 개 있는지 반환\n",
    "    \"\"\"\n",
    "    # return sum([s.count('7') for s in list(map(str, array))])\n",
    "    return str(array).count('7')\n",
    "\n",
    "\n",
    "print(solution([7, 77, 17]))\n",
    "print(solution([10, 29]))"
   ],
   "metadata": {
    "collapsed": false,
    "ExecuteTime": {
     "end_time": "2024-03-15T16:00:57.356448Z",
     "start_time": "2024-03-15T16:00:57.352847Z"
    }
   },
   "id": "7013deeb29d242cd",
   "execution_count": 2
  },
  {
   "cell_type": "code",
   "outputs": [
    {
     "name": "stdout",
     "output_type": "stream",
     "text": [
      "['abc1Ad', 'dfggg4', '556b']\n",
      "['abc', 'def', '123']\n"
     ]
    }
   ],
   "source": [
    "def solution(my_str: str, n: int) -> list:\n",
    "    \"\"\"\n",
    "    잘라서 배열로 저장하기\n",
    "    \n",
    "    :param my_str: 문자열\n",
    "    :param n: 정수\n",
    "    :return: my_str을 길이 n씩 잘라서 저장한 배열\n",
    "    \"\"\"\n",
    "    return [my_str[i:i + n] for i in range(0, len(my_str), n)]\n",
    "\n",
    "\n",
    "print(solution(\"abc1Addfggg4556b\", 6))\n",
    "print(solution(\"abcdef123\", 3))"
   ],
   "metadata": {
    "collapsed": false,
    "ExecuteTime": {
     "end_time": "2024-03-17T04:42:41.912276Z",
     "start_time": "2024-03-17T04:42:41.905352Z"
    }
   },
   "id": "f145269a95d8271b",
   "execution_count": 1
  },
  {
   "cell_type": "code",
   "outputs": [],
   "source": [],
   "metadata": {
    "collapsed": false
   },
   "id": "2972bfbfb67757ed"
  }
 ],
 "metadata": {
  "kernelspec": {
   "display_name": "Python 3",
   "language": "python",
   "name": "python3"
  },
  "language_info": {
   "codemirror_mode": {
    "name": "ipython",
    "version": 2
   },
   "file_extension": ".py",
   "mimetype": "text/x-python",
   "name": "python",
   "nbconvert_exporter": "python",
   "pygments_lexer": "ipython2",
   "version": "2.7.6"
  }
 },
 "nbformat": 4,
 "nbformat_minor": 5
}
