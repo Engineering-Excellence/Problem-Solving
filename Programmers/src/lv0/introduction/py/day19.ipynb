{
 "cells": [
  {
   "cell_type": "markdown",
   "id": "280f073165ec817a",
   "metadata": {},
   "source": [
    "# Day 19 문자열, 배열, 조건문"
   ]
  },
  {
   "cell_type": "code",
   "execution_count": 1,
   "id": "7013deeb29d242cd",
   "metadata": {
    "ExecuteTime": {
     "end_time": "2024-03-18T15:01:41.717107Z",
     "start_time": "2024-03-18T15:01:41.712324Z"
    }
   },
   "outputs": [
    {
     "name": "stdout",
     "output_type": "stream",
     "text": [
      "4\n",
      "0\n"
     ]
    }
   ],
   "source": [
    "def solution(array: list) -> int:\n",
    "    \"\"\"\n",
    "    7의 개수\n",
    "    \n",
    "    :param array: 정수 배열\n",
    "    :return: 7이 총 몇 개 있는지 반환\n",
    "    \"\"\"\n",
    "    # return sum([s.count('7') for s in list(map(str, array))])\n",
    "    return str(array).count('7')\n",
    "\n",
    "\n",
    "print(solution([7, 77, 17]))\n",
    "print(solution([10, 29]))"
   ]
  },
  {
   "cell_type": "code",
   "execution_count": 2,
   "id": "f145269a95d8271b",
   "metadata": {
    "ExecuteTime": {
     "end_time": "2024-03-18T15:01:41.721428Z",
     "start_time": "2024-03-18T15:01:41.718564Z"
    }
   },
   "outputs": [
    {
     "name": "stdout",
     "output_type": "stream",
     "text": [
      "['abc1Ad', 'dfggg4', '556b']\n",
      "['abc', 'def', '123']\n"
     ]
    }
   ],
   "source": [
    "def solution(my_str: str, n: int) -> list:\n",
    "    \"\"\"\n",
    "    잘라서 배열로 저장하기\n",
    "    \n",
    "    :param my_str: 문자열\n",
    "    :param n: 정수\n",
    "    :return: my_str을 길이 n씩 잘라서 저장한 배열\n",
    "    \"\"\"\n",
    "    return [my_str[i:i + n] for i in range(0, len(my_str), n)]\n",
    "\n",
    "\n",
    "print(solution(\"abc1Addfggg4556b\", 6))\n",
    "print(solution(\"abcdef123\", 3))"
   ]
  },
  {
   "cell_type": "code",
   "execution_count": 3,
   "id": "2972bfbfb67757ed",
   "metadata": {
    "ExecuteTime": {
     "end_time": "2024-03-18T15:01:41.725034Z",
     "start_time": "2024-03-18T15:01:41.722135Z"
    }
   },
   "outputs": [
    {
     "name": "stdout",
     "output_type": "stream",
     "text": [
      "2\n",
      "0\n"
     ]
    }
   ],
   "source": [
    "def solution(array: list, n: int) -> int:\n",
    "    \"\"\"\n",
    "    중복된 숫자 개수\n",
    "    \n",
    "    :param array: 정수가 담긴 배열\n",
    "    :param n: 정수\n",
    "    :return: array에 n이 몇 개 있는 지를 반환\n",
    "    \"\"\"\n",
    "    return array.count(n)\n",
    "\n",
    "\n",
    "print(solution([1, 1, 2, 3, 4, 5], 1))\n",
    "print(solution([0, 2, 3, 4], 1))"
   ]
  },
  {
   "cell_type": "code",
   "execution_count": 4,
   "id": "e9b1ceb0b7ecd341",
   "metadata": {
    "ExecuteTime": {
     "end_time": "2024-03-18T15:01:41.728631Z",
     "start_time": "2024-03-18T15:01:41.725794Z"
    }
   },
   "outputs": [
    {
     "name": "stdout",
     "output_type": "stream",
     "text": [
      "3\n",
      "0\n"
     ]
    }
   ],
   "source": [
    "def solution(array: list, height: int) -> int:\n",
    "    \"\"\"\n",
    "    머쓱이보다 키 큰 사람\n",
    "    \n",
    "    :param array: 머쓱이네 반 친구들의 키가 담긴 정수 배열\n",
    "    :param height: 머쓱이의 키\n",
    "    :return: 머쓱이보다 키 큰 사람 수\n",
    "    \"\"\"\n",
    "    # return len(list(filter(lambda x: x > height, array)))\n",
    "    return sum(1 for a in array if a > height)\n",
    "\n",
    "\n",
    "print(solution([149, 180, 192, 170], 167))\n",
    "print(solution([180, 120, 140], 190))"
   ]
  },
  {
   "cell_type": "code",
   "execution_count": null,
   "id": "a3fac5de732a0123",
   "metadata": {},
   "outputs": [],
   "source": []
  }
 ],
 "metadata": {
  "kernelspec": {
   "display_name": "Python 3 (ipykernel)",
   "language": "python",
   "name": "python3"
  },
  "language_info": {
   "codemirror_mode": {
    "name": "ipython",
    "version": 3
   },
   "file_extension": ".py",
   "mimetype": "text/x-python",
   "name": "python",
   "nbconvert_exporter": "python",
   "pygments_lexer": "ipython3",
   "version": "3.11.5"
  }
 },
 "nbformat": 4,
 "nbformat_minor": 5
}
