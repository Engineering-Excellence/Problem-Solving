{
 "cells": [
  {
   "metadata": {},
   "cell_type": "markdown",
   "source": "# Day 23 배열, 정렬, 문자열",
   "id": "8cc6e403beec9b7"
  },
  {
   "metadata": {
    "ExecuteTime": {
     "end_time": "2024-05-10T15:30:31.677334Z",
     "start_time": "2024-05-10T15:30:31.669682Z"
    }
   },
   "cell_type": "code",
   "source": [
    "def solution(numlist: list, n: int) -> list:\n",
    "    \"\"\"\n",
    "    특이한 정렬\n",
    "    \n",
    "    :param numlist: 정수가 담긴 배열\n",
    "    :param n: 정수\n",
    "    :return: numlist의 원소를 n으로부터 가까운 순서대로 정렬한 배열\n",
    "    \"\"\"\n",
    "    return sorted(numlist, key=lambda x: (abs(x - n), -x))\n",
    "\n",
    "\n",
    "print(solution([1, 2, 3, 4, 5, 6], 4))\n",
    "print(solution([10000, 20, 36, 47, 40, 6, 10, 7000], 30))"
   ],
   "id": "6dfa7fa2dbb5108e",
   "outputs": [
    {
     "name": "stdout",
     "output_type": "stream",
     "text": [
      "[4, 5, 3, 6, 2, 1]\n",
      "[36, 40, 20, 47, 10, 6, 7000, 10000]\n"
     ]
    }
   ],
   "execution_count": 1
  },
  {
   "metadata": {
    "ExecuteTime": {
     "end_time": "2024-05-10T15:30:31.692101Z",
     "start_time": "2024-05-10T15:30:31.677334Z"
    }
   },
   "cell_type": "code",
   "source": [
    "def solution(score: list) -> list:\n",
    "    \"\"\"\n",
    "    등수 매기기\n",
    "    \n",
    "    :param score: 영어 점수와 수학 점수를 담은 2차원 정수 배열\n",
    "    :return: 영어 점수와 수학 점수의 평균을 기준으로 매긴 등수를 담은 배열\n",
    "    \"\"\"\n",
    "    total = sorted([sum(s) for s in score], reverse=True)\n",
    "    return [total.index(sum(i)) + 1 for i in score]\n",
    "\n",
    "\n",
    "print(solution([[80, 70], [90, 50], [40, 70], [50, 80]]))\n",
    "print(solution([[80, 70], [70, 80], [30, 50], [90, 100], [100, 90], [100, 100], [10, 30]]))"
   ],
   "id": "fa42875ba519e377",
   "outputs": [
    {
     "name": "stdout",
     "output_type": "stream",
     "text": [
      "[1, 2, 4, 3]\n",
      "[4, 4, 6, 2, 2, 1, 7]\n"
     ]
    }
   ],
   "execution_count": 2
  },
  {
   "metadata": {
    "ExecuteTime": {
     "end_time": "2024-05-10T15:30:31.699611Z",
     "start_time": "2024-05-10T15:30:31.692101Z"
    }
   },
   "cell_type": "code",
   "source": [
    "# from itertools import permutations\n",
    "from re import compile\n",
    "\n",
    "\n",
    "def solution(babbling: list) -> int:\n",
    "    \"\"\"\n",
    "    옹알이 (1)\n",
    "    :param babbling: 문자열 배열\n",
    "    :return: 머쓱이의 조카가 발음할 수 있는 단어의 개수\n",
    "    \"\"\"\n",
    "    cnt = 0\n",
    "    # words = set()\n",
    "    # for i in range(1, 5):\n",
    "    #     words.update(map(''.join, permutations([\"aya\", \"ye\", \"woo\", \"ma\"], i)))\n",
    "    # for babble in babbling:\n",
    "    #     if babble in words:\n",
    "    #         cnt += 1\n",
    "    regex = compile('^(aya|ye|woo|ma)+$')\n",
    "    for babble in babbling:\n",
    "        if regex.match(babble):\n",
    "            cnt += 1\n",
    "    return cnt\n",
    "\n",
    "\n",
    "print(solution([\"aya\", \"yee\", \"u\", \"maa\", \"wyeoo\"]))\n",
    "print(solution([\"ayaye\", \"uuuma\", \"ye\", \"yemawoo\", \"ayaa\"]))\n",
    "print(solution([\"aya\", \"aya\"]))"
   ],
   "id": "40217529ca458021",
   "outputs": [
    {
     "name": "stdout",
     "output_type": "stream",
     "text": [
      "1\n",
      "3\n",
      "2\n"
     ]
    }
   ],
   "execution_count": 3
  },
  {
   "metadata": {
    "ExecuteTime": {
     "end_time": "2024-05-10T15:30:31.706537Z",
     "start_time": "2024-05-10T15:30:31.699611Z"
    }
   },
   "cell_type": "code",
   "source": [
    "def solution(id_pw: list, db: list) -> str:\n",
    "    \"\"\"\n",
    "    로그인 성공?\n",
    "    \n",
    "    :param id_pw: 아이디와 패스워드가 담긴 배열\n",
    "    :param db: 회원들의 정보가 담긴 2차원 배열\n",
    "    :return: 로그인 성공, 실패에 따른 메시지\n",
    "    \"\"\"\n",
    "    # for i, (ac, pw) in enumerate(db):\n",
    "    #     if ac == id_pw[0]:\n",
    "    #         if pw != id_pw[1]:\n",
    "    #             return \"wrong pw\"\n",
    "    #         else:\n",
    "    #             return \"login\"\n",
    "    #     else:\n",
    "    #         continue\n",
    "    # return \"fail\"\n",
    "    if db_pw := dict(db).get(id_pw[0]):\n",
    "        return \"login\" if db_pw == id_pw[1] else \"wrong pw\"\n",
    "    return \"fail\"\n",
    "\n",
    "\n",
    "print(solution([\"meosseugi\", \"1234\"], [[\"rardss\", \"123\"], [\"yyoom\", \"1234\"], [\"meosseugi\", \"1234\"]]))\n",
    "print(solution([\"programmer01\", \"15789\"], [[\"programmer02\", \"111111\"], [\"programmer00\", \"134\"], [\"programmer01\", \"1145\"]]))\n",
    "print(solution([\"rabbit04\", \"98761\"], [[\"jaja11\", \"98761\"], [\"krong0313\", \"29440\"], [\"rabbit00\", \"111333\"]]))"
   ],
   "id": "ade1007696c28bb7",
   "outputs": [
    {
     "name": "stdout",
     "output_type": "stream",
     "text": [
      "login\n",
      "wrong pw\n",
      "fail\n"
     ]
    }
   ],
   "execution_count": 4
  },
  {
   "metadata": {
    "ExecuteTime": {
     "end_time": "2024-05-10T15:30:31.709541Z",
     "start_time": "2024-05-10T15:30:31.707544Z"
    }
   },
   "cell_type": "code",
   "source": "",
   "id": "54a12b6746c1dde7",
   "outputs": [],
   "execution_count": 4
  }
 ],
 "metadata": {
  "kernelspec": {
   "display_name": "Python 3",
   "language": "python",
   "name": "python3"
  },
  "language_info": {
   "codemirror_mode": {
    "name": "ipython",
    "version": 2
   },
   "file_extension": ".py",
   "mimetype": "text/x-python",
   "name": "python",
   "nbconvert_exporter": "python",
   "pygments_lexer": "ipython2",
   "version": "2.7.6"
  }
 },
 "nbformat": 4,
 "nbformat_minor": 5
}
