{
 "cells": [
  {
   "metadata": {},
   "cell_type": "markdown",
   "source": "# Day 23 배열, 정렬, 문자열",
   "id": "8cc6e403beec9b7"
  },
  {
   "metadata": {
    "ExecuteTime": {
     "end_time": "2024-04-17T14:57:09.457946Z",
     "start_time": "2024-04-17T14:57:09.450078Z"
    }
   },
   "cell_type": "code",
   "source": [
    "def solution(numlist: list, n: int) -> list:\n",
    "    \"\"\"\n",
    "    특이한 정렬\n",
    "    \n",
    "    :param numlist: 정수가 담긴 배열\n",
    "    :param n: 정수\n",
    "    :return: numlist의 원소를 n으로부터 가까운 순서대로 정렬한 배열\n",
    "    \"\"\"\n",
    "    return sorted(numlist, key=lambda x: (abs(x - n), -x))\n",
    "\n",
    "\n",
    "print(solution([1, 2, 3, 4, 5, 6], 4))\n",
    "print(solution([10000, 20, 36, 47, 40, 6, 10, 7000], 30))"
   ],
   "id": "6dfa7fa2dbb5108e",
   "outputs": [
    {
     "name": "stdout",
     "output_type": "stream",
     "text": [
      "[4, 5, 3, 6, 2, 1]\n",
      "[36, 40, 20, 47, 10, 6, 7000, 10000]\n"
     ]
    }
   ],
   "execution_count": 1
  },
  {
   "metadata": {},
   "cell_type": "code",
   "outputs": [],
   "execution_count": null,
   "source": "",
   "id": "fa42875ba519e377"
  }
 ],
 "metadata": {
  "kernelspec": {
   "display_name": "Python 3",
   "language": "python",
   "name": "python3"
  },
  "language_info": {
   "codemirror_mode": {
    "name": "ipython",
    "version": 2
   },
   "file_extension": ".py",
   "mimetype": "text/x-python",
   "name": "python",
   "nbconvert_exporter": "python",
   "pygments_lexer": "ipython2",
   "version": "2.7.6"
  }
 },
 "nbformat": 4,
 "nbformat_minor": 5
}
