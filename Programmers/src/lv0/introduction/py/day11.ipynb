{
 "cells": [
  {
   "cell_type": "markdown",
   "source": [
    "# Day 11 수학, 반복문"
   ],
   "metadata": {
    "collapsed": false
   },
   "id": "7ccede0d3d913984"
  },
  {
   "cell_type": "code",
   "execution_count": 1,
   "outputs": [
    {
     "name": "stdout",
     "output_type": "stream",
     "text": [
      "1\n",
      "12\n"
     ]
    }
   ],
   "source": [
    "# 주사위의 개수\n",
    "def solution(box, n):\n",
    "    x, y, z = box\n",
    "    return (x // n) * (y // n) * (z // n)\n",
    "\n",
    "\n",
    "print(solution([1, 1, 1], 1))\n",
    "print(solution([10, 8, 6], 3))"
   ],
   "metadata": {
    "collapsed": false,
    "ExecuteTime": {
     "end_time": "2023-12-31T15:55:00.695203Z",
     "start_time": "2023-12-31T15:55:00.691333Z"
    }
   },
   "id": "3c97718a21e852f7"
  },
  {
   "cell_type": "code",
   "outputs": [
    {
     "name": "stdout",
     "output_type": "stream",
     "text": [
      "5\n",
      "8\n"
     ]
    }
   ],
   "source": [
    "# 합성수 찾기\n",
    "def solution(n):\n",
    "    cnt = 0\n",
    "    for i in range(4, n + 1):\n",
    "        for j in range(2, int(i ** 0.5) + 1):\n",
    "            if i % j == 0:\n",
    "                cnt += 1\n",
    "                break\n",
    "    return cnt\n",
    "\n",
    "\n",
    "print(solution(10))\n",
    "print(solution(15))"
   ],
   "metadata": {
    "collapsed": false,
    "ExecuteTime": {
     "end_time": "2023-12-31T15:55:00.698618Z",
     "start_time": "2023-12-31T15:55:00.695297Z"
    }
   },
   "id": "804d63777ac62bde",
   "execution_count": 2
  },
  {
   "cell_type": "code",
   "outputs": [
    {
     "name": "stdout",
     "output_type": "stream",
     "text": [
      "20\n",
      "744\n"
     ]
    }
   ],
   "source": [
    "# 최댓값 만들기(1)\n",
    "def solution(numbers):\n",
    "    numbers.sort()\n",
    "    return numbers[-2] * numbers[-1]\n",
    "\n",
    "\n",
    "print(solution([1, 2, 3, 4, 5]))\n",
    "print(solution([0, 31, 24, 10, 1, 9]))"
   ],
   "metadata": {
    "collapsed": false,
    "ExecuteTime": {
     "end_time": "2023-12-31T15:55:00.702071Z",
     "start_time": "2023-12-31T15:55:00.699005Z"
    }
   },
   "id": "59e2f3a05286a53b",
   "execution_count": 3
  },
  {
   "cell_type": "code",
   "outputs": [
    {
     "name": "stdout",
     "output_type": "stream",
     "text": [
      "10\n",
      "3\n"
     ]
    }
   ],
   "source": [
    "# 팩토리얼\n",
    "def solution(n):\n",
    "    f = 1\n",
    "    i = 1\n",
    "    while f <= n:\n",
    "        i += 1\n",
    "        f *= i\n",
    "    return i - 1\n",
    "\n",
    "\n",
    "print(solution(3628800))\n",
    "print(solution(7))"
   ],
   "metadata": {
    "collapsed": false,
    "ExecuteTime": {
     "end_time": "2023-12-31T15:55:00.712651Z",
     "start_time": "2023-12-31T15:55:00.702895Z"
    }
   },
   "id": "1073b35b841523de",
   "execution_count": 4
  },
  {
   "cell_type": "code",
   "outputs": [],
   "source": [],
   "metadata": {
    "collapsed": false,
    "ExecuteTime": {
     "end_time": "2023-12-31T15:55:00.712972Z",
     "start_time": "2023-12-31T15:55:00.705731Z"
    }
   },
   "id": "463c6e5c2b6d6246",
   "execution_count": 4
  }
 ],
 "metadata": {
  "kernelspec": {
   "display_name": "Python 3",
   "language": "python",
   "name": "python3"
  },
  "language_info": {
   "codemirror_mode": {
    "name": "ipython",
    "version": 2
   },
   "file_extension": ".py",
   "mimetype": "text/x-python",
   "name": "python",
   "nbconvert_exporter": "python",
   "pygments_lexer": "ipython2",
   "version": "2.7.6"
  }
 },
 "nbformat": 4,
 "nbformat_minor": 5
}
