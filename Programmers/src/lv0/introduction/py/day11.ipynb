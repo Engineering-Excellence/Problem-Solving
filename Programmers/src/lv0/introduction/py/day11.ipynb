{
 "cells": [
  {
   "cell_type": "markdown",
   "source": [
    "# Day 11 수학, 반복문"
   ],
   "metadata": {
    "collapsed": false
   },
   "id": "7ccede0d3d913984"
  },
  {
   "cell_type": "code",
   "execution_count": 2,
   "outputs": [
    {
     "name": "stdout",
     "output_type": "stream",
     "text": [
      "1\n",
      "12\n"
     ]
    }
   ],
   "source": [
    "def solution(box, n):\n",
    "    \"\"\"\n",
    "    주사위의 개수\n",
    "    \n",
    "    :param box: 상자의 가로, 세로, 높이가 저장되어있는 배열\n",
    "    :param n: 주사위 모서리의 길이 정수\n",
    "    :return: 상자에 들어갈 수 있는 주사위의 최대 개수\n",
    "    \"\"\"\n",
    "    x, y, z = box\n",
    "    return (x // n) * (y // n) * (z // n)\n",
    "\n",
    "\n",
    "print(solution([1, 1, 1], 1))\n",
    "print(solution([10, 8, 6], 3))"
   ],
   "metadata": {
    "collapsed": false,
    "ExecuteTime": {
     "end_time": "2023-12-29T14:59:49.292570Z",
     "start_time": "2023-12-29T14:59:49.289349Z"
    }
   },
   "id": "3c97718a21e852f7"
  },
  {
   "cell_type": "code",
   "outputs": [
    {
     "name": "stdout",
     "output_type": "stream",
     "text": [
      "5\n",
      "8\n"
     ]
    }
   ],
   "source": [
    "def solution(n):\n",
    "    \"\"\"\n",
    "    합성수 찾기\n",
    "    \n",
    "    :param n: 자연수\n",
    "    :return: 합성수의 개수\n",
    "    \"\"\"\n",
    "    cnt = 0\n",
    "    for i in range(4, n + 1):\n",
    "        for j in range(2, int(i ** 0.5) + 1):\n",
    "            if i % j == 0:\n",
    "                cnt += 1\n",
    "                break\n",
    "    return cnt\n",
    "\n",
    "\n",
    "print(solution(10))\n",
    "print(solution(15))"
   ],
   "metadata": {
    "collapsed": false,
    "ExecuteTime": {
     "end_time": "2023-12-29T15:10:31.283848Z",
     "start_time": "2023-12-29T15:10:31.278978Z"
    }
   },
   "id": "804d63777ac62bde",
   "execution_count": 4
  },
  {
   "cell_type": "code",
   "outputs": [],
   "source": [],
   "metadata": {
    "collapsed": false
   },
   "id": "59e2f3a05286a53b"
  }
 ],
 "metadata": {
  "kernelspec": {
   "display_name": "Python 3",
   "language": "python",
   "name": "python3"
  },
  "language_info": {
   "codemirror_mode": {
    "name": "ipython",
    "version": 2
   },
   "file_extension": ".py",
   "mimetype": "text/x-python",
   "name": "python",
   "nbconvert_exporter": "python",
   "pygments_lexer": "ipython2",
   "version": "2.7.6"
  }
 },
 "nbformat": 4,
 "nbformat_minor": 5
}
