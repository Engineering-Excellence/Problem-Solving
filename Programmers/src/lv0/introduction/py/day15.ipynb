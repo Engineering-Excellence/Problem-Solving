{
 "cells": [
  {
   "cell_type": "markdown",
   "id": "809c18b8aa30d811",
   "metadata": {},
   "source": [
    "# Day 15 문자열, 해시, 배열, 수학"
   ]
  },
  {
   "cell_type": "code",
   "execution_count": 1,
   "id": "c147e211cb6d8ef1",
   "metadata": {
    "ExecuteTime": {
     "end_time": "2024-03-02T12:14:27.785047Z",
     "start_time": "2024-03-02T12:14:27.780050800Z"
    }
   },
   "outputs": [
    {
     "name": "stdout",
     "output_type": "stream",
     "text": [
      "123456789\n",
      "14067\n"
     ]
    }
   ],
   "source": [
    "def solution(numbers: str) -> int:\n",
    "    \"\"\"\n",
    "    영어가 싫어요\n",
    "    \n",
    "    :param numbers: 문자열\n",
    "    :return: numbers를 정수로 바꿔 반환\n",
    "    \"\"\"\n",
    "    for num, eng in enumerate([\"zero\", \"one\", \"two\", \"three\", \"four\", \"five\", \"six\", \"seven\", \"eight\", \"nine\"]):\n",
    "        numbers = numbers.replace(eng, str(num))\n",
    "    return int(numbers)\n",
    "\n",
    "\n",
    "print(solution(\"onetwothreefourfivesixseveneightnine\"))\n",
    "print(solution(\"onefourzerosixseven\"))"
   ]
  },
  {
   "cell_type": "code",
   "execution_count": 2,
   "id": "fdd561f3f3b8639d",
   "metadata": {
    "ExecuteTime": {
     "end_time": "2024-03-02T12:14:27.804800300Z",
     "start_time": "2024-03-02T12:14:27.785047Z"
    }
   },
   "outputs": [
    {
     "name": "stdout",
     "output_type": "stream",
     "text": [
      "hlelo\n",
      "I l veoyou\n"
     ]
    }
   ],
   "source": [
    "def solution(my_string: str, num1: int, num2: int) -> str:\n",
    "    \"\"\"\n",
    "    인덱스 바꾸기\n",
    "    \n",
    "    :param my_string: 문자열\n",
    "    :param num1: 정수\n",
    "    :param num2: 정수\n",
    "    :return: my_string에서 인덱스 num1과 인덱스 num2에 해당하는 문자를 바꾼 문자열\n",
    "    \"\"\"\n",
    "    str_list = list(my_string)\n",
    "    str_list[num1], str_list[num2] = str_list[num2], str_list[num1]\n",
    "    return ''.join(str_list)\n",
    "\n",
    "\n",
    "print(solution(\"hello\", 1, 2))\n",
    "print(solution(\"I love you\", 3, 6))"
   ]
  },
  {
   "cell_type": "code",
   "execution_count": 3,
   "id": "ac84bef8e526b3ab",
   "metadata": {
    "ExecuteTime": {
     "end_time": "2024-03-02T12:14:27.805800300Z",
     "start_time": "2024-03-02T12:14:27.790283800Z"
    }
   },
   "outputs": [
    {
     "name": "stdout",
     "output_type": "stream",
     "text": [
      "d\n",
      "abcd\n",
      "eho\n"
     ]
    }
   ],
   "source": [
    "def solution(s: str) -> str:\n",
    "    \"\"\"\n",
    "    한 번만 등장한 문자\n",
    "    \n",
    "    :param s: 문자열\n",
    "    :return: s에서 한 번만 등장하는 문자를 사전 순으로 정렬한 문자열\n",
    "    \"\"\"\n",
    "    return ''.join(sorted([c for c in set(s) if s.count(c) == 1]))\n",
    "\n",
    "\n",
    "print(solution(\"abcabcadc\"))\n",
    "print(solution(\"abdc\"))\n",
    "print(solution(\"hello\"))"
   ]
  },
  {
   "cell_type": "code",
   "execution_count": 4,
   "id": "5315351ffb771cb1",
   "metadata": {
    "ExecuteTime": {
     "end_time": "2024-03-02T12:14:27.805800300Z",
     "start_time": "2024-03-02T12:14:27.797096100Z"
    }
   },
   "outputs": [
    {
     "name": "stdout",
     "output_type": "stream",
     "text": [
      "[1, 2, 3, 4, 6, 8, 12, 24]\n",
      "[1, 29]\n",
      "[1]\n"
     ]
    }
   ],
   "source": [
    "def solution(n: int) -> list:\n",
    "    \"\"\"\n",
    "    약수 구하기\n",
    "    \n",
    "    :param n: 정수\n",
    "    :return: n의 약수를 오름차순으로 담은 배열\n",
    "    \"\"\"\n",
    "    # answer = []\n",
    "    # for i in range(1, n // 2 + 1):\n",
    "    #     if n % i == 0:\n",
    "    #         answer.append(i)\n",
    "    # answer.append(n)\n",
    "    # return answer\n",
    "    return [i for i in range(1, n // 2 + 1) if n % i == 0] + [n]\n",
    "\n",
    "\n",
    "print(solution(24))\n",
    "print(solution(29))\n",
    "print(solution(1))"
   ]
  },
  {
   "cell_type": "code",
   "execution_count": null,
   "id": "43528556324654cd",
   "metadata": {},
   "outputs": [],
   "source": []
  }
 ],
 "metadata": {
  "kernelspec": {
   "display_name": "Python 3 (ipykernel)",
   "language": "python",
   "name": "python3"
  },
  "language_info": {
   "codemirror_mode": {
    "name": "ipython",
    "version": 3
   },
   "file_extension": ".py",
   "mimetype": "text/x-python",
   "name": "python",
   "nbconvert_exporter": "python",
   "pygments_lexer": "ipython3",
   "version": "3.11.5"
  }
 },
 "nbformat": 4,
 "nbformat_minor": 5
}
