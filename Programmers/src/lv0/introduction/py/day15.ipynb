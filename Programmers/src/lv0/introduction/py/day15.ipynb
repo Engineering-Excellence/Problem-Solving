{
 "cells": [
  {
   "cell_type": "markdown",
   "source": [
    "# Day 15 문자열, 해시, 배열, 수학"
   ],
   "metadata": {
    "collapsed": false
   },
   "id": "809c18b8aa30d811"
  },
  {
   "cell_type": "code",
   "outputs": [
    {
     "name": "stdout",
     "output_type": "stream",
     "text": [
      "123456789\n",
      "14067\n"
     ]
    }
   ],
   "source": [
    "def solution(numbers: str) -> int:\n",
    "    \"\"\"\n",
    "    영어가 싫어요\n",
    "    \n",
    "    :param numbers: 문자열\n",
    "    :return: numbers를 정수로 바꿔 반환\n",
    "    \"\"\"\n",
    "    for num, eng in enumerate([\"zero\", \"one\", \"two\", \"three\", \"four\", \"five\", \"six\", \"seven\", \"eight\", \"nine\"]):\n",
    "        numbers = numbers.replace(eng, str(num))\n",
    "    return int(numbers)\n",
    "\n",
    "\n",
    "print(solution(\"onetwothreefourfivesixseveneightnine\"))\n",
    "print(solution(\"onefourzerosixseven\"))"
   ],
   "metadata": {
    "collapsed": false,
    "ExecuteTime": {
     "end_time": "2024-02-29T14:33:21.147661700Z",
     "start_time": "2024-02-29T14:33:21.140608700Z"
    }
   },
   "id": "c147e211cb6d8ef1",
   "execution_count": 1
  },
  {
   "cell_type": "code",
   "outputs": [
    {
     "name": "stdout",
     "output_type": "stream",
     "text": [
      "hlelo\n",
      "I l veoyou\n"
     ]
    }
   ],
   "source": [
    "def solution(my_string: str, num1: int, num2: int) -> str:\n",
    "    \"\"\"\n",
    "    인덱스 바꾸기\n",
    "    \n",
    "    :param my_string: 문자열\n",
    "    :param num1: 정수\n",
    "    :param num2: 정수\n",
    "    :return: my_string에서 인덱스 num1과 인덱스 num2에 해당하는 문자를 바꾼 문자열\n",
    "    \"\"\"\n",
    "    str_list = list(my_string)\n",
    "    str_list[num1], str_list[num2] = str_list[num2], str_list[num1]\n",
    "    return ''.join(str_list)\n",
    "\n",
    "\n",
    "print(solution(\"hello\", 1, 2))\n",
    "print(solution(\"I love you\", 3, 6))"
   ],
   "metadata": {
    "collapsed": false,
    "ExecuteTime": {
     "end_time": "2024-02-29T15:59:33.577623700Z",
     "start_time": "2024-02-29T15:59:33.574113900Z"
    }
   },
   "id": "fdd561f3f3b8639d",
   "execution_count": 2
  },
  {
   "cell_type": "code",
   "outputs": [],
   "source": [],
   "metadata": {
    "collapsed": false
   },
   "id": "ac84bef8e526b3ab"
  }
 ],
 "metadata": {
  "kernelspec": {
   "display_name": "Python 3",
   "language": "python",
   "name": "python3"
  },
  "language_info": {
   "codemirror_mode": {
    "name": "ipython",
    "version": 2
   },
   "file_extension": ".py",
   "mimetype": "text/x-python",
   "name": "python",
   "nbconvert_exporter": "python",
   "pygments_lexer": "ipython2",
   "version": "2.7.6"
  }
 },
 "nbformat": 4,
 "nbformat_minor": 5
}
