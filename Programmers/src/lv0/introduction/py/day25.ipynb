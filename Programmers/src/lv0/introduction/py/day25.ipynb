{
 "cells": [
  {
   "metadata": {},
   "cell_type": "markdown",
   "source": "# Day 25 시뮬레이션, 조건문, 수학",
   "id": "5e0b3abdb37b3186"
  },
  {
   "metadata": {
    "ExecuteTime": {
     "end_time": "2024-05-19T13:25:08.017502Z",
     "start_time": "2024-05-19T13:25:08.011877Z"
    }
   },
   "cell_type": "code",
   "source": [
    "# from collections import deque\n",
    "\n",
    "\n",
    "def solution(A: str, B: str) -> int:\n",
    "    \"\"\"\n",
    "    문자열 밀기\n",
    "    \n",
    "    :param A: 문자열\n",
    "    :param B: 문자열\n",
    "    :return: A를 밀어서 B가 될 수 있다면 밀어야 하는 최소 횟수를 return하고 밀어서 B가 될 수 없으면 -1을 return\n",
    "    \"\"\"\n",
    "    # a, b = deque(A), deque(B)\n",
    "    # for cnt in range(len(A)):\n",
    "    #     if a == b:\n",
    "    #         return cnt\n",
    "    #     a.rotate()\n",
    "    # return -1\n",
    "    return (B * 2).find(A)\n",
    "\n",
    "\n",
    "print(solution(\"hello\", \"ohell\"))\n",
    "print(solution(\"apple\", \"elppa\"))\n",
    "print(solution(\"atat\", \"tata\"))\n",
    "print(solution(\"abc\", \"abc\"))"
   ],
   "id": "53301515952c0b60",
   "outputs": [
    {
     "name": "stdout",
     "output_type": "stream",
     "text": [
      "1\n",
      "-1\n",
      "1\n",
      "0\n"
     ]
    }
   ],
   "execution_count": 3
  },
  {
   "metadata": {},
   "cell_type": "code",
   "outputs": [],
   "execution_count": null,
   "source": "",
   "id": "be7e3253b70199e9"
  }
 ],
 "metadata": {
  "kernelspec": {
   "display_name": "Python 3",
   "language": "python",
   "name": "python3"
  },
  "language_info": {
   "codemirror_mode": {
    "name": "ipython",
    "version": 2
   },
   "file_extension": ".py",
   "mimetype": "text/x-python",
   "name": "python",
   "nbconvert_exporter": "python",
   "pygments_lexer": "ipython2",
   "version": "2.7.6"
  }
 },
 "nbformat": 4,
 "nbformat_minor": 5
}
