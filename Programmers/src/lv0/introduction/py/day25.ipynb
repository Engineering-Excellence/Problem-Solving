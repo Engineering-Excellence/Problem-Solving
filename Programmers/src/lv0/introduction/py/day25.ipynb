{
 "cells": [
  {
   "metadata": {},
   "cell_type": "markdown",
   "source": "# Day 25 시뮬레이션, 조건문, 수학",
   "id": "5e0b3abdb37b3186"
  },
  {
   "metadata": {
    "ExecuteTime": {
     "end_time": "2024-05-23T15:04:32.178776Z",
     "start_time": "2024-05-23T15:04:32.171762Z"
    }
   },
   "cell_type": "code",
   "source": [
    "# from collections import deque\n",
    "\n",
    "\n",
    "def solution(A: str, B: str) -> int:\n",
    "    \"\"\"\n",
    "    문자열 밀기\n",
    "    \n",
    "    :param A: 문자열\n",
    "    :param B: 문자열\n",
    "    :return: A를 밀어서 B가 될 수 있다면 밀어야 하는 최소 횟수를 return하고 밀어서 B가 될 수 없으면 -1을 return\n",
    "    \"\"\"\n",
    "    # a, b = deque(A), deque(B)\n",
    "    # for cnt in range(len(A)):\n",
    "    #     if a == b:\n",
    "    #         return cnt\n",
    "    #     a.rotate()\n",
    "    # return -1\n",
    "    return (B * 2).find(A)\n",
    "\n",
    "\n",
    "print(solution(\"hello\", \"ohell\"))\n",
    "print(solution(\"apple\", \"elppa\"))\n",
    "print(solution(\"atat\", \"tata\"))\n",
    "print(solution(\"abc\", \"abc\"))"
   ],
   "id": "53301515952c0b60",
   "outputs": [
    {
     "name": "stdout",
     "output_type": "stream",
     "text": [
      "1\n",
      "-1\n",
      "1\n",
      "0\n"
     ]
    }
   ],
   "execution_count": 1
  },
  {
   "metadata": {
    "ExecuteTime": {
     "end_time": "2024-05-23T15:04:32.184405Z",
     "start_time": "2024-05-23T15:04:32.179781Z"
    }
   },
   "cell_type": "code",
   "source": [
    "def solution(M: int, N: int) -> int:\n",
    "    \"\"\"\n",
    "    종이 자르기\n",
    "    \n",
    "    :param M: 정수\n",
    "    :param N: 정수\n",
    "    :return: M x N 크기의 종이를 최소로 가위질 해야하는 횟수\n",
    "    \"\"\"\n",
    "    return M * N - 1\n",
    "\n",
    "\n",
    "print(solution(2, 2))\n",
    "print(solution(2, 5))\n",
    "print(solution(1, 1))"
   ],
   "id": "be7e3253b70199e9",
   "outputs": [
    {
     "name": "stdout",
     "output_type": "stream",
     "text": [
      "3\n",
      "9\n",
      "0\n"
     ]
    }
   ],
   "execution_count": 2
  },
  {
   "metadata": {
    "ExecuteTime": {
     "end_time": "2024-05-23T15:04:32.191426Z",
     "start_time": "2024-05-23T15:04:32.184405Z"
    }
   },
   "cell_type": "code",
   "source": [
    "def solution(num: int, total: int) -> list:\n",
    "    \"\"\"\n",
    "    연속된 수의 합\n",
    "    \n",
    "    :param num: 정수\n",
    "    :param total: 정수\n",
    "    :return: 연속된 수 num개를 더한 값이 total이 될 때, 정수 배열을 오름차순으로 담아 반환\n",
    "    \"\"\"\n",
    "    return [(total - (num * (num - 1) // 2)) // num + i for i in range(num)]\n",
    "\n",
    "\n",
    "print(solution(3, 12))\n",
    "print(solution(5, 15))\n",
    "print(solution(4, 14))\n",
    "print(solution(5, 5))"
   ],
   "id": "84d2384f6575e719",
   "outputs": [
    {
     "name": "stdout",
     "output_type": "stream",
     "text": [
      "[3, 4, 5]\n",
      "[1, 2, 3, 4, 5]\n",
      "[2, 3, 4, 5]\n",
      "[-1, 0, 1, 2, 3]\n"
     ]
    }
   ],
   "execution_count": 3
  },
  {
   "metadata": {
    "ExecuteTime": {
     "end_time": "2024-05-23T15:04:32.197866Z",
     "start_time": "2024-05-23T15:04:32.192431Z"
    }
   },
   "cell_type": "code",
   "source": [
    "def solution(common: list) -> int:\n",
    "    \"\"\"\n",
    "    다음에 올 숫자\n",
    "    \n",
    "    :param common: 등차수열 혹은 등비수열\n",
    "    :return: 마지막 원소 다음으로 올 숫자\n",
    "    \"\"\"\n",
    "    a, b, c = common[:3]\n",
    "    return common[-1] + (b - a) if (b - a) == (c - b) else common[-1] * (b // a)\n",
    "\n",
    "\n",
    "print(solution([1, 2, 3, 4]))\n",
    "print(solution([2, 4, 8]))"
   ],
   "id": "14c64020d65b71f9",
   "outputs": [
    {
     "name": "stdout",
     "output_type": "stream",
     "text": [
      "5\n",
      "16\n"
     ]
    }
   ],
   "execution_count": 4
  },
  {
   "metadata": {},
   "cell_type": "code",
   "outputs": [],
   "execution_count": null,
   "source": "",
   "id": "2e0c7352300f9f01"
  }
 ],
 "metadata": {
  "kernelspec": {
   "display_name": "Python 3",
   "language": "python",
   "name": "python3"
  },
  "language_info": {
   "codemirror_mode": {
    "name": "ipython",
    "version": 2
   },
   "file_extension": ".py",
   "mimetype": "text/x-python",
   "name": "python",
   "nbconvert_exporter": "python",
   "pygments_lexer": "ipython2",
   "version": "2.7.6"
  }
 },
 "nbformat": 4,
 "nbformat_minor": 5
}
