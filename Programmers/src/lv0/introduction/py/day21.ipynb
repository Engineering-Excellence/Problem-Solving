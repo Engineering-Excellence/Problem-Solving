{
 "cells": [
  {
   "cell_type": "markdown",
   "source": [
    "# Day 21 문자열, 사칙연산, 시뮬레이션, 2차원배열, 수학, 배열"
   ],
   "metadata": {
    "collapsed": false
   },
   "id": "e70fec505806d798"
  },
  {
   "cell_type": "code",
   "outputs": [
    {
     "name": "stdout",
     "output_type": "stream",
     "text": [
      "37\n",
      "133\n"
     ]
    }
   ],
   "source": [
    "def solution(my_string: str) -> int:\n",
    "    \"\"\"\n",
    "    숨어있는 숫자의 덧셈 (2)\n",
    "    \n",
    "    :param my_string: 문자열\n",
    "    :return: my_string안의 자연수들의 합\n",
    "    \"\"\"\n",
    "    # import re\n",
    "    # return sum(map(int, re.findall(r'\\d+', my_string)))\n",
    "    s = ''.join(c if c.isdigit() else ' ' for c in my_string)\n",
    "    return sum(int(i) for i in s.split())\n",
    "\n",
    "\n",
    "print(solution(\"aAb1B2cC34oOp\"))\n",
    "print(solution(\"1a2b3c4d123Z\"))"
   ],
   "metadata": {
    "collapsed": false,
    "ExecuteTime": {
     "end_time": "2024-03-23T15:31:53.323038Z",
     "start_time": "2024-03-23T15:31:53.316444Z"
    }
   },
   "id": "f3ce489b6405f25c",
   "execution_count": 1
  },
  {
   "cell_type": "code",
   "outputs": [],
   "source": [],
   "metadata": {
    "collapsed": false
   },
   "id": "af4326a942c32099"
  }
 ],
 "metadata": {
  "kernelspec": {
   "display_name": "Python 3",
   "language": "python",
   "name": "python3"
  },
  "language_info": {
   "codemirror_mode": {
    "name": "ipython",
    "version": 2
   },
   "file_extension": ".py",
   "mimetype": "text/x-python",
   "name": "python",
   "nbconvert_exporter": "python",
   "pygments_lexer": "ipython2",
   "version": "2.7.6"
  }
 },
 "nbformat": 4,
 "nbformat_minor": 5
}
