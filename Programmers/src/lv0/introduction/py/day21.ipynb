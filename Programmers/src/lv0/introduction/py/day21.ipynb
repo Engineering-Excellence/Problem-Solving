{
 "cells": [
  {
   "cell_type": "markdown",
   "source": [
    "# Day 21 문자열, 사칙연산, 시뮬레이션, 2차원배열, 수학, 배열"
   ],
   "metadata": {
    "collapsed": false
   },
   "id": "e70fec505806d798"
  },
  {
   "cell_type": "code",
   "source": [
    "def solution(my_string: str) -> int:\n",
    "    \"\"\"\n",
    "    숨어있는 숫자의 덧셈 (2)\n",
    "    \n",
    "    :param my_string: 문자열\n",
    "    :return: my_string안의 자연수들의 합\n",
    "    \"\"\"\n",
    "    # import re\n",
    "    # return sum(map(int, re.findall(r'\\d+', my_string)))\n",
    "    s = ''.join(c if c.isdigit() else ' ' for c in my_string)\n",
    "    return sum(int(i) for i in s.split())\n",
    "\n",
    "\n",
    "print(solution(\"aAb1B2cC34oOp\"))\n",
    "print(solution(\"1a2b3c4d123Z\"))"
   ],
   "metadata": {
    "collapsed": false,
    "ExecuteTime": {
     "end_time": "2024-04-10T14:45:43.885795Z",
     "start_time": "2024-04-10T14:45:43.878306Z"
    }
   },
   "id": "f3ce489b6405f25c",
   "outputs": [
    {
     "name": "stdout",
     "output_type": "stream",
     "text": [
      "37\n",
      "133\n"
     ]
    }
   ],
   "execution_count": 1
  },
  {
   "cell_type": "code",
   "source": [
    "def solution(board: list) -> int:\n",
    "    \"\"\"\n",
    "    안전지대\n",
    "    \n",
    "    :param board: 지뢰가 매설된 지역의 지도\n",
    "    :return: 안전한 지역의 칸 수\n",
    "    \"\"\"\n",
    "    n = len(board)\n",
    "    danger = set()\n",
    "    for i, row in enumerate(board):\n",
    "        for j, x in enumerate(row):\n",
    "            if not x:\n",
    "                continue\n",
    "            danger.update((i + di, j + dj) for di in [-1, 0, 1] for dj in [-1, 0, 1])\n",
    "    return n * n - sum(0 <= i < n and 0 <= j < n for i, j in danger)\n",
    "\n",
    "\n",
    "print(solution([[0, 0, 0, 0, 0], [0, 0, 0, 0, 0], [0, 0, 0, 0, 0], [0, 0, 1, 0, 0], [0, 0, 0, 0, 0]]))\n",
    "print(solution([[0, 0, 0, 0, 0], [0, 0, 0, 0, 0], [0, 0, 0, 0, 0], [0, 0, 1, 1, 0], [0, 0, 0, 0, 0]]))\n",
    "print(solution([[1, 1, 1, 1, 1, 1], [1, 1, 1, 1, 1, 1], [1, 1, 1, 1, 1, 1], [1, 1, 1, 1, 1, 1], [1, 1, 1, 1, 1, 1],\n",
    "                [1, 1, 1, 1, 1, 1]]))"
   ],
   "metadata": {
    "collapsed": false,
    "ExecuteTime": {
     "end_time": "2024-04-10T14:45:43.891237Z",
     "start_time": "2024-04-10T14:45:43.885795Z"
    }
   },
   "id": "af4326a942c32099",
   "outputs": [
    {
     "name": "stdout",
     "output_type": "stream",
     "text": [
      "16\n",
      "13\n",
      "0\n"
     ]
    }
   ],
   "execution_count": 2
  },
  {
   "cell_type": "code",
   "source": [
    "def solution(sides: list) -> int:\n",
    "    \"\"\"\n",
    "    삼각형의 완성조건 (2)\n",
    "    \n",
    "    :param sides: 삼각형의 두 변의 길이가 담긴 배열\n",
    "    :return: 나머지 한 변이 될 수 있는 정수의 개수\n",
    "    \"\"\"\n",
    "    return 2 * min(sides) - 1\n",
    "\n",
    "\n",
    "print(solution([1, 2]))\n",
    "print(solution([3, 6]))\n",
    "print(solution([11, 7]))"
   ],
   "metadata": {
    "collapsed": false,
    "ExecuteTime": {
     "end_time": "2024-04-10T14:45:43.897784Z",
     "start_time": "2024-04-10T14:45:43.891237Z"
    }
   },
   "id": "9eea18b3b96a13f9",
   "outputs": [
    {
     "name": "stdout",
     "output_type": "stream",
     "text": [
      "1\n",
      "5\n",
      "13\n"
     ]
    }
   ],
   "execution_count": 3
  },
  {
   "cell_type": "code",
   "source": [
    "def solution(spell: list, dic: list) -> int:\n",
    "    \"\"\"\n",
    "    외계어 사전\n",
    "    \n",
    "    :param spell: 알파벳이 담긴 배열\n",
    "    :param dic: 외계어 사전\n",
    "    :return: spell에 담긴 알파벳을 한번씩만 모두 사용한 단어가 dic에 존재한다면 1, 존재하지 않는다면 2를 반환\n",
    "    \"\"\"\n",
    "    spell = set(spell)\n",
    "    for s in dic:\n",
    "        if spell.issubset(set(s)):\n",
    "            return 1\n",
    "    return 2\n",
    "\n",
    "\n",
    "print(solution([\"p\", \"o\", \"s\"], [\"sod\", \"eocd\", \"qixm\", \"adio\", \"soo\"]))\n",
    "print(solution([\"z\", \"d\", \"x\"], [\"def\", \"dww\", \"dzx\", \"loveaw\"]))\n",
    "print(solution([\"s\", \"o\", \"m\", \"d\"], [\"moos\", \"dzx\", \"smm\", \"sunmmo\", \"som\"]))"
   ],
   "metadata": {
    "collapsed": false,
    "ExecuteTime": {
     "end_time": "2024-04-10T14:50:06.764006Z",
     "start_time": "2024-04-10T14:50:06.759755Z"
    }
   },
   "id": "9317ee77f9a5d28a",
   "outputs": [
    {
     "name": "stdout",
     "output_type": "stream",
     "text": [
      "2\n",
      "{'x', 'z', 'd'}\n",
      "1\n",
      "2\n"
     ]
    }
   ],
   "execution_count": 10
  },
  {
   "metadata": {},
   "cell_type": "code",
   "outputs": [],
   "execution_count": null,
   "source": "",
   "id": "64ae51627f66b61d"
  }
 ],
 "metadata": {
  "kernelspec": {
   "display_name": "Python 3",
   "language": "python",
   "name": "python3"
  },
  "language_info": {
   "codemirror_mode": {
    "name": "ipython",
    "version": 2
   },
   "file_extension": ".py",
   "mimetype": "text/x-python",
   "name": "python",
   "nbconvert_exporter": "python",
   "pygments_lexer": "ipython2",
   "version": "2.7.6"
  }
 },
 "nbformat": 4,
 "nbformat_minor": 5
}
