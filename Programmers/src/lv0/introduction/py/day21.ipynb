{
 "cells": [
  {
   "cell_type": "markdown",
   "source": [
    "# Day 21 문자열, 사칙연산, 시뮬레이션, 2차원배열, 수학, 배열"
   ],
   "metadata": {
    "collapsed": false
   },
   "id": "e70fec505806d798"
  },
  {
   "cell_type": "code",
   "outputs": [
    {
     "name": "stdout",
     "output_type": "stream",
     "text": [
      "37\n",
      "133\n"
     ]
    }
   ],
   "source": [
    "def solution(my_string: str) -> int:\n",
    "    \"\"\"\n",
    "    숨어있는 숫자의 덧셈 (2)\n",
    "    \n",
    "    :param my_string: 문자열\n",
    "    :return: my_string안의 자연수들의 합\n",
    "    \"\"\"\n",
    "    # import re\n",
    "    # return sum(map(int, re.findall(r'\\d+', my_string)))\n",
    "    s = ''.join(c if c.isdigit() else ' ' for c in my_string)\n",
    "    return sum(int(i) for i in s.split())\n",
    "\n",
    "\n",
    "print(solution(\"aAb1B2cC34oOp\"))\n",
    "print(solution(\"1a2b3c4d123Z\"))"
   ],
   "metadata": {
    "collapsed": false,
    "ExecuteTime": {
     "end_time": "2024-03-23T15:31:53.323038Z",
     "start_time": "2024-03-23T15:31:53.316444Z"
    }
   },
   "id": "f3ce489b6405f25c",
   "execution_count": 1
  },
  {
   "cell_type": "code",
   "outputs": [
    {
     "name": "stdout",
     "output_type": "stream",
     "text": [
      "16\n",
      "13\n",
      "0\n"
     ]
    }
   ],
   "source": [
    "def solution(board: list) -> int:\n",
    "    \"\"\"\n",
    "    안전지대\n",
    "    \n",
    "    :param board: 지뢰가 매설된 지역의 지도\n",
    "    :return: 안전한 지역의 칸 수\n",
    "    \"\"\"\n",
    "    n = len(board)\n",
    "    danger = set()\n",
    "    for i, row in enumerate(board):\n",
    "        for j, x in enumerate(row):\n",
    "            if not x:\n",
    "                continue\n",
    "            danger.update((i + di, j + dj) for di in [-1, 0, 1] for dj in [-1, 0, 1])\n",
    "    return n * n - sum(0 <= i < n and 0 <= j < n for i, j in danger)\n",
    "\n",
    "\n",
    "print(solution([[0, 0, 0, 0, 0], [0, 0, 0, 0, 0], [0, 0, 0, 0, 0], [0, 0, 1, 0, 0], [0, 0, 0, 0, 0]]))\n",
    "print(solution([[0, 0, 0, 0, 0], [0, 0, 0, 0, 0], [0, 0, 0, 0, 0], [0, 0, 1, 1, 0], [0, 0, 0, 0, 0]]))\n",
    "print(solution([[1, 1, 1, 1, 1, 1], [1, 1, 1, 1, 1, 1], [1, 1, 1, 1, 1, 1], [1, 1, 1, 1, 1, 1], [1, 1, 1, 1, 1, 1],\n",
    "                [1, 1, 1, 1, 1, 1]]))"
   ],
   "metadata": {
    "collapsed": false,
    "ExecuteTime": {
     "end_time": "2024-03-24T15:46:19.967617Z",
     "start_time": "2024-03-24T15:46:19.958525Z"
    }
   },
   "id": "af4326a942c32099",
   "execution_count": 1
  },
  {
   "cell_type": "code",
   "outputs": [
    {
     "name": "stdout",
     "output_type": "stream",
     "text": [
      "1\n",
      "5\n",
      "13\n"
     ]
    }
   ],
   "source": [
    "def solution(sides: list) -> int:\n",
    "    \"\"\"\n",
    "    삼각형의 완성조건 (2)\n",
    "    \n",
    "    :param sides: 삼각형의 두 변의 길이가 담긴 배열\n",
    "    :return: 나머지 한 변이 될 수 있는 정수의 개수\n",
    "    \"\"\"\n",
    "    return 2 * min(sides) - 1\n",
    "\n",
    "\n",
    "print(solution([1, 2]))\n",
    "print(solution([3, 6]))\n",
    "print(solution([11, 7]))"
   ],
   "metadata": {
    "collapsed": false,
    "ExecuteTime": {
     "end_time": "2024-03-26T14:39:05.373149Z",
     "start_time": "2024-03-26T14:39:05.369934Z"
    }
   },
   "id": "9eea18b3b96a13f9",
   "execution_count": 2
  },
  {
   "cell_type": "code",
   "outputs": [],
   "source": [],
   "metadata": {
    "collapsed": false
   },
   "id": "9317ee77f9a5d28a"
  }
 ],
 "metadata": {
  "kernelspec": {
   "display_name": "Python 3",
   "language": "python",
   "name": "python3"
  },
  "language_info": {
   "codemirror_mode": {
    "name": "ipython",
    "version": 2
   },
   "file_extension": ".py",
   "mimetype": "text/x-python",
   "name": "python",
   "nbconvert_exporter": "python",
   "pygments_lexer": "ipython2",
   "version": "2.7.6"
  }
 },
 "nbformat": 4,
 "nbformat_minor": 5
}
