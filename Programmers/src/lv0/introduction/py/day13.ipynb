{
 "cells": [
  {
   "cell_type": "markdown",
   "id": "3f612c775ab9bc6c",
   "metadata": {},
   "source": [
    "# Day 13 문자열, 배열, 사칙연산, 수학, 조건문"
   ]
  },
  {
   "cell_type": "code",
   "execution_count": 1,
   "id": "7dcabb71243f5b77",
   "metadata": {
    "ExecuteTime": {
     "end_time": "2024-02-23T15:18:47.830402500Z",
     "start_time": "2024-02-23T15:18:47.822604900Z"
    }
   },
   "outputs": [
    {
     "name": "stdout",
     "output_type": "stream",
     "text": [
      "4\n",
      "100\n",
      "1\n",
      "0\n",
      "-3\n"
     ]
    }
   ],
   "source": [
    "def solution(s: str) -> int:\n",
    "    \"\"\"\n",
    "    컨트롤 제트\n",
    "    \n",
    "    :param s: 숫자와 \"Z\"로 이루어진 문자열\n",
    "    :return: 문자열에 있는 숫자를 차례대로 더하되, \"Z\"가 나오면 바로 전에 더했던 숫자를 뺀 후 최종 결괏값을 반환\n",
    "    \"\"\"\n",
    "    stack = []\n",
    "    for c in s.split():\n",
    "        if c != 'Z':\n",
    "            stack.append(int(c))\n",
    "        else:\n",
    "            stack.pop()\n",
    "    return sum(stack)\n",
    "\n",
    "\n",
    "print(solution(\"1 2 Z 3\"))\n",
    "print(solution(\"10 20 30 40\"))\n",
    "print(solution(\"10 Z 20 Z 1\"))\n",
    "print(solution(\"10 Z 20 Z\"))\n",
    "print(solution(\"-1 -2 -3 Z\"))"
   ]
  },
  {
   "cell_type": "code",
   "execution_count": 2,
   "id": "feab9786c4362ba6",
   "metadata": {
    "ExecuteTime": {
     "end_time": "2024-02-23T15:18:47.831407400Z",
     "start_time": "2024-02-23T15:18:47.828119900Z"
    }
   },
   "outputs": [
    {
     "name": "stdout",
     "output_type": "stream",
     "text": [
      "[2, 3, 3, 6]\n",
      "[1, 4, 12]\n"
     ]
    }
   ],
   "source": [
    "def solution(strlist: list) -> list:\n",
    "    \"\"\"\n",
    "    배열 원소의 길이\n",
    "\n",
    "    :param strlist: 문자열 배열\n",
    "    :return: strlist 각 원소의 길이를 담은 배열\n",
    "    \"\"\"\n",
    "    # return [len(s) for s in strlist]\n",
    "    return list(map(len, strlist))\n",
    "\n",
    "\n",
    "print(solution([\"We\", \"are\", \"the\", \"world!\"]))\n",
    "print(solution([\"I\", \"Love\", \"Programmers.\"]))"
   ]
  },
  {
   "cell_type": "code",
   "execution_count": 3,
   "id": "673470c619711986",
   "metadata": {
    "ExecuteTime": {
     "end_time": "2024-02-23T15:18:47.839270400Z",
     "start_time": "2024-02-23T15:18:47.831407400Z"
    }
   },
   "outputs": [
    {
     "name": "stdout",
     "output_type": "stream",
     "text": [
      "peol\n",
      "We arthwold\n"
     ]
    }
   ],
   "source": [
    "def solution(my_string: str) -> str:\n",
    "    \"\"\"\n",
    "    중복된 문자 제거\n",
    "\n",
    "    :param my_string: 문자열\n",
    "    :return: my_string에서 중복된 문자를 제거하고 하나의 문자만 남긴 문자열\n",
    "    \"\"\"\n",
    "    # result = []\n",
    "    # for c in my_string:\n",
    "    #     if c not in result:\n",
    "    #         result.append(c)\n",
    "    # return ''.join(result)\n",
    "    return ''.join(dict.fromkeys(my_string))\n",
    "\n",
    "\n",
    "print(solution(\"people\"))\n",
    "print(solution(\"We are the world\"))"
   ]
  },
  {
   "cell_type": "code",
   "execution_count": 4,
   "id": "396b9da2e783a406",
   "metadata": {
    "ExecuteTime": {
     "end_time": "2024-02-23T15:18:47.864844900Z",
     "start_time": "2024-02-23T15:18:47.839270400Z"
    }
   },
   "outputs": [
    {
     "name": "stdout",
     "output_type": "stream",
     "text": [
      "2\n",
      "2\n",
      "1\n"
     ]
    }
   ],
   "source": [
    "def solution(sides: list) -> int:\n",
    "    \"\"\"\n",
    "    삼각형의 완성조건 (1)\n",
    "\n",
    "    :param sides: 삼각형의 세 변의 길이가 담긴 배열\n",
    "    :return: 세 변으로 삼각형을 만들 수 있다면 1, 만들 수 없다면 2를 반환\n",
    "    \"\"\"\n",
    "    sides.sort()\n",
    "    return 1 if sides[0] + sides[1] > sides[2] else 2\n",
    "\n",
    "\n",
    "print(solution([1, 2, 3]))\n",
    "print(solution([3, 6, 2]))\n",
    "print(solution([199, 72, 222]))"
   ]
  },
  {
   "cell_type": "code",
   "execution_count": null,
   "id": "d65f505016bd68d6",
   "metadata": {},
   "outputs": [],
   "source": []
  }
 ],
 "metadata": {
  "kernelspec": {
   "display_name": "Python 3 (ipykernel)",
   "language": "python",
   "name": "python3"
  },
  "language_info": {
   "codemirror_mode": {
    "name": "ipython",
    "version": 3
   },
   "file_extension": ".py",
   "mimetype": "text/x-python",
   "name": "python",
   "nbconvert_exporter": "python",
   "pygments_lexer": "ipython3",
   "version": "3.11.5"
  }
 },
 "nbformat": 4,
 "nbformat_minor": 5
}
