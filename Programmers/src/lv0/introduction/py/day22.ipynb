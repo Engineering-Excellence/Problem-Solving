{
 "cells": [
  {
   "cell_type": "markdown",
   "source": [
    "# Day 22 dp, 수학, 조건문, 배열"
   ],
   "metadata": {
    "collapsed": false
   },
   "id": "fb83079e3bb54513"
  },
  {
   "cell_type": "code",
   "outputs": [
    {
     "name": "stdout",
     "output_type": "stream",
     "text": [
      "25\n",
      "76\n"
     ]
    }
   ],
   "source": [
    "def solution(n: int) -> int:\n",
    "    \"\"\"\n",
    "    저주의 숫자 3\n",
    "    \n",
    "    :param n: 정수\n",
    "    :return: n을 3x 마을에서 사용하는 숫자로 바꿔서 반환\n",
    "    \"\"\"\n",
    "    answer = 0\n",
    "    for _ in range(n):\n",
    "        answer += 1\n",
    "        while answer % 3 == 0 or '3' in str(answer):\n",
    "            answer += 1\n",
    "    return answer\n",
    "\n",
    "\n",
    "print(solution(15))\n",
    "print(solution(40))"
   ],
   "metadata": {
    "collapsed": false,
    "ExecuteTime": {
     "end_time": "2024-03-29T15:56:32.190802Z",
     "start_time": "2024-03-29T15:56:32.187312Z"
    }
   },
   "id": "2a77b1df47b5eec4",
   "execution_count": 12
  },
  {
   "cell_type": "code",
   "outputs": [
    {
     "name": "stdout",
     "output_type": "stream",
     "text": [
      "1\n",
      "0\n"
     ]
    }
   ],
   "source": [
    "def solution(dots):\n",
    "    \"\"\"\n",
    "    평행\n",
    "    \n",
    "    :param dots: 점 네 개의 좌표를 담은 이차원 배열\n",
    "    :return: 주어진 네 개의 점을 두 개씩 이었을 때, 두 직선이 평행이 되는 경우가 있으면 1을 없으면 0을 반환\n",
    "    \"\"\"\n",
    "    [[x1, y1], [x2, y2], [x3, y3], [x4, y4]] = dots  # Destructuring(비구조화 할당, 구조분해)\n",
    "    answer1 = ((y1 - y2) * (x3 - x4) == (y3 - y4) * (x1 - x2))  # 벡터의 외적이 0이면 평행과 동치\n",
    "    answer2 = ((y1 - y3) * (x2 - x4) == (y2 - y4) * (x1 - x3))\n",
    "    answer3 = ((y1 - y4) * (x2 - x3) == (y2 - y3) * (x1 - x4))\n",
    "    return 1 if answer1 or answer2 or answer3 else 0\n",
    "\n",
    "\n",
    "print(solution([[1, 4], [9, 2], [3, 8], [11, 6]]))\n",
    "print(solution([[3, 5], [4, 1], [2, 4], [5, 10]]))"
   ],
   "metadata": {
    "collapsed": false,
    "ExecuteTime": {
     "end_time": "2024-04-02T15:41:02.798696Z",
     "start_time": "2024-04-02T15:41:02.790396Z"
    }
   },
   "id": "491fbd4df89e8f34",
   "execution_count": 1
  },
  {
   "cell_type": "code",
   "outputs": [
    {
     "name": "stdout",
     "output_type": "stream",
     "text": [
      "2\n",
      "0\n",
      "8\n"
     ]
    }
   ],
   "source": [
    "def solution(lines: list) -> int:\n",
    "    \"\"\"\n",
    "    겹치는 선분의 길이\n",
    "    \n",
    "    :param lines: 세 선분의 시작과 끝 좌표가 [[start, end], [start, end], [start, end]] 형태로 들어있는 2차원 배열\n",
    "    :return: 두 개 이상의 선분이 겹치는 부분의 길이\n",
    "    \"\"\"\n",
    "    sets = [set(range(min(l), max(l))) for l in lines]\n",
    "    # return len(sets[0].intersection(sets[1]).union(sets[0].intersection(sets[2])).union(sets[1].intersection(sets[2])))\n",
    "    return len(sets[0] & sets[1] | sets[0] & sets[2] | sets[1] & sets[2])\n",
    "\n",
    "\n",
    "print(solution([[0, 1], [2, 5], [3, 9]]))\n",
    "print(solution([[-1, 1], [1, 3], [3, 9]]))\n",
    "print(solution([[0, 5], [3, 9], [1, 10]]))"
   ],
   "metadata": {
    "collapsed": false,
    "ExecuteTime": {
     "end_time": "2024-04-05T13:24:27.999884Z",
     "start_time": "2024-04-05T13:24:27.995605Z"
    }
   },
   "id": "ec1e3e614bc3de30",
   "execution_count": 10
  },
  {
   "cell_type": "code",
   "source": [
    "from math import gcd\n",
    "\n",
    "\n",
    "def solution(a: int, b: int) -> int:\n",
    "    \"\"\"\n",
    "    유한소수 판별하기\n",
    "    \n",
    "    :param a: 정수\n",
    "    :param b: 정수\n",
    "    :return: a/b가 유한소수이면 1을, 무한소수라면 2를 반환\n",
    "    \"\"\"\n",
    "    b //= gcd(a, b)\n",
    "    while b % 2 == 0:\n",
    "        b //= 2\n",
    "    while b % 5 == 0:\n",
    "        b //= 5\n",
    "    return 1 if b == 1 else 2\n",
    "\n",
    "\n",
    "print(solution(7, 20))\n",
    "print(solution(11, 22))\n",
    "print(solution(12, 21))"
   ],
   "metadata": {
    "collapsed": false,
    "ExecuteTime": {
     "end_time": "2024-04-10T15:12:42.972131Z",
     "start_time": "2024-04-10T15:12:42.968600Z"
    }
   },
   "id": "7b988590ad2dbf61",
   "outputs": [
    {
     "name": "stdout",
     "output_type": "stream",
     "text": [
      "1\n",
      "1\n",
      "2\n"
     ]
    }
   ],
   "execution_count": 6
  },
  {
   "metadata": {},
   "cell_type": "code",
   "outputs": [],
   "execution_count": null,
   "source": "",
   "id": "30cea0ec1a8f03d1"
  }
 ],
 "metadata": {
  "kernelspec": {
   "display_name": "Python 3",
   "language": "python",
   "name": "python3"
  },
  "language_info": {
   "codemirror_mode": {
    "name": "ipython",
    "version": 2
   },
   "file_extension": ".py",
   "mimetype": "text/x-python",
   "name": "python",
   "nbconvert_exporter": "python",
   "pygments_lexer": "ipython2",
   "version": "2.7.6"
  }
 },
 "nbformat": 4,
 "nbformat_minor": 5
}
