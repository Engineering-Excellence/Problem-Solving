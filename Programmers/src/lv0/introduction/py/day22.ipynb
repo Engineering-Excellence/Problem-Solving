{
 "cells": [
  {
   "cell_type": "markdown",
   "source": [
    "# Day 22 dp, 수학, 조건문, 배열"
   ],
   "metadata": {
    "collapsed": false
   },
   "id": "fb83079e3bb54513"
  },
  {
   "cell_type": "code",
   "outputs": [
    {
     "name": "stdout",
     "output_type": "stream",
     "text": [
      "25\n",
      "76\n"
     ]
    }
   ],
   "source": [
    "def solution(n: int) -> int:\n",
    "    \"\"\"\n",
    "    저주의 숫자 3\n",
    "    \n",
    "    :param n: 정수\n",
    "    :return: n을 3x 마을에서 사용하는 숫자로 바꿔서 반환\n",
    "    \"\"\"\n",
    "    answer = 0\n",
    "    for _ in range(n):\n",
    "        answer += 1\n",
    "        while answer % 3 == 0 or '3' in str(answer):\n",
    "            answer += 1\n",
    "    return answer\n",
    "\n",
    "\n",
    "print(solution(15))\n",
    "print(solution(40))"
   ],
   "metadata": {
    "collapsed": false,
    "ExecuteTime": {
     "end_time": "2024-03-29T15:56:32.190802Z",
     "start_time": "2024-03-29T15:56:32.187312Z"
    }
   },
   "id": "2a77b1df47b5eec4",
   "execution_count": 12
  },
  {
   "cell_type": "code",
   "outputs": [],
   "source": [],
   "metadata": {
    "collapsed": false
   },
   "id": "491fbd4df89e8f34"
  }
 ],
 "metadata": {
  "kernelspec": {
   "display_name": "Python 3",
   "language": "python",
   "name": "python3"
  },
  "language_info": {
   "codemirror_mode": {
    "name": "ipython",
    "version": 2
   },
   "file_extension": ".py",
   "mimetype": "text/x-python",
   "name": "python",
   "nbconvert_exporter": "python",
   "pygments_lexer": "ipython2",
   "version": "2.7.6"
  }
 },
 "nbformat": 4,
 "nbformat_minor": 5
}
