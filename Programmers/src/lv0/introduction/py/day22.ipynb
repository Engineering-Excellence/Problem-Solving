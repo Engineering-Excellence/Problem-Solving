{
 "cells": [
  {
   "cell_type": "markdown",
   "source": [
    "# Day 22 dp, 수학, 조건문, 배열"
   ],
   "metadata": {
    "collapsed": false
   },
   "id": "fb83079e3bb54513"
  },
  {
   "cell_type": "code",
   "outputs": [
    {
     "name": "stdout",
     "output_type": "stream",
     "text": [
      "25\n",
      "76\n"
     ]
    }
   ],
   "source": [
    "def solution(n: int) -> int:\n",
    "    \"\"\"\n",
    "    저주의 숫자 3\n",
    "    \n",
    "    :param n: 정수\n",
    "    :return: n을 3x 마을에서 사용하는 숫자로 바꿔서 반환\n",
    "    \"\"\"\n",
    "    answer = 0\n",
    "    for _ in range(n):\n",
    "        answer += 1\n",
    "        while answer % 3 == 0 or '3' in str(answer):\n",
    "            answer += 1\n",
    "    return answer\n",
    "\n",
    "\n",
    "print(solution(15))\n",
    "print(solution(40))"
   ],
   "metadata": {
    "collapsed": false,
    "ExecuteTime": {
     "end_time": "2024-03-29T15:56:32.190802Z",
     "start_time": "2024-03-29T15:56:32.187312Z"
    }
   },
   "id": "2a77b1df47b5eec4",
   "execution_count": 12
  },
  {
   "cell_type": "code",
   "outputs": [
    {
     "name": "stdout",
     "output_type": "stream",
     "text": [
      "1\n",
      "0\n"
     ]
    }
   ],
   "source": [
    "def solution(dots):\n",
    "    \"\"\"\n",
    "    평행\n",
    "    \n",
    "    :param dots: 점 네 개의 좌표를 담은 이차원 배열\n",
    "    :return: 주어진 네 개의 점을 두 개씩 이었을 때, 두 직선이 평행이 되는 경우가 있으면 1을 없으면 0을 반환\n",
    "    \"\"\"\n",
    "    [[x1, y1], [x2, y2], [x3, y3], [x4, y4]] = dots # Destructuring(비구조화 할당, 구조분해)\n",
    "    answer1 = ((y1 - y2) * (x3 - x4) == (y3 - y4) * (x1 - x2))  # 벡터의 외적이 0이면 평행과 동치\n",
    "    answer2 = ((y1 - y3) * (x2 - x4) == (y2 - y4) * (x1 - x3))\n",
    "    answer3 = ((y1 - y4) * (x2 - x3) == (y2 - y3) * (x1 - x4))\n",
    "    return 1 if answer1 or answer2 or answer3 else 0\n",
    "\n",
    "\n",
    "print(solution([[1, 4], [9, 2], [3, 8], [11, 6]]))\n",
    "print(solution([[3, 5], [4, 1], [2, 4], [5, 10]]))"
   ],
   "metadata": {
    "collapsed": false,
    "ExecuteTime": {
     "end_time": "2024-04-02T15:41:02.798696Z",
     "start_time": "2024-04-02T15:41:02.790396Z"
    }
   },
   "id": "491fbd4df89e8f34",
   "execution_count": 1
  },
  {
   "cell_type": "code",
   "outputs": [],
   "source": [],
   "metadata": {
    "collapsed": false
   },
   "id": "ec1e3e614bc3de30"
  }
 ],
 "metadata": {
  "kernelspec": {
   "display_name": "Python 3",
   "language": "python",
   "name": "python3"
  },
  "language_info": {
   "codemirror_mode": {
    "name": "ipython",
    "version": 2
   },
   "file_extension": ".py",
   "mimetype": "text/x-python",
   "name": "python",
   "nbconvert_exporter": "python",
   "pygments_lexer": "ipython2",
   "version": "2.7.6"
  }
 },
 "nbformat": 4,
 "nbformat_minor": 5
}
