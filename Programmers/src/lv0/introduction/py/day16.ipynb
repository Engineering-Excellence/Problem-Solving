{
 "cells": [
  {
   "cell_type": "markdown",
   "source": [
    "# Day 16 문자열, 수학, 배열, 조건문"
   ],
   "metadata": {
    "collapsed": false
   },
   "id": "96c59a642784bc0d"
  },
  {
   "cell_type": "code",
   "outputs": [
    {
     "name": "stdout",
     "output_type": "stream",
     "text": [
      "30\n",
      "22\n"
     ]
    }
   ],
   "source": [
    "def solution(message: str) -> int:\n",
    "    \"\"\"\n",
    "    편지\n",
    "    \n",
    "    :param message: 축하 문구\n",
    "    :return: message를 적기 위해 필요한 편지지의 최소 가로길이\n",
    "    \"\"\"\n",
    "    # return 2 * len(message)\n",
    "    return len(message) << 1\n",
    "\n",
    "\n",
    "print(solution(\"happy birthday!\"))\n",
    "print(solution(\"I love you~\"))"
   ],
   "metadata": {
    "collapsed": false,
    "ExecuteTime": {
     "end_time": "2024-03-02T12:21:23.748549700Z",
     "start_time": "2024-03-02T12:21:23.746037300Z"
    }
   },
   "id": "c6e9fc76f218a9f3",
   "execution_count": 2
  },
  {
   "cell_type": "code",
   "outputs": [
    {
     "name": "stdout",
     "output_type": "stream",
     "text": [
      "[8, 1]\n",
      "[11, 2]\n"
     ]
    }
   ],
   "source": [
    "def solution(array: list) -> list:\n",
    "    \"\"\"\n",
    "    가장 큰 수 찾기\n",
    "\n",
    "    :param array: 정수 배열\n",
    "    :return: 가장 큰 수와 그 수의 인덱스를 담은 배열\n",
    "    \"\"\"\n",
    "    m = max(array)\n",
    "    return [m, array.index(m)]\n",
    "\n",
    "\n",
    "print(solution([1, 8, 3]))\n",
    "print(solution([9, 10, 11, 8]))"
   ],
   "metadata": {
    "collapsed": false,
    "ExecuteTime": {
     "end_time": "2024-03-04T13:55:01.176864Z",
     "start_time": "2024-03-04T13:55:01.173885Z"
    }
   },
   "id": "6d0a82279b1d7fcf",
   "execution_count": 2
  },
  {
   "cell_type": "code",
   "outputs": [
    {
     "name": "stdout",
     "output_type": "stream",
     "text": [
      "7\n"
     ]
    }
   ],
   "source": [
    "def solution(my_string: str) -> int:\n",
    "    \"\"\"\n",
    "    문자열 계산하기\n",
    "    \n",
    "    :param my_string: 문자열\n",
    "    :return: 수식을 계산한 값\n",
    "    \"\"\"\n",
    "    return eval(my_string)\n",
    "\n",
    "\n",
    "print(solution(\"3 + 4\"))"
   ],
   "metadata": {
    "collapsed": false,
    "ExecuteTime": {
     "end_time": "2024-03-04T16:38:15.265214Z",
     "start_time": "2024-03-04T16:38:15.262384Z"
    }
   },
   "id": "513b83bc18aeea29",
   "execution_count": 3
  },
  {
   "cell_type": "code",
   "outputs": [],
   "source": [],
   "metadata": {
    "collapsed": false
   },
   "id": "bf8faff1c48322e8"
  }
 ],
 "metadata": {
  "kernelspec": {
   "display_name": "Python 3",
   "language": "python",
   "name": "python3"
  },
  "language_info": {
   "codemirror_mode": {
    "name": "ipython",
    "version": 2
   },
   "file_extension": ".py",
   "mimetype": "text/x-python",
   "name": "python",
   "nbconvert_exporter": "python",
   "pygments_lexer": "ipython2",
   "version": "2.7.6"
  }
 },
 "nbformat": 4,
 "nbformat_minor": 5
}
