{
 "cells": [
  {
   "cell_type": "markdown",
   "source": [
    "# Day 16 문자열, 수학, 배열, 조건문"
   ],
   "metadata": {
    "collapsed": false
   },
   "id": "96c59a642784bc0d"
  },
  {
   "cell_type": "code",
   "outputs": [
    {
     "name": "stdout",
     "output_type": "stream",
     "text": [
      "30\n",
      "22\n"
     ]
    }
   ],
   "source": [
    "def solution(message: str) -> int:\n",
    "    \"\"\"\n",
    "    편지\n",
    "    \n",
    "    :param message: 축하 문구\n",
    "    :return: message를 적기 위해 필요한 편지지의 최소 가로길이\n",
    "    \"\"\"\n",
    "    # return 2 * len(message)\n",
    "    return len(message) << 1\n",
    "\n",
    "\n",
    "print(solution(\"happy birthday!\"))\n",
    "print(solution(\"I love you~\"))"
   ],
   "metadata": {
    "collapsed": false,
    "ExecuteTime": {
     "end_time": "2024-03-02T12:21:23.748549700Z",
     "start_time": "2024-03-02T12:21:23.746037300Z"
    }
   },
   "id": "c6e9fc76f218a9f3",
   "execution_count": 2
  },
  {
   "cell_type": "code",
   "outputs": [],
   "source": [],
   "metadata": {
    "collapsed": false
   },
   "id": "6d0a82279b1d7fcf"
  }
 ],
 "metadata": {
  "kernelspec": {
   "display_name": "Python 3",
   "language": "python",
   "name": "python3"
  },
  "language_info": {
   "codemirror_mode": {
    "name": "ipython",
    "version": 2
   },
   "file_extension": ".py",
   "mimetype": "text/x-python",
   "name": "python",
   "nbconvert_exporter": "python",
   "pygments_lexer": "ipython2",
   "version": "2.7.6"
  }
 },
 "nbformat": 4,
 "nbformat_minor": 5
}
