{
 "cells": [
  {
   "cell_type": "markdown",
   "id": "8c825982f34a6780",
   "metadata": {},
   "source": [
    "# Day 20 수학, 시뮬레이션, 문자열, 사칙연산"
   ]
  },
  {
   "cell_type": "code",
   "execution_count": 1,
   "id": "fa1ad0e48b813519",
   "metadata": {
    "ExecuteTime": {
     "end_time": "2024-03-22T15:22:03.336141Z",
     "start_time": "2024-03-22T15:22:03.328764Z"
    }
   },
   "outputs": [
    {
     "name": "stdout",
     "output_type": "stream",
     "text": [
      "1\n",
      "4\n"
     ]
    }
   ],
   "source": [
    "def solution(dots: list) -> int:\n",
    "    \"\"\"\n",
    "    직사각형 넓이 구하기\n",
    "    \n",
    "    :param dots: \n",
    "    :return: \n",
    "    \"\"\"\n",
    "    return (max(dots)[0] - min(dots)[0]) * (max(dots)[1] - min(dots)[1])\n",
    "\n",
    "\n",
    "print(solution([[1, 1], [2, 1], [2, 2], [1, 2]]))\n",
    "print(solution([[-1, -1], [1, 1], [1, -1], [-1, 1]]))"
   ]
  },
  {
   "cell_type": "code",
   "execution_count": 2,
   "id": "8f9820a635d3764e",
   "metadata": {
    "ExecuteTime": {
     "end_time": "2024-03-22T15:22:03.350021Z",
     "start_time": "2024-03-22T15:22:03.336652Z"
    }
   },
   "outputs": [
    {
     "name": "stdout",
     "output_type": "stream",
     "text": [
      "[2, 1]\n",
      "[0, -4]\n"
     ]
    }
   ],
   "source": [
    "def solution(keyinput: list, board: list) -> list:\n",
    "    \"\"\"\n",
    "    캐릭터의 좌표\n",
    "    \n",
    "    :param keyinput: 입력한 방향키의 배열\n",
    "    :param board: 맵의 크기\n",
    "    :return: [0,0]에서 시작할 때 키 입력이 모두 끝난 뒤에 캐릭터의 좌표 [x, y]\n",
    "    \"\"\"\n",
    "    x_lim, y_lim = board[0] // 2, board[1] // 2\n",
    "    move = {'left': (-1, 0), 'right': (1, 0), 'up': (0, 1), 'down': (0, -1)}\n",
    "    x, y = 0, 0\n",
    "    for k in keyinput:\n",
    "        dx, dy = move[k]\n",
    "        if abs(x + dx) > x_lim or abs(y + dy) > y_lim:\n",
    "            continue\n",
    "        else:\n",
    "            x, y = x + dx, y + dy\n",
    "    return [x, y]\n",
    "\n",
    "\n",
    "print(solution([\"left\", \"right\", \"up\", \"right\", \"right\"], [11, 11]))\n",
    "print(solution([\"down\", \"down\", \"down\", \"down\", \"down\"], [7, 9]))"
   ]
  },
  {
   "cell_type": "code",
   "execution_count": 3,
   "id": "88aada33c6223787",
   "metadata": {
    "ExecuteTime": {
     "end_time": "2024-03-22T15:22:03.357247Z",
     "start_time": "2024-03-22T15:22:03.350021Z"
    }
   },
   "outputs": [
    {
     "name": "stdout",
     "output_type": "stream",
     "text": [
      "15\n",
      "240\n",
      "600\n"
     ]
    }
   ],
   "source": [
    "def solution(numbers: list) -> int:\n",
    "    \"\"\"\n",
    "    최댓값 만들기 (2)\n",
    "    \n",
    "    :param numbers: 정수 배열\n",
    "    :return: numbers의 원소 중 두 개를 곱해 만들 수 있는 최댓값\n",
    "    \"\"\"\n",
    "    numbers.sort()\n",
    "    return max(numbers[0] * numbers[1], numbers[-2] * numbers[-1])\n",
    "\n",
    "\n",
    "print(solution([1, 2, -3, 4, -5]))\n",
    "print(solution([0, -31, 24, 10, 1, 9]))\n",
    "print(solution([10, 20, 30, 5, 5, 20, 5]))"
   ]
  },
  {
   "cell_type": "code",
   "execution_count": 4,
   "id": "78a54489fce08a3",
   "metadata": {
    "ExecuteTime": {
     "end_time": "2024-03-22T15:22:03.363849Z",
     "start_time": "2024-03-22T15:22:03.357247Z"
    }
   },
   "outputs": [
    {
     "name": "stdout",
     "output_type": "stream",
     "text": [
      "4x + 7\n",
      "3x\n"
     ]
    }
   ],
   "source": [
    "def solution(polynomial: str) -> str:\n",
    "    \"\"\"\n",
    "    다항식 더하기\n",
    "    \n",
    "    :param polynomial: 덧셈으로 이루어진 다항식\n",
    "    :return: 동류항끼리 더한 결괏값을 문자열로 반환\n",
    "    \"\"\"\n",
    "    xnum = 0\n",
    "    const = 0\n",
    "    for c in polynomial.split(' + '):\n",
    "        if c.isdigit():\n",
    "            const += int(c)\n",
    "        else:\n",
    "            xnum = xnum + 1 if c == 'x' else xnum + int(c[:-1])\n",
    "    if xnum == 0:\n",
    "        return str(const)\n",
    "    elif xnum == 1:\n",
    "        return f'x + {const}' if const != 0 else 'x'\n",
    "    else:\n",
    "        return f'{xnum}x + {const}' if const != 0 else f'{xnum}x'\n",
    "\n",
    "\n",
    "print(solution(\"3x + 7 + x\"))\n",
    "print(solution(\"x + x + x\"))"
   ]
  },
  {
   "cell_type": "code",
   "execution_count": null,
   "id": "57cdaff2f7aba41c",
   "metadata": {},
   "outputs": [],
   "source": []
  }
 ],
 "metadata": {
  "kernelspec": {
   "display_name": "Python 3 (ipykernel)",
   "language": "python",
   "name": "python3"
  },
  "language_info": {
   "codemirror_mode": {
    "name": "ipython",
    "version": 3
   },
   "file_extension": ".py",
   "mimetype": "text/x-python",
   "name": "python",
   "nbconvert_exporter": "python",
   "pygments_lexer": "ipython3",
   "version": "3.11.5"
  }
 },
 "nbformat": 4,
 "nbformat_minor": 5
}
