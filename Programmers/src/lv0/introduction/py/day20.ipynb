{
 "cells": [
  {
   "cell_type": "markdown",
   "source": [
    "# Day 20 수학, 시뮬레이션, 문자열, 사칙연산"
   ],
   "metadata": {
    "collapsed": false
   },
   "id": "8c825982f34a6780"
  },
  {
   "cell_type": "code",
   "outputs": [
    {
     "name": "stdout",
     "output_type": "stream",
     "text": [
      "1\n",
      "4\n"
     ]
    }
   ],
   "source": [
    "def solution(dots: list) -> int:\n",
    "    \"\"\"\n",
    "    직사각형 넓이 구하기\n",
    "    \n",
    "    :param dots: \n",
    "    :return: \n",
    "    \"\"\"\n",
    "    return (max(dots)[0] - min(dots)[0]) * (max(dots)[1] - min(dots)[1])\n",
    "\n",
    "\n",
    "print(solution([[1, 1], [2, 1], [2, 2], [1, 2]]))\n",
    "print(solution([[-1, -1], [1, 1], [1, -1], [-1, 1]]))"
   ],
   "metadata": {
    "collapsed": false,
    "ExecuteTime": {
     "end_time": "2024-03-19T15:15:05.757910Z",
     "start_time": "2024-03-19T15:15:05.750881Z"
    }
   },
   "id": "fa1ad0e48b813519",
   "execution_count": 1
  },
  {
   "cell_type": "code",
   "outputs": [
    {
     "name": "stdout",
     "output_type": "stream",
     "text": [
      "[2, 1]\n",
      "[0, -4]\n"
     ]
    }
   ],
   "source": [
    "def solution(keyinput: list, board: list) -> list:\n",
    "    \"\"\"\n",
    "    캐릭터의 좌표\n",
    "    \n",
    "    :param keyinput: 입력한 방향키의 배열\n",
    "    :param board: 맵의 크기\n",
    "    :return: [0,0]에서 시작할 때 키 입력이 모두 끝난 뒤에 캐릭터의 좌표 [x, y]\n",
    "    \"\"\"\n",
    "    x_lim, y_lim = board[0] // 2, board[1] // 2\n",
    "    move = {'left': (-1, 0), 'right': (1, 0), 'up': (0, 1), 'down': (0, -1)}\n",
    "    x, y = 0, 0\n",
    "    for k in keyinput:\n",
    "        dx, dy = move[k]\n",
    "        if abs(x + dx) > x_lim or abs(y + dy) > y_lim:\n",
    "            continue\n",
    "        else:\n",
    "            x, y = x + dx, y + dy\n",
    "    return [x, y]\n",
    "\n",
    "\n",
    "print(solution([\"left\", \"right\", \"up\", \"right\", \"right\"], [11, 11]))\n",
    "print(solution([\"down\", \"down\", \"down\", \"down\", \"down\"], [7, 9]))"
   ],
   "metadata": {
    "collapsed": false,
    "ExecuteTime": {
     "end_time": "2024-03-20T16:30:58.004253Z",
     "start_time": "2024-03-20T16:30:57.997010Z"
    }
   },
   "id": "8f9820a635d3764e",
   "execution_count": 1
  },
  {
   "cell_type": "code",
   "outputs": [],
   "source": [],
   "metadata": {
    "collapsed": false
   },
   "id": "88aada33c6223787"
  }
 ],
 "metadata": {
  "kernelspec": {
   "display_name": "Python 3",
   "language": "python",
   "name": "python3"
  },
  "language_info": {
   "codemirror_mode": {
    "name": "ipython",
    "version": 2
   },
   "file_extension": ".py",
   "mimetype": "text/x-python",
   "name": "python",
   "nbconvert_exporter": "python",
   "pygments_lexer": "ipython2",
   "version": "2.7.6"
  }
 },
 "nbformat": 4,
 "nbformat_minor": 5
}
