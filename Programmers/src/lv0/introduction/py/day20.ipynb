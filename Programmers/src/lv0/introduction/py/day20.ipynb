{
 "cells": [
  {
   "cell_type": "markdown",
   "source": [
    "# Day 20 수학, 시뮬레이션, 문자열, 사칙연산"
   ],
   "metadata": {
    "collapsed": false
   },
   "id": "8c825982f34a6780"
  },
  {
   "cell_type": "code",
   "outputs": [
    {
     "name": "stdout",
     "output_type": "stream",
     "text": [
      "1\n",
      "4\n"
     ]
    }
   ],
   "source": [
    "def solution(dots: list) -> int:\n",
    "    \"\"\"\n",
    "    직사각형 넓이 구하기\n",
    "    \n",
    "    :param dots: \n",
    "    :return: \n",
    "    \"\"\"\n",
    "    return (max(dots)[0] - min(dots)[0]) * (max(dots)[1] - min(dots)[1])\n",
    "\n",
    "\n",
    "print(solution([[1, 1], [2, 1], [2, 2], [1, 2]]))\n",
    "print(solution([[-1, -1], [1, 1], [1, -1], [-1, 1]]))"
   ],
   "metadata": {
    "collapsed": false,
    "ExecuteTime": {
     "end_time": "2024-03-19T15:15:05.757910Z",
     "start_time": "2024-03-19T15:15:05.750881Z"
    }
   },
   "id": "fa1ad0e48b813519",
   "execution_count": 1
  },
  {
   "cell_type": "code",
   "outputs": [],
   "source": [],
   "metadata": {
    "collapsed": false
   },
   "id": "2e6b58eff3cb15c6"
  }
 ],
 "metadata": {
  "kernelspec": {
   "display_name": "Python 3",
   "language": "python",
   "name": "python3"
  },
  "language_info": {
   "codemirror_mode": {
    "name": "ipython",
    "version": 2
   },
   "file_extension": ".py",
   "mimetype": "text/x-python",
   "name": "python",
   "nbconvert_exporter": "python",
   "pygments_lexer": "ipython2",
   "version": "2.7.6"
  }
 },
 "nbformat": 4,
 "nbformat_minor": 5
}
