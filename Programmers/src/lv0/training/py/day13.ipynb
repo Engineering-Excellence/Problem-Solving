{
 "cells": [
  {
   "cell_type": "markdown",
   "source": [
    "# 리스트(배열)"
   ],
   "metadata": {
    "collapsed": false
   },
   "id": "b2950c0ddc2a4ba5"
  },
  {
   "cell_type": "code",
   "execution_count": 1,
   "id": "initial_id",
   "metadata": {
    "collapsed": true,
    "ExecuteTime": {
     "end_time": "2023-12-16T18:19:05.465449Z",
     "start_time": "2023-12-16T18:19:05.448227Z"
    }
   },
   "outputs": [],
   "source": [
    "# n 번째 원소부터\n",
    "def solution(num_list, n):\n",
    "    return num_list[n - 1:]"
   ]
  },
  {
   "cell_type": "code",
   "execution_count": 2,
   "outputs": [
    {
     "name": "stdout",
     "output_type": "stream",
     "text": [
      "[6]\n",
      "[2, 1, 7, 5]\n"
     ]
    }
   ],
   "source": [
    "print(solution([2, 1, 6], 3))\n",
    "print(solution([5, 2, 1, 7, 5], 2))"
   ],
   "metadata": {
    "collapsed": false,
    "ExecuteTime": {
     "end_time": "2023-12-16T18:19:05.470988Z",
     "start_time": "2023-12-16T18:19:05.467081Z"
    }
   },
   "id": "3ee396093fb15798"
  },
  {
   "cell_type": "code",
   "execution_count": 3,
   "outputs": [],
   "source": [
    "# 순서 바꾸기\n",
    "def solution(num_list, n):\n",
    "    return num_list[n:] + (num_list[:n])"
   ],
   "metadata": {
    "collapsed": false,
    "ExecuteTime": {
     "end_time": "2023-12-16T18:19:05.500016Z",
     "start_time": "2023-12-16T18:19:05.472549Z"
    }
   },
   "id": "17831e6114a809e1"
  },
  {
   "cell_type": "code",
   "execution_count": 4,
   "outputs": [
    {
     "name": "stdout",
     "output_type": "stream",
     "text": [
      "[1, 6, 2]\n",
      "[7, 5, 5, 2, 1]\n"
     ]
    }
   ],
   "source": [
    "print(solution([2, 1, 6], 1))\n",
    "print(solution([5, 2, 1, 7, 5], 3))"
   ],
   "metadata": {
    "collapsed": false,
    "ExecuteTime": {
     "end_time": "2023-12-16T18:19:05.500828Z",
     "start_time": "2023-12-16T18:19:05.476836Z"
    }
   },
   "id": "3d4bb4fdee1e022a"
  },
  {
   "cell_type": "code",
   "execution_count": 5,
   "outputs": [],
   "source": [
    "# 왼쪽 오른쪽\n",
    "def solution(str_list):\n",
    "    for i, s in enumerate(str_list):\n",
    "        if s == 'l':\n",
    "            return str_list[:i]\n",
    "        elif s == 'r':\n",
    "            return str_list[i + 1:]\n",
    "    return []"
   ],
   "metadata": {
    "collapsed": false,
    "ExecuteTime": {
     "end_time": "2023-12-16T18:19:05.519980Z",
     "start_time": "2023-12-16T18:19:05.504091Z"
    }
   },
   "id": "679146a78a7bfd45"
  },
  {
   "cell_type": "code",
   "execution_count": 6,
   "outputs": [
    {
     "name": "stdout",
     "output_type": "stream",
     "text": [
      "['u', 'u']\n",
      "[]\n"
     ]
    }
   ],
   "source": [
    "print(solution([\"u\", \"u\", \"l\", \"r\"]))\n",
    "print(solution([\"l\"]))"
   ],
   "metadata": {
    "collapsed": false,
    "ExecuteTime": {
     "end_time": "2023-12-16T18:19:05.562512Z",
     "start_time": "2023-12-16T18:19:05.523073Z"
    }
   },
   "id": "e8f8cfc41c0ad2f2"
  },
  {
   "cell_type": "code",
   "execution_count": null,
   "outputs": [],
   "source": [],
   "metadata": {
    "collapsed": false
   },
   "id": "b1e9923dbb8e098a"
  }
 ],
 "metadata": {
  "kernelspec": {
   "display_name": "Python 3",
   "language": "python",
   "name": "python3"
  },
  "language_info": {
   "codemirror_mode": {
    "name": "ipython",
    "version": 2
   },
   "file_extension": ".py",
   "mimetype": "text/x-python",
   "name": "python",
   "nbconvert_exporter": "python",
   "pygments_lexer": "ipython2",
   "version": "2.7.6"
  }
 },
 "nbformat": 4,
 "nbformat_minor": 5
}
