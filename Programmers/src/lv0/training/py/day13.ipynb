{
 "cells": [
  {
   "cell_type": "markdown",
   "source": [
    "# 리스트(배열)"
   ],
   "metadata": {
    "collapsed": false
   },
   "id": "b2950c0ddc2a4ba5"
  },
  {
   "cell_type": "code",
   "execution_count": 1,
   "id": "initial_id",
   "metadata": {
    "collapsed": true,
    "ExecuteTime": {
     "end_time": "2023-12-16T08:23:30.199798Z",
     "start_time": "2023-12-16T08:23:30.195085Z"
    }
   },
   "outputs": [],
   "source": [
    "# n 번째 원소부터\n",
    "def solution(num_list, n):\n",
    "    return num_list[n - 1:]"
   ]
  },
  {
   "cell_type": "code",
   "execution_count": 2,
   "outputs": [
    {
     "name": "stdout",
     "output_type": "stream",
     "text": [
      "[6]\n",
      "[2, 1, 7, 5]\n"
     ]
    }
   ],
   "source": [
    "print(solution([2, 1, 6], 3))\n",
    "print(solution([5, 2, 1, 7, 5], 2))"
   ],
   "metadata": {
    "collapsed": false,
    "ExecuteTime": {
     "end_time": "2023-12-16T08:23:30.212077Z",
     "start_time": "2023-12-16T08:23:30.200458Z"
    }
   },
   "id": "3ee396093fb15798"
  },
  {
   "cell_type": "code",
   "execution_count": 3,
   "outputs": [],
   "source": [
    "# 순서 바꾸기\n",
    "def solution(num_list, n):\n",
    "    return num_list[n:] + (num_list[:n])"
   ],
   "metadata": {
    "collapsed": false,
    "ExecuteTime": {
     "end_time": "2023-12-16T08:23:30.212432Z",
     "start_time": "2023-12-16T08:23:30.204275Z"
    }
   },
   "id": "17831e6114a809e1"
  },
  {
   "cell_type": "code",
   "execution_count": 4,
   "outputs": [
    {
     "name": "stdout",
     "output_type": "stream",
     "text": [
      "[1, 6, 2]\n",
      "[7, 5, 5, 2, 1]\n"
     ]
    }
   ],
   "source": [
    "print(solution([2, 1, 6], 1))\n",
    "print(solution([5, 2, 1, 7, 5], 3))"
   ],
   "metadata": {
    "collapsed": false,
    "ExecuteTime": {
     "end_time": "2023-12-16T08:23:30.212865Z",
     "start_time": "2023-12-16T08:23:30.207118Z"
    }
   },
   "id": "3d4bb4fdee1e022a"
  },
  {
   "cell_type": "code",
   "execution_count": null,
   "outputs": [],
   "source": [],
   "metadata": {
    "collapsed": false
   },
   "id": "679146a78a7bfd45"
  }
 ],
 "metadata": {
  "kernelspec": {
   "display_name": "Python 3",
   "language": "python",
   "name": "python3"
  },
  "language_info": {
   "codemirror_mode": {
    "name": "ipython",
    "version": 2
   },
   "file_extension": ".py",
   "mimetype": "text/x-python",
   "name": "python",
   "nbconvert_exporter": "python",
   "pygments_lexer": "ipython2",
   "version": "2.7.6"
  }
 },
 "nbformat": 4,
 "nbformat_minor": 5
}
