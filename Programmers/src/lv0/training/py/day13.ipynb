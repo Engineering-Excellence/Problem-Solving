{
 "cells": [
  {
   "cell_type": "markdown",
   "source": [
    "# 리스트(배열)"
   ],
   "metadata": {
    "collapsed": false
   },
   "id": "b2950c0ddc2a4ba5"
  },
  {
   "cell_type": "code",
   "execution_count": 1,
   "id": "initial_id",
   "metadata": {
    "collapsed": true,
    "ExecuteTime": {
     "end_time": "2023-12-18T15:06:16.868515Z",
     "start_time": "2023-12-18T15:06:16.861509Z"
    }
   },
   "outputs": [],
   "source": [
    "# n 번째 원소부터\n",
    "def solution(num_list, n):\n",
    "    return num_list[n - 1:]"
   ]
  },
  {
   "cell_type": "code",
   "execution_count": 2,
   "outputs": [
    {
     "name": "stdout",
     "output_type": "stream",
     "text": [
      "[6]\n",
      "[2, 1, 7, 5]\n"
     ]
    }
   ],
   "source": [
    "print(solution([2, 1, 6], 3))\n",
    "print(solution([5, 2, 1, 7, 5], 2))"
   ],
   "metadata": {
    "collapsed": false,
    "ExecuteTime": {
     "end_time": "2023-12-18T15:06:16.874369Z",
     "start_time": "2023-12-18T15:06:16.869981Z"
    }
   },
   "id": "3ee396093fb15798"
  },
  {
   "cell_type": "code",
   "execution_count": 3,
   "outputs": [],
   "source": [
    "# 순서 바꾸기\n",
    "def solution(num_list, n):\n",
    "    return num_list[n:] + (num_list[:n])"
   ],
   "metadata": {
    "collapsed": false,
    "ExecuteTime": {
     "end_time": "2023-12-18T15:06:16.877346Z",
     "start_time": "2023-12-18T15:06:16.874707Z"
    }
   },
   "id": "17831e6114a809e1"
  },
  {
   "cell_type": "code",
   "execution_count": 4,
   "outputs": [
    {
     "name": "stdout",
     "output_type": "stream",
     "text": [
      "[1, 6, 2]\n",
      "[7, 5, 5, 2, 1]\n"
     ]
    }
   ],
   "source": [
    "print(solution([2, 1, 6], 1))\n",
    "print(solution([5, 2, 1, 7, 5], 3))"
   ],
   "metadata": {
    "collapsed": false,
    "ExecuteTime": {
     "end_time": "2023-12-18T15:06:16.884249Z",
     "start_time": "2023-12-18T15:06:16.877743Z"
    }
   },
   "id": "3d4bb4fdee1e022a"
  },
  {
   "cell_type": "code",
   "execution_count": 5,
   "outputs": [],
   "source": [
    "# 왼쪽 오른쪽\n",
    "def solution(str_list):\n",
    "    for i, s in enumerate(str_list):\n",
    "        if s == 'l':\n",
    "            return str_list[:i]\n",
    "        elif s == 'r':\n",
    "            return str_list[i + 1:]\n",
    "    return []"
   ],
   "metadata": {
    "collapsed": false,
    "ExecuteTime": {
     "end_time": "2023-12-18T15:06:16.896313Z",
     "start_time": "2023-12-18T15:06:16.882632Z"
    }
   },
   "id": "679146a78a7bfd45"
  },
  {
   "cell_type": "code",
   "execution_count": 6,
   "outputs": [
    {
     "name": "stdout",
     "output_type": "stream",
     "text": [
      "['u', 'u']\n",
      "[]\n"
     ]
    }
   ],
   "source": [
    "print(solution([\"u\", \"u\", \"l\", \"r\"]))\n",
    "print(solution([\"l\"]))"
   ],
   "metadata": {
    "collapsed": false,
    "ExecuteTime": {
     "end_time": "2023-12-18T15:06:16.896746Z",
     "start_time": "2023-12-18T15:06:16.886708Z"
    }
   },
   "id": "e8f8cfc41c0ad2f2"
  },
  {
   "cell_type": "code",
   "execution_count": 7,
   "outputs": [],
   "source": [
    "# n 번째 원소까지\n",
    "def solution(num_list, n):\n",
    "    return num_list[:n]"
   ],
   "metadata": {
    "collapsed": false,
    "ExecuteTime": {
     "end_time": "2023-12-18T15:06:16.897069Z",
     "start_time": "2023-12-18T15:06:16.889532Z"
    }
   },
   "id": "b1e9923dbb8e098a"
  },
  {
   "cell_type": "code",
   "execution_count": 8,
   "outputs": [
    {
     "name": "stdout",
     "output_type": "stream",
     "text": [
      "[2]\n",
      "[5, 2, 1]\n"
     ]
    }
   ],
   "source": [
    "print(solution([2, 1, 6], 1))\n",
    "print(solution([5, 2, 1, 7, 5], 3))"
   ],
   "metadata": {
    "collapsed": false,
    "ExecuteTime": {
     "end_time": "2023-12-18T15:06:16.897457Z",
     "start_time": "2023-12-18T15:06:16.892297Z"
    }
   },
   "id": "bb1bf3eac2ed7e77"
  },
  {
   "cell_type": "code",
   "execution_count": 9,
   "outputs": [],
   "source": [
    "# n개 간격의 원소들\n",
    "def solution(num_list, n):\n",
    "    return num_list[::n]"
   ],
   "metadata": {
    "collapsed": false,
    "ExecuteTime": {
     "end_time": "2023-12-18T15:06:16.898832Z",
     "start_time": "2023-12-18T15:06:16.894632Z"
    }
   },
   "id": "6b9173d7a01375c2"
  },
  {
   "cell_type": "code",
   "execution_count": 10,
   "outputs": [
    {
     "name": "stdout",
     "output_type": "stream",
     "text": [
      "[4, 6, 7]\n",
      "[4, 7]\n"
     ]
    }
   ],
   "source": [
    "print(solution([4, 2, 6, 1, 7, 6], 2))\n",
    "print(solution([4, 2, 6, 1, 7, 6], 4))"
   ],
   "metadata": {
    "collapsed": false,
    "ExecuteTime": {
     "end_time": "2023-12-18T15:06:16.905265Z",
     "start_time": "2023-12-18T15:06:16.899964Z"
    }
   },
   "id": "47f2b983b1f3fe72"
  },
  {
   "cell_type": "code",
   "execution_count": null,
   "outputs": [],
   "source": [],
   "metadata": {
    "collapsed": false
   },
   "id": "77644021373ae9dd"
  }
 ],
 "metadata": {
  "kernelspec": {
   "display_name": "Python 3",
   "language": "python",
   "name": "python3"
  },
  "language_info": {
   "codemirror_mode": {
    "name": "ipython",
    "version": 2
   },
   "file_extension": ".py",
   "mimetype": "text/x-python",
   "name": "python",
   "nbconvert_exporter": "python",
   "pygments_lexer": "ipython2",
   "version": "2.7.6"
  }
 },
 "nbformat": 4,
 "nbformat_minor": 5
}
