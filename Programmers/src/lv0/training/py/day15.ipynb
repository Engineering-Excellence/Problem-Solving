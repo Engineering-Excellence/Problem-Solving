{
 "cells": [
  {
   "cell_type": "markdown",
   "source": [
    "# 리스트(배열), 문자열"
   ],
   "metadata": {
    "collapsed": false
   },
   "id": "6e042859733eff86"
  },
  {
   "cell_type": "code",
   "execution_count": 1,
   "outputs": [
    {
     "name": "stdout",
     "output_type": "stream",
     "text": [
      "[2, 2, 6, 50, 99, 49]\n"
     ]
    }
   ],
   "source": [
    "# 조건에 맞게 수열 변환하기 1\n",
    "def solution(arr):\n",
    "    for i, n in enumerate(arr):\n",
    "        if n >= 50 and n % 2 == 0:\n",
    "            arr[i] //= 2\n",
    "        elif n < 50 and n % 2 == 1:\n",
    "            arr[i] *= 2\n",
    "    return arr\n",
    "\n",
    "\n",
    "print(solution([1, 2, 3, 100, 99, 98]))"
   ],
   "metadata": {
    "collapsed": false,
    "ExecuteTime": {
     "end_time": "2023-12-20T15:15:18.840854Z",
     "start_time": "2023-12-20T15:15:18.835319Z"
    }
   },
   "id": "a0ec9e084339da14"
  },
  {
   "cell_type": "code",
   "execution_count": 2,
   "outputs": [
    {
     "name": "stdout",
     "output_type": "stream",
     "text": [
      "5\n"
     ]
    }
   ],
   "source": [
    "# 조건에 맞게 수열 변환하기 2\n",
    "global x\n",
    "x = 0\n",
    "\n",
    "\n",
    "def solution(arr):\n",
    "    global x\n",
    "    next_arr = []\n",
    "    for i in arr:\n",
    "        if i >= 50 and i % 2 == 0:\n",
    "            i //= 2\n",
    "        elif i < 50 and i % 2 == 1:\n",
    "            i = 2 * i + 1\n",
    "        next_arr.append(i)\n",
    "    if arr == next_arr:\n",
    "        return x\n",
    "    else:\n",
    "        x += 1\n",
    "        return solution(next_arr)\n",
    "\n",
    "\n",
    "print(solution([1, 2, 3, 100, 99, 98]))"
   ],
   "metadata": {
    "collapsed": false,
    "ExecuteTime": {
     "end_time": "2023-12-20T15:20:33.021017Z",
     "start_time": "2023-12-20T15:20:33.016740Z"
    }
   },
   "id": "4f142304e19f1353"
  },
  {
   "cell_type": "code",
   "execution_count": null,
   "outputs": [],
   "source": [],
   "metadata": {
    "collapsed": false
   },
   "id": "3f89dd42df6a9efb"
  }
 ],
 "metadata": {
  "kernelspec": {
   "display_name": "Python 3",
   "language": "python",
   "name": "python3"
  },
  "language_info": {
   "codemirror_mode": {
    "name": "ipython",
    "version": 2
   },
   "file_extension": ".py",
   "mimetype": "text/x-python",
   "name": "python",
   "nbconvert_exporter": "python",
   "pygments_lexer": "ipython2",
   "version": "2.7.6"
  }
 },
 "nbformat": 4,
 "nbformat_minor": 5
}
