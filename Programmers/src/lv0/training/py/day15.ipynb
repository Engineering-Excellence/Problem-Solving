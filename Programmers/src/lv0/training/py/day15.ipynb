{
 "cells": [
  {
   "cell_type": "markdown",
   "source": [
    "# 리스트(배열), 문자열"
   ],
   "metadata": {
    "collapsed": false
   },
   "id": "6e042859733eff86"
  },
  {
   "cell_type": "code",
   "execution_count": 1,
   "outputs": [
    {
     "name": "stdout",
     "output_type": "stream",
     "text": [
      "[2, 2, 6, 50, 99, 49]\n"
     ]
    }
   ],
   "source": [
    "# 조건에 맞게 수열 변환하기 1\n",
    "def solution(arr):\n",
    "    for i, n in enumerate(arr):\n",
    "        if n >= 50 and n % 2 == 0:\n",
    "            arr[i] //= 2\n",
    "        elif n < 50 and n % 2 == 1:\n",
    "            arr[i] *= 2\n",
    "    return arr\n",
    "\n",
    "\n",
    "print(solution([1, 2, 3, 100, 99, 98]))"
   ],
   "metadata": {
    "collapsed": false,
    "ExecuteTime": {
     "end_time": "2023-12-21T17:23:17.644349Z",
     "start_time": "2023-12-21T17:23:17.637202Z"
    }
   },
   "id": "a0ec9e084339da14"
  },
  {
   "cell_type": "code",
   "execution_count": 2,
   "outputs": [
    {
     "name": "stdout",
     "output_type": "stream",
     "text": [
      "5\n"
     ]
    }
   ],
   "source": [
    "# 조건에 맞게 수열 변환하기 2\n",
    "global x\n",
    "x = 0\n",
    "\n",
    "\n",
    "def solution(arr):\n",
    "    global x\n",
    "    next_arr = []\n",
    "    for i in arr:\n",
    "        if i >= 50 and i % 2 == 0:\n",
    "            i //= 2\n",
    "        elif i < 50 and i % 2 == 1:\n",
    "            i = 2 * i + 1\n",
    "        next_arr.append(i)\n",
    "    if arr == next_arr:\n",
    "        return x\n",
    "    else:\n",
    "        x += 1\n",
    "        return solution(next_arr)\n",
    "\n",
    "\n",
    "print(solution([1, 2, 3, 100, 99, 98]))"
   ],
   "metadata": {
    "collapsed": false,
    "ExecuteTime": {
     "end_time": "2023-12-21T17:23:17.648680Z",
     "start_time": "2023-12-21T17:23:17.642835Z"
    }
   },
   "id": "4f142304e19f1353"
  },
  {
   "cell_type": "code",
   "execution_count": 3,
   "outputs": [
    {
     "name": "stdout",
     "output_type": "stream",
     "text": [
      "11\n"
     ]
    }
   ],
   "source": [
    "# 1로 만들기\n",
    "def solution(num_list):\n",
    "    '''\n",
    "    cnt = 0\n",
    "    for i in range(len(num_list)):\n",
    "        while num_list[i] > 1:\n",
    "            cnt += 1\n",
    "            num_list[i] //= 2\n",
    "    return cnt\n",
    "    '''\n",
    "    return sum(len(bin(i)) - 3 for i in num_list)\n",
    "\n",
    "\n",
    "print(solution([12, 4, 15, 1, 14]))"
   ],
   "metadata": {
    "collapsed": false,
    "ExecuteTime": {
     "end_time": "2023-12-21T17:23:17.672218Z",
     "start_time": "2023-12-21T17:23:17.648821Z"
    }
   },
   "id": "3f89dd42df6a9efb"
  },
  {
   "cell_type": "code",
   "execution_count": 4,
   "outputs": [
    {
     "name": "stdout",
     "output_type": "stream",
     "text": [
      "51\n",
      "120\n"
     ]
    }
   ],
   "source": [
    "# 길이에 따른 연산\n",
    "from math import prod\n",
    "\n",
    "\n",
    "def solution(num_list):\n",
    "    return sum(num_list) if len(num_list) >= 11 else prod(num_list)\n",
    "\n",
    "\n",
    "print(solution([3, 4, 5, 2, 5, 4, 6, 7, 3, 7, 2, 2, 1]))\n",
    "print(solution([2, 3, 4, 5]))"
   ],
   "metadata": {
    "collapsed": false,
    "ExecuteTime": {
     "end_time": "2023-12-21T17:23:17.672520Z",
     "start_time": "2023-12-21T17:23:17.652196Z"
    }
   },
   "id": "df1dfef5ad003e8"
  },
  {
   "cell_type": "code",
   "execution_count": 5,
   "outputs": [
    {
     "name": "stdout",
     "output_type": "stream",
     "text": [
      "1\n",
      "0\n"
     ]
    }
   ],
   "source": [
    "# 원하는 문자열 찾기\n",
    "def solution(myString, pat):\n",
    "    return int(pat.upper() in myString.upper())\n",
    "\n",
    "\n",
    "print(solution(\"AbCdEfG\", \"aBc\"))\n",
    "print(solution(\"aaAA\", \"aaaaa\"))"
   ],
   "metadata": {
    "collapsed": false,
    "ExecuteTime": {
     "end_time": "2023-12-21T17:23:17.672682Z",
     "start_time": "2023-12-21T17:23:17.656692Z"
    }
   },
   "id": "7e768e6209b0cef5"
  },
  {
   "cell_type": "code",
   "execution_count": null,
   "outputs": [],
   "source": [],
   "metadata": {
    "collapsed": false
   },
   "id": "7588ba4b4596549e"
  }
 ],
 "metadata": {
  "kernelspec": {
   "display_name": "Python 3",
   "language": "python",
   "name": "python3"
  },
  "language_info": {
   "codemirror_mode": {
    "name": "ipython",
    "version": 2
   },
   "file_extension": ".py",
   "mimetype": "text/x-python",
   "name": "python",
   "nbconvert_exporter": "python",
   "pygments_lexer": "ipython2",
   "version": "2.7.6"
  }
 },
 "nbformat": 4,
 "nbformat_minor": 5
}
