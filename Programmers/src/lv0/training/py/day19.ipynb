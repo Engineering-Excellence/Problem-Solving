{
 "cells": [
  {
   "cell_type": "markdown",
   "source": [
    "# Day 19 문자열, 리스트(배열)"
   ],
   "metadata": {
    "collapsed": false
   },
   "id": "cdfe2cb8d416d98"
  },
  {
   "cell_type": "code",
   "outputs": [
    {
     "name": "stdout",
     "output_type": "stream",
     "text": [
      "['onlettu', 'etom', 'to']\n",
      "['d']\n",
      "['EMPTY']\n"
     ]
    }
   ],
   "source": [
    "# 세 개의 구분자\n",
    "from re import split\n",
    "\n",
    "\n",
    "def solution(myStr: str) -> list:\n",
    "    answer = list(filter(None, split('a|b|c', myStr)))\n",
    "    return answer if answer else [\"EMPTY\"]\n",
    "\n",
    "\n",
    "print(solution(\"baconlettucetomato\"))\n",
    "print(solution(\"abcd\"))\n",
    "print(solution(\"cabab\"))"
   ],
   "metadata": {
    "collapsed": false,
    "ExecuteTime": {
     "end_time": "2024-01-01T16:31:29.630367Z",
     "start_time": "2024-01-01T16:31:29.615652Z"
    }
   },
   "id": "907e8ab7766b05d8",
   "execution_count": 1
  },
  {
   "cell_type": "code",
   "outputs": [],
   "source": [],
   "metadata": {
    "collapsed": false
   },
   "id": "918c9c0dbe8cd533"
  }
 ],
 "metadata": {
  "kernelspec": {
   "display_name": "Python 3",
   "language": "python",
   "name": "python3"
  },
  "language_info": {
   "codemirror_mode": {
    "name": "ipython",
    "version": 2
   },
   "file_extension": ".py",
   "mimetype": "text/x-python",
   "name": "python",
   "nbconvert_exporter": "python",
   "pygments_lexer": "ipython2",
   "version": "2.7.6"
  }
 },
 "nbformat": 4,
 "nbformat_minor": 5
}
