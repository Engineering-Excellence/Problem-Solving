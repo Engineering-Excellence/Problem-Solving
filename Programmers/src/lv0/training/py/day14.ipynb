{
 "cells": [
  {
   "cell_type": "markdown",
   "source": [
    "# 리스트(배열)"
   ],
   "metadata": {
    "collapsed": false
   },
   "id": "8b3718ac997e17ec"
  },
  {
   "cell_type": "code",
   "execution_count": 2,
   "outputs": [
    {
     "name": "stdout",
     "output_type": "stream",
     "text": [
      "17\n",
      "8\n"
     ]
    }
   ],
   "source": [
    "# 홀수 vs 짝수\n",
    "def solution(num_list):\n",
    "    return max(sum(num_list[::2]), sum(num_list[1::2]))\n",
    "\n",
    "\n",
    "print(solution([4, 2, 6, 1, 7, 6]))\n",
    "print(solution([-1, 2, 5, 6, 3]))"
   ],
   "metadata": {
    "collapsed": false,
    "ExecuteTime": {
     "end_time": "2023-12-19T16:05:29.230526Z",
     "start_time": "2023-12-19T16:05:29.226568Z"
    }
   },
   "id": "bce064490b84a55"
  },
  {
   "cell_type": "code",
   "execution_count": 3,
   "outputs": [
    {
     "name": "stdout",
     "output_type": "stream",
     "text": [
      "['nami', 'vex']\n"
     ]
    }
   ],
   "source": [
    "# 5명씩\n",
    "def solution(names):\n",
    "    return names[::5]\n",
    "\n",
    "\n",
    "print(solution([\"nami\", \"ahri\", \"jayce\", \"garen\", \"ivern\", \"vex\", \"jinx\"]))"
   ],
   "metadata": {
    "collapsed": false,
    "ExecuteTime": {
     "end_time": "2023-12-19T16:05:29.248674Z",
     "start_time": "2023-12-19T16:05:29.230968Z"
    }
   },
   "id": "fbaaada698f5a07a"
  },
  {
   "cell_type": "code",
   "execution_count": 1,
   "outputs": [
    {
     "name": "stdout",
     "output_type": "stream",
     "text": [
      "['practiceguitar', 'studygraph']\n"
     ]
    }
   ],
   "source": [
    "# 할 일 목록\n",
    "# import numpy as np\n",
    "\n",
    "\n",
    "def solution(todo_list, finished):\n",
    "    # return np.array(todo_list)[np.logical_not(finished)].tolist()\n",
    "    return [work for work, b in zip(todo_list, finished) if not b]\n",
    "\n",
    "\n",
    "print(solution([\"problemsolving\", \"practiceguitar\", \"swim\", \"studygraph\"], [True, False, True, False]))"
   ],
   "metadata": {
    "collapsed": false,
    "ExecuteTime": {
     "end_time": "2023-12-20T10:46:27.213372Z",
     "start_time": "2023-12-20T10:46:27.118963Z"
    }
   },
   "id": "6e4c6f565d73baf6"
  },
  {
   "cell_type": "code",
   "execution_count": null,
   "outputs": [],
   "source": [],
   "metadata": {
    "collapsed": false
   },
   "id": "a50205ae7a6215c7"
  }
 ],
 "metadata": {
  "kernelspec": {
   "display_name": "Python 3",
   "language": "python",
   "name": "python3"
  },
  "language_info": {
   "codemirror_mode": {
    "name": "ipython",
    "version": 2
   },
   "file_extension": ".py",
   "mimetype": "text/x-python",
   "name": "python",
   "nbconvert_exporter": "python",
   "pygments_lexer": "ipython2",
   "version": "2.7.6"
  }
 },
 "nbformat": 4,
 "nbformat_minor": 5
}
