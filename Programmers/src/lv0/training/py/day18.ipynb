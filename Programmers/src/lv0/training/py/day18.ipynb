{
 "cells": [
  {
   "cell_type": "markdown",
   "source": [
    "# Day 18 문자열"
   ],
   "metadata": {
    "collapsed": false
   },
   "id": "777f43dead4abd40"
  },
  {
   "cell_type": "code",
   "outputs": [
    {
     "name": "stdout",
     "output_type": "stream",
     "text": [
      "[1, 2, 1, 0, 1, 0]\n",
      "[0, 3, 3, 3]\n"
     ]
    }
   ],
   "source": [
    "def solution(myString):\n",
    "    \"\"\"\n",
    "    x 사이의 개수\n",
    "    :param myString: 문자열\n",
    "    :return: myString을 문자 \"x\"를 기준으로 나눴을 때 나눠진 문자열 각각의 길이를 순서대로 저장한 배열\n",
    "    \"\"\"\n",
    "    return [len(s) for s in myString.split('x')]\n",
    "\n",
    "\n",
    "print(solution(\"oxooxoxxox\"))\n",
    "print(solution(\"xabcxdefxghi\"))"
   ],
   "metadata": {
    "collapsed": false,
    "ExecuteTime": {
     "end_time": "2023-12-30T15:53:06.109475Z",
     "start_time": "2023-12-30T15:53:06.104124Z"
    }
   },
   "id": "da6bcbdb72cae3e0",
   "execution_count": 1
  },
  {
   "cell_type": "code",
   "outputs": [],
   "source": [],
   "metadata": {
    "collapsed": false
   },
   "id": "21745ad694b97b31"
  }
 ],
 "metadata": {
  "kernelspec": {
   "display_name": "Python 3",
   "language": "python",
   "name": "python3"
  },
  "language_info": {
   "codemirror_mode": {
    "name": "ipython",
    "version": 2
   },
   "file_extension": ".py",
   "mimetype": "text/x-python",
   "name": "python",
   "nbconvert_exporter": "python",
   "pygments_lexer": "ipython2",
   "version": "2.7.6"
  }
 },
 "nbformat": 4,
 "nbformat_minor": 5
}
