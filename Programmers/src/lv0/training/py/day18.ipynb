{
 "cells": [
  {
   "cell_type": "markdown",
   "source": [
    "# Day 18 문자열"
   ],
   "metadata": {
    "collapsed": false
   },
   "id": "777f43dead4abd40"
  },
  {
   "cell_type": "code",
   "outputs": [
    {
     "name": "stdout",
     "output_type": "stream",
     "text": [
      "[1, 2, 1, 0, 1, 0]\n",
      "[0, 3, 3, 3]\n"
     ]
    }
   ],
   "source": [
    "# x 사이의 개수\n",
    "def solution(myString: str) -> list:\n",
    "    return [len(s) for s in myString.split('x')]\n",
    "\n",
    "\n",
    "print(solution(\"oxooxoxxox\"))\n",
    "print(solution(\"xabcxdefxghi\"))"
   ],
   "metadata": {
    "collapsed": false,
    "ExecuteTime": {
     "end_time": "2023-12-31T15:54:57.280335Z",
     "start_time": "2023-12-31T15:54:57.271501Z"
    }
   },
   "id": "da6bcbdb72cae3e0",
   "execution_count": 1
  },
  {
   "cell_type": "code",
   "outputs": [
    {
     "name": "stdout",
     "output_type": "stream",
     "text": [
      "['a', 'b', 'c', 'd']\n",
      "['aaaa', 'bbb', 'cc', 'd']\n"
     ]
    }
   ],
   "source": [
    "# 문자열 잘라서 정렬하기\n",
    "def solution(myString: str) -> list:\n",
    "    # return sorted(filter(None, myString.split('x')))\n",
    "    return sorted(s for s in myString.split('x') if s)\n",
    "\n",
    "\n",
    "print(solution(\"axbxcxdx\"))\n",
    "print(solution(\"dxccxbbbxaaaa\"))"
   ],
   "metadata": {
    "collapsed": false,
    "ExecuteTime": {
     "end_time": "2023-12-31T15:54:57.280625Z",
     "start_time": "2023-12-31T15:54:57.275397Z"
    }
   },
   "id": "21745ad694b97b31",
   "execution_count": 2
  },
  {
   "cell_type": "code",
   "outputs": [
    {
     "name": "stdout",
     "output_type": "stream",
     "text": [
      "55\n",
      "-7777\n",
      "1600000000\n"
     ]
    }
   ],
   "source": [
    "# 간단한 식 계산하기\n",
    "def solution(binomial: str) -> int:\n",
    "    return eval(binomial)\n",
    "\n",
    "\n",
    "print(solution(\"43 + 12\"))\n",
    "print(solution(\"0 - 7777\"))\n",
    "print(solution(\"40000 * 40000\"))"
   ],
   "metadata": {
    "collapsed": false,
    "ExecuteTime": {
     "end_time": "2023-12-31T15:54:57.280793Z",
     "start_time": "2023-12-31T15:54:57.277384Z"
    }
   },
   "id": "7fe51f6559390242",
   "execution_count": 3
  },
  {
   "cell_type": "code",
   "outputs": [
    {
     "name": "stdout",
     "output_type": "stream",
     "text": [
      "1\n",
      "0\n"
     ]
    }
   ],
   "source": [
    "# 문자열 바꿔서 찾기\n",
    "def solution(myString: str, pat: str) -> int:\n",
    "    return int(pat in ''.join(['B' if c == 'A' else 'A' for c in myString]))\n",
    "\n",
    "\n",
    "print(solution(\"ABBAA\", \"AABB\"))\n",
    "print(solution(\"ABAB\", \"ABAB\"))"
   ],
   "metadata": {
    "collapsed": false,
    "ExecuteTime": {
     "end_time": "2023-12-31T15:54:57.283787Z",
     "start_time": "2023-12-31T15:54:57.280118Z"
    }
   },
   "id": "f35198dddad3211c",
   "execution_count": 4
  },
  {
   "cell_type": "code",
   "outputs": [
    {
     "name": "stdout",
     "output_type": "stream",
     "text": [
      "rnasterpiece\n",
      "prograrnrners\n",
      "jerry\n",
      "burn\n"
     ]
    }
   ],
   "source": [
    "# rny_string\n",
    "def solution(rny_string: str) -> str:\n",
    "    return rny_string.replace('m', 'rn')\n",
    "\n",
    "\n",
    "print(solution(\"masterpiece\"))\n",
    "print(solution(\"programmers\"))\n",
    "print(solution(\"jerry\"))\n",
    "print(solution(\"burn\"))"
   ],
   "metadata": {
    "collapsed": false,
    "ExecuteTime": {
     "end_time": "2023-12-31T15:54:57.293511Z",
     "start_time": "2023-12-31T15:54:57.284202Z"
    }
   },
   "id": "e6a3fd93dff05",
   "execution_count": 5
  },
  {
   "cell_type": "code",
   "outputs": [],
   "source": [],
   "metadata": {
    "collapsed": false,
    "ExecuteTime": {
     "end_time": "2023-12-31T15:54:57.293775Z",
     "start_time": "2023-12-31T15:54:57.286483Z"
    }
   },
   "id": "28a6328c97dcf428",
   "execution_count": 5
  }
 ],
 "metadata": {
  "kernelspec": {
   "display_name": "Python 3",
   "language": "python",
   "name": "python3"
  },
  "language_info": {
   "codemirror_mode": {
    "name": "ipython",
    "version": 2
   },
   "file_extension": ".py",
   "mimetype": "text/x-python",
   "name": "python",
   "nbconvert_exporter": "python",
   "pygments_lexer": "ipython2",
   "version": "2.7.6"
  }
 },
 "nbformat": 4,
 "nbformat_minor": 5
}
