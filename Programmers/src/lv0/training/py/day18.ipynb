{
 "cells": [
  {
   "cell_type": "markdown",
   "source": [
    "# Day 18 문자열"
   ],
   "metadata": {
    "collapsed": false
   },
   "id": "777f43dead4abd40"
  },
  {
   "cell_type": "code",
   "outputs": [
    {
     "name": "stdout",
     "output_type": "stream",
     "text": [
      "[1, 2, 1, 0, 1, 0]\n",
      "[0, 3, 3, 3]\n"
     ]
    }
   ],
   "source": [
    "def solution(myString: str) -> list:\n",
    "    \"\"\"\n",
    "    x 사이의 개수\n",
    "    \n",
    "    :param myString: 문자열\n",
    "    :return: myString을 문자 \"x\"를 기준으로 나눴을 때 나눠진 문자열 각각의 길이를 순서대로 저장한 배열\n",
    "    \"\"\"\n",
    "    return [len(s) for s in myString.split('x')]\n",
    "\n",
    "\n",
    "print(solution(\"oxooxoxxox\"))\n",
    "print(solution(\"xabcxdefxghi\"))"
   ],
   "metadata": {
    "collapsed": false,
    "ExecuteTime": {
     "end_time": "2023-12-31T15:10:21.255861Z",
     "start_time": "2023-12-31T15:10:21.251664Z"
    }
   },
   "id": "da6bcbdb72cae3e0",
   "execution_count": 1
  },
  {
   "cell_type": "code",
   "outputs": [
    {
     "name": "stdout",
     "output_type": "stream",
     "text": [
      "['a', 'b', 'c', 'd']\n",
      "['aaaa', 'bbb', 'cc', 'd']\n"
     ]
    }
   ],
   "source": [
    "def solution(myString: str) -> list:\n",
    "    \"\"\"\n",
    "    문자열 잘라서 정렬하기\n",
    "    \n",
    "    :param myString: 문자열\n",
    "    :return: \"x\"를 기준으로 해당 문자열을 잘라내 배열을 만든 후 사전순으로 정렬한 배열\n",
    "    \"\"\"\n",
    "    # return sorted(filter(None, myString.split('x')))\n",
    "    return sorted(s for s in myString.split('x') if s)\n",
    "\n",
    "\n",
    "print(solution(\"axbxcxdx\"))\n",
    "print(solution(\"dxccxbbbxaaaa\"))"
   ],
   "metadata": {
    "collapsed": false,
    "ExecuteTime": {
     "end_time": "2023-12-31T15:10:21.265743Z",
     "start_time": "2023-12-31T15:10:21.257296Z"
    }
   },
   "id": "21745ad694b97b31",
   "execution_count": 2
  },
  {
   "cell_type": "code",
   "outputs": [
    {
     "name": "stdout",
     "output_type": "stream",
     "text": [
      "55\n",
      "-7777\n",
      "1600000000\n"
     ]
    }
   ],
   "source": [
    "def solution(binomial: str) -> int:\n",
    "    \"\"\"\n",
    "    간단한 식 계산하기\n",
    "\n",
    "    :param binomial: 문자열\n",
    "    :return: 주어진 식을 계산한 정수\n",
    "    \"\"\"\n",
    "    return eval(binomial)\n",
    "\n",
    "\n",
    "print(solution(\"43 + 12\"))\n",
    "print(solution(\"0 - 7777\"))\n",
    "print(solution(\"40000 * 40000\"))"
   ],
   "metadata": {
    "collapsed": false,
    "ExecuteTime": {
     "end_time": "2023-12-31T15:10:51.962143Z",
     "start_time": "2023-12-31T15:10:51.952042Z"
    }
   },
   "id": "7fe51f6559390242",
   "execution_count": 4
  },
  {
   "cell_type": "code",
   "outputs": [
    {
     "name": "stdout",
     "output_type": "stream",
     "text": [
      "1\n",
      "0\n"
     ]
    }
   ],
   "source": [
    "def solution(myString: str, pat: str) -> int:\n",
    "    \"\"\"\n",
    "    문자열 바꿔서 찾기\n",
    "    \n",
    "    :param myString: 문자 \"A\"와 \"B\"로 이루어진 문자열\n",
    "    :param pat: 문자 \"A\"와 \"B\"로 이루어진 문자열\n",
    "    :return: myString의 \"A\"를 \"B\"로, \"B\"를 \"A\"로 바꾼 문자열의 연속하는 부분 문자열 중 pat이 있으면 1을 아니면 0을 반환\n",
    "    \"\"\"\n",
    "    return int(pat in ''.join(['B' if c == 'A' else 'A' for c in myString]))\n",
    "\n",
    "\n",
    "print(solution(\"ABBAA\", \"AABB\"))\n",
    "print(solution(\"ABAB\", \"ABAB\"))"
   ],
   "metadata": {
    "collapsed": false,
    "ExecuteTime": {
     "end_time": "2023-12-31T15:18:14.703667Z",
     "start_time": "2023-12-31T15:18:14.694452Z"
    }
   },
   "id": "f35198dddad3211c",
   "execution_count": 6
  },
  {
   "cell_type": "code",
   "outputs": [],
   "source": [],
   "metadata": {
    "collapsed": false
   },
   "id": "e6a3fd93dff05"
  }
 ],
 "metadata": {
  "kernelspec": {
   "display_name": "Python 3",
   "language": "python",
   "name": "python3"
  },
  "language_info": {
   "codemirror_mode": {
    "name": "ipython",
    "version": 2
   },
   "file_extension": ".py",
   "mimetype": "text/x-python",
   "name": "python",
   "nbconvert_exporter": "python",
   "pygments_lexer": "ipython2",
   "version": "2.7.6"
  }
 },
 "nbformat": 4,
 "nbformat_minor": 5
}
