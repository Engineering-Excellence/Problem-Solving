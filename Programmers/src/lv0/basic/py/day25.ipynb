{
 "cells": [
  {
   "cell_type": "markdown",
   "id": "6ca095d700a92212",
   "metadata": {},
   "source": [
    "# Day 25 이차원 리스트(배열)"
   ]
  },
  {
   "cell_type": "code",
   "id": "8226ed7fcfc0d307",
   "metadata": {
    "ExecuteTime": {
     "end_time": "2024-04-07T03:29:08.780033Z",
     "start_time": "2024-04-07T03:29:08.764273Z"
    }
   },
   "source": [
    "def solution(arr: list) -> int:\n",
    "    \"\"\"\n",
    "    특별한 이차원 배열 2\n",
    "\n",
    "    :param arr: n × n 크기의 이차원 배열\n",
    "    :return: 0 ≤ i, j < n인 정수 i, j에 대하여 arr[i][j] = arr[j][i]을 만족하면 1을 아니라면 0을 반환\n",
    "    \"\"\"\n",
    "    # for i in range(len(arr[0])):\n",
    "    #     for j in range(i):\n",
    "    #         if arr[i][j] != arr[j][i]:\n",
    "    #             return 0\n",
    "    # return 1\n",
    "    return int(arr == list(map(list, zip(*arr))))\n",
    "\n",
    "\n",
    "print(solution([[5, 192, 33], [192, 72, 95], [33, 95, 999]]))\n",
    "print(solution([[19, 498, 258, 587], [63, 93, 7, 754], [258, 7, 1000, 723], [587, 754, 723, 81]]))"
   ],
   "outputs": [
    {
     "name": "stdout",
     "output_type": "stream",
     "text": [
      "1\n",
      "0\n"
     ]
    }
   ],
   "execution_count": 1
  },
  {
   "cell_type": "code",
   "id": "92e54a26425eb025",
   "metadata": {
    "ExecuteTime": {
     "end_time": "2024-04-07T03:29:08.786006Z",
     "start_time": "2024-04-07T03:29:08.781037Z"
    }
   },
   "source": [
    "def solution(arr: list) -> list:\n",
    "    \"\"\"\n",
    "    정사각형으로 만들기\n",
    "\n",
    "    :param arr: 이차원 정수 배열\n",
    "    :return: arr의 행의 수가 더 많다면 열의 수가 행의 수와 같아지도록 각 행의 끝에 0을 추가하고, 열의 수가 더 많다면 행의 수가 열의 수와 같아지도록 각 열의 끝에 0을 추가한 이차원 배열을 반환\n",
    "    \"\"\"\n",
    "    row = len(arr)\n",
    "    col = len(arr[0])\n",
    "    if row < col:\n",
    "        for _ in range(col - row):\n",
    "            arr.append([0] * col)\n",
    "    elif row > col:\n",
    "        for i in range(row):\n",
    "            arr[i].extend([0] * (row - col))\n",
    "    return arr\n",
    "\n",
    "\n",
    "print(solution([[572, 22, 37], [287, 726, 384], [85, 137, 292], [487, 13, 876]]))\n",
    "print(solution([[57, 192, 534, 2], [9, 345, 192, 999]]))\n",
    "print(solution([[1, 2], [3, 4]]))"
   ],
   "outputs": [
    {
     "name": "stdout",
     "output_type": "stream",
     "text": [
      "[[572, 22, 37, 0], [287, 726, 384, 0], [85, 137, 292, 0], [487, 13, 876, 0]]\n",
      "[[57, 192, 534, 2], [9, 345, 192, 999], [0, 0, 0, 0], [0, 0, 0, 0]]\n",
      "[[1, 2], [3, 4]]\n"
     ]
    }
   ],
   "execution_count": 2
  },
  {
   "cell_type": "code",
   "id": "fa66fe31e94aed6a",
   "metadata": {
    "ExecuteTime": {
     "end_time": "2024-04-07T03:36:35.914736Z",
     "start_time": "2024-04-07T03:36:35.911273Z"
    }
   },
   "source": [
    "def solution(board: list, k: int) -> int:\n",
    "    \"\"\"\n",
    "    이차원 배열 대각선 순회하기\n",
    "    \n",
    "    :param board: 2차원 정수 배열\n",
    "    :param k: 정수\n",
    "    :return: i + j <= k를 만족하는 모든 (i, j)에 대한 board[i][j]의 합\n",
    "    \"\"\"\n",
    "    # answer = 0\n",
    "    # for i in range(len(board)):\n",
    "    #     for j in range(len(board[0])):\n",
    "    #         if i + j <= k:\n",
    "    #             answer += board[i][j]\n",
    "    #         else:\n",
    "    #             break\n",
    "    # return answer\n",
    "    return sum(board[i][j] for i in range(len(board)) for j in range(len(board[0])) if i + j <= k)\n",
    "\n",
    "\n",
    "print(solution([[0, 1, 2], [1, 2, 3], [2, 3, 4], [3, 4, 5]], 2))"
   ],
   "outputs": [
    {
     "name": "stdout",
     "output_type": "stream",
     "text": [
      "8\n"
     ]
    }
   ],
   "execution_count": 12
  },
  {
   "metadata": {},
   "cell_type": "code",
   "outputs": [],
   "execution_count": null,
   "source": "",
   "id": "b8515727a361904"
  }
 ],
 "metadata": {
  "kernelspec": {
   "display_name": "Python 3 (ipykernel)",
   "language": "python",
   "name": "python3"
  },
  "language_info": {
   "codemirror_mode": {
    "name": "ipython",
    "version": 3
   },
   "file_extension": ".py",
   "mimetype": "text/x-python",
   "name": "python",
   "nbconvert_exporter": "python",
   "pygments_lexer": "ipython3",
   "version": "3.11.5"
  }
 },
 "nbformat": 4,
 "nbformat_minor": 5
}
