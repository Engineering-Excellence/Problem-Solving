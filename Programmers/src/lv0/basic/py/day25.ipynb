{
 "cells": [
  {
   "cell_type": "markdown",
   "source": [
    "# Day 25 이차원 리스트(배열)"
   ],
   "metadata": {
    "collapsed": false
   },
   "id": "6ca095d700a92212"
  },
  {
   "cell_type": "code",
   "outputs": [
    {
     "name": "stdout",
     "output_type": "stream",
     "text": [
      "1\n",
      "0\n"
     ]
    }
   ],
   "source": [
    "def solution2(arr: list) -> int:\n",
    "    \"\"\"\n",
    "    특별한 이차원 배열 2\n",
    "\n",
    "    :param arr: n × n 크기의 이차원 배열\n",
    "    :return: 0 ≤ i, j < n인 정수 i, j에 대하여 arr[i][j] = arr[j][i]을 만족하면 1을 아니라면 0을 반환\n",
    "    \"\"\"\n",
    "    # for i in range(len(arr[0])):\n",
    "    #     for j in range(i):\n",
    "    #         if arr[i][j] != arr[j][i]:\n",
    "    #             return 0\n",
    "    # return 1\n",
    "    return int(arr == list(map(list, zip(*arr))))\n",
    "\n",
    "\n",
    "print(solution2([[5, 192, 33], [192, 72, 95], [33, 95, 999]]))\n",
    "print(solution2([[19, 498, 258, 587], [63, 93, 7, 754], [258, 7, 1000, 723], [587, 754, 723, 81]]))"
   ],
   "metadata": {
    "collapsed": false,
    "ExecuteTime": {
     "end_time": "2024-02-19T11:34:04.944285900Z",
     "start_time": "2024-02-19T11:34:04.934587900Z"
    }
   },
   "id": "8226ed7fcfc0d307",
   "execution_count": 1
  },
  {
   "cell_type": "code",
   "outputs": [],
   "source": [],
   "metadata": {
    "collapsed": false
   },
   "id": "92e54a26425eb025"
  }
 ],
 "metadata": {
  "kernelspec": {
   "display_name": "Python 3",
   "language": "python",
   "name": "python3"
  },
  "language_info": {
   "codemirror_mode": {
    "name": "ipython",
    "version": 2
   },
   "file_extension": ".py",
   "mimetype": "text/x-python",
   "name": "python",
   "nbconvert_exporter": "python",
   "pygments_lexer": "ipython2",
   "version": "2.7.6"
  }
 },
 "nbformat": 4,
 "nbformat_minor": 5
}
