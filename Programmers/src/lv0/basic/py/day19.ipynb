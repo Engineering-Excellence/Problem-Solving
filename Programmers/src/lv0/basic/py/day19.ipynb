{
 "cells": [
  {
   "cell_type": "markdown",
   "source": [
    "# Day 19 문자열, 리스트(배열)"
   ],
   "metadata": {
    "collapsed": false
   },
   "id": "cdfe2cb8d416d98"
  },
  {
   "cell_type": "code",
   "outputs": [
    {
     "name": "stdout",
     "output_type": "stream",
     "text": [
      "['onlettu', 'etom', 'to']\n",
      "['d']\n",
      "['EMPTY']\n"
     ]
    }
   ],
   "source": [
    "# 세 개의 구분자\n",
    "from re import split\n",
    "\n",
    "\n",
    "def solution(myStr: str) -> list:\n",
    "    answer = list(filter(None, split('a|b|c', myStr)))\n",
    "    return answer if answer else [\"EMPTY\"]\n",
    "\n",
    "\n",
    "print(solution(\"baconlettucetomato\"))\n",
    "print(solution(\"abcd\"))\n",
    "print(solution(\"cabab\"))"
   ],
   "metadata": {
    "collapsed": false,
    "ExecuteTime": {
     "end_time": "2024-01-04T14:29:34.096378Z",
     "start_time": "2024-01-04T14:29:34.090897Z"
    }
   },
   "id": "907e8ab7766b05d8",
   "execution_count": 1
  },
  {
   "cell_type": "code",
   "outputs": [
    {
     "name": "stdout",
     "output_type": "stream",
     "text": [
      "[5, 5, 5, 5, 5, 1, 4, 4, 4, 4]\n",
      "[6, 6, 6, 6, 6, 6, 6, 6, 6, 6, 6, 6]\n",
      "[1]\n"
     ]
    }
   ],
   "source": [
    "# 배열의 원소만큼 추가하기\n",
    "def solution(arr: list) -> list:\n",
    "    return [i for i in arr for j in range(i)]\n",
    "\n",
    "\n",
    "print(solution([5, 1, 4]))\n",
    "print(solution([6, 6]))\n",
    "print(solution([1]))"
   ],
   "metadata": {
    "collapsed": false,
    "ExecuteTime": {
     "end_time": "2024-01-04T14:29:34.110678Z",
     "start_time": "2024-01-04T14:29:34.095882Z"
    }
   },
   "id": "918c9c0dbe8cd533",
   "execution_count": 2
  },
  {
   "cell_type": "code",
   "outputs": [
    {
     "name": "stdout",
     "output_type": "stream",
     "text": [
      "[3, 3, 3, 3, 4, 4, 4, 4]\n"
     ]
    }
   ],
   "source": [
    "# 빈 배열에 추가, 삭제하기\n",
    "def solution(arr: list, flag: list) -> list:\n",
    "    answer = []\n",
    "    for i, f in zip(arr, flag):\n",
    "        if f:\n",
    "            answer.extend([i] * i * 2)\n",
    "        else:\n",
    "            answer = answer[:-i]\n",
    "    return answer\n",
    "\n",
    "\n",
    "print(solution([3, 2, 4, 1, 3], [True, False, True, False, False]))"
   ],
   "metadata": {
    "collapsed": false,
    "ExecuteTime": {
     "end_time": "2024-01-04T14:29:34.125482Z",
     "start_time": "2024-01-04T14:29:34.099958Z"
    }
   },
   "id": "5e03677f05ffea5b",
   "execution_count": 3
  },
  {
   "cell_type": "code",
   "outputs": [
    {
     "name": "stdout",
     "output_type": "stream",
     "text": [
      "[0, 1, 0]\n",
      "[0, 1, 0, 1, 0]\n",
      "[-1]\n"
     ]
    }
   ],
   "source": [
    "# 배열 만들기 6\n",
    "def solution(arr: list) -> list:\n",
    "    stk = []\n",
    "    for i in range(len(arr)):\n",
    "        if stk and stk[-1] == arr[i]:\n",
    "            stk.pop()\n",
    "        else:\n",
    "            stk.append(arr[i])\n",
    "    return stk or [-1]\n",
    "\n",
    "\n",
    "print(solution([0, 1, 1, 1, 0]))\n",
    "print(solution([0, 1, 0, 1, 0]))\n",
    "print(solution([0, 1, 1, 0]))"
   ],
   "metadata": {
    "collapsed": false,
    "ExecuteTime": {
     "end_time": "2024-01-04T14:29:34.125960Z",
     "start_time": "2024-01-04T14:29:34.103786Z"
    }
   },
   "id": "382126a49cd2d9b4",
   "execution_count": 4
  },
  {
   "cell_type": "code",
   "outputs": [
    {
     "name": "stdout",
     "output_type": "stream",
     "text": [
      "[0, 1, 2]\n",
      "[0, 1, -1, -1]\n"
     ]
    }
   ],
   "source": [
    "# 무작위로 K개의 수 뽑기\n",
    "def solution(arr: list, k: int) -> list:\n",
    "    ans = []\n",
    "    for i in arr:\n",
    "        if i not in ans:\n",
    "            ans.append(i)\n",
    "        elif len(ans) >= k:\n",
    "            break\n",
    "    return ans + [-1] * (k - len(ans))\n",
    "\n",
    "\n",
    "print(solution([0, 1, 1, 2, 2, 3], 3))\n",
    "print(solution([0, 1, 1, 1, 1], 4))"
   ],
   "metadata": {
    "collapsed": false,
    "ExecuteTime": {
     "end_time": "2024-01-04T14:29:34.126231Z",
     "start_time": "2024-01-04T14:29:34.107170Z"
    }
   },
   "id": "e9516690f2260c7f",
   "execution_count": 5
  },
  {
   "cell_type": "code",
   "outputs": [],
   "source": [],
   "metadata": {
    "collapsed": false
   },
   "id": "3fb85c092fc9a3e0"
  }
 ],
 "metadata": {
  "kernelspec": {
   "display_name": "Python 3",
   "language": "python",
   "name": "python3"
  },
  "language_info": {
   "codemirror_mode": {
    "name": "ipython",
    "version": 2
   },
   "file_extension": ".py",
   "mimetype": "text/x-python",
   "name": "python",
   "nbconvert_exporter": "python",
   "pygments_lexer": "ipython2",
   "version": "2.7.6"
  }
 },
 "nbformat": 4,
 "nbformat_minor": 5
}
