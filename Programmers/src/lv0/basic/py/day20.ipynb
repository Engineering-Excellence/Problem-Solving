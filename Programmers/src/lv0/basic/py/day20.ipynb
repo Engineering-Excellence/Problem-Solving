{
 "cells": [
  {
   "cell_type": "markdown",
   "source": [
    "# Day 20 함수(메서드)"
   ],
   "metadata": {
    "collapsed": false
   },
   "id": "8f119f92388eb9c"
  },
  {
   "cell_type": "code",
   "outputs": [
    {
     "name": "stdout",
     "output_type": "stream",
     "text": [
      "[1, 2, 3, 4, 5, 6, 0, 0]\n",
      "[58, 172, 746, 89]\n"
     ]
    }
   ],
   "source": [
    "# 배열의 길이를 2의 거듭제곱으로 만들기\n",
    "def solution(arr: list) -> list:\n",
    "    # a = 1\n",
    "    # b = len(arr)\n",
    "    # while a < b :\n",
    "    #     a *= 2\n",
    "    # return arr + [0] * (a-b)\n",
    "    l = len(arr)\n",
    "    while bin(l).count('1') != 1:\n",
    "        l += l & (-l)\n",
    "    return arr + [0] * (l - len(arr))\n",
    "\n",
    "\n",
    "print(solution([1, 2, 3, 4, 5, 6]))\n",
    "print(solution([58, 172, 746, 89]))"
   ],
   "metadata": {
    "collapsed": false,
    "ExecuteTime": {
     "end_time": "2024-01-05T12:44:12.113480Z",
     "start_time": "2024-01-05T12:44:12.106992Z"
    }
   },
   "id": "3b391b81df86ff81",
   "execution_count": 1
  },
  {
   "cell_type": "code",
   "outputs": [
    {
     "name": "stdout",
     "output_type": "stream",
     "text": [
      "-1\n",
      "1\n",
      "0\n"
     ]
    }
   ],
   "source": [
    "# 배열 비교하기\n",
    "def solution(arr1: list, arr2: list) -> int:\n",
    "    return (len(arr1) > len(arr2)) - (len(arr2) > len(arr1)) or (sum(arr1) > sum(arr2)) - (sum(arr2) > sum(arr1))\n",
    "\n",
    "\n",
    "print(solution([49, 13], [70, 11, 2]))\n",
    "print(solution([100, 17, 84, 1], [55, 12, 65, 36]))\n",
    "print(solution([1, 2, 3, 4, 5], [3, 3, 3, 3, 3]))"
   ],
   "metadata": {
    "collapsed": false,
    "ExecuteTime": {
     "end_time": "2024-01-05T12:46:24.766771Z",
     "start_time": "2024-01-05T12:46:24.754115Z"
    }
   },
   "id": "72d069ce983244bc",
   "execution_count": 2
  },
  {
   "cell_type": "code",
   "outputs": [
    {
     "name": "stdout",
     "output_type": "stream",
     "text": [
      "2\n"
     ]
    }
   ],
   "source": [
    "# 문자열 묶기\n",
    "def solution(strArr: list) -> int:\n",
    "    cnt = [0] * 30\n",
    "    for s in strArr:\n",
    "        cnt[len(s) - 1] += 1\n",
    "    return max(cnt)\n",
    "\n",
    "\n",
    "print(solution([\"a\", \"bc\", \"d\", \"efg\", \"hi\"]))"
   ],
   "metadata": {
    "collapsed": false,
    "ExecuteTime": {
     "end_time": "2024-01-05T12:47:28.836860Z",
     "start_time": "2024-01-05T12:47:28.831004Z"
    }
   },
   "id": "3dcd3bd07d975c62",
   "execution_count": 3
  },
  {
   "cell_type": "code",
   "outputs": [
    {
     "name": "stdout",
     "output_type": "stream",
     "text": [
      "[76, 12, 127, 276, 60]\n",
      "[444, 655, 666, 877]\n"
     ]
    }
   ],
   "source": [
    "# 배열의 길이에 따라 다른 연산하기\n",
    "def solution(arr: list, n: int) -> list:\n",
    "    for i in range(len(arr)):\n",
    "        if (i + len(arr)) % 2:\n",
    "            arr[i] += n\n",
    "    return arr\n",
    "\n",
    "\n",
    "print(solution([49, 12, 100, 276, 33], 27))\n",
    "print(solution([444, 555, 666, 777], 100))"
   ],
   "metadata": {
    "collapsed": false,
    "ExecuteTime": {
     "end_time": "2024-01-05T12:48:43.648469Z",
     "start_time": "2024-01-05T12:48:43.644334Z"
    }
   },
   "id": "5a11c3d3c25d766c",
   "execution_count": 4
  },
  {
   "cell_type": "code",
   "outputs": [
    {
     "name": "stdout",
     "output_type": "stream",
     "text": [
      "[1, 4, 12, 14, 15]\n"
     ]
    }
   ],
   "source": [
    "# 뒤에서 5등까지\n",
    "def solution(num_list: list) -> list:\n",
    "    return sorted(num_list)[:5]\n",
    "\n",
    "\n",
    "print(solution([12, 4, 15, 46, 38, 1, 14]))"
   ],
   "metadata": {
    "collapsed": false,
    "ExecuteTime": {
     "end_time": "2024-01-05T12:49:31.074481Z",
     "start_time": "2024-01-05T12:49:31.059826Z"
    }
   },
   "id": "cb9813e8ff475a09",
   "execution_count": 5
  },
  {
   "cell_type": "code",
   "outputs": [],
   "source": [],
   "metadata": {
    "collapsed": false
   },
   "id": "a74c2254ae2ca320"
  }
 ],
 "metadata": {
  "kernelspec": {
   "display_name": "Python 3",
   "language": "python",
   "name": "python3"
  },
  "language_info": {
   "codemirror_mode": {
    "name": "ipython",
    "version": 2
   },
   "file_extension": ".py",
   "mimetype": "text/x-python",
   "name": "python",
   "nbconvert_exporter": "python",
   "pygments_lexer": "ipython2",
   "version": "2.7.6"
  }
 },
 "nbformat": 4,
 "nbformat_minor": 5
}
