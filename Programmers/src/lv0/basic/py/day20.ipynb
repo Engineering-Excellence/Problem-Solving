{
 "cells": [
  {
   "cell_type": "markdown",
   "source": [
    "# Day 20 함수(메서드)"
   ],
   "metadata": {
    "collapsed": false
   },
   "id": "8f119f92388eb9c"
  },
  {
   "cell_type": "code",
   "outputs": [
    {
     "name": "stdout",
     "output_type": "stream",
     "text": [
      "[1, 2, 3, 4, 5, 6, 0, 0]\n",
      "[58, 172, 746, 89]\n"
     ]
    }
   ],
   "source": [
    "# 배열의 길이를 2의 거듭제곱으로 만들기\n",
    "def solution(arr: list) -> list:\n",
    "    # a = 1\n",
    "    # b = len(arr)\n",
    "    # while a < b :\n",
    "    #     a *= 2\n",
    "    # return arr + [0] * (a-b)\n",
    "    l = len(arr)\n",
    "    while bin(l).count('1') != 1:\n",
    "        l += l & (-l)\n",
    "    return arr + [0] * (l - len(arr))\n",
    "\n",
    "\n",
    "print(solution([1, 2, 3, 4, 5, 6]))\n",
    "print(solution([58, 172, 746, 89]))"
   ],
   "metadata": {
    "collapsed": false,
    "ExecuteTime": {
     "end_time": "2024-01-05T12:44:12.113480Z",
     "start_time": "2024-01-05T12:44:12.106992Z"
    }
   },
   "id": "3b391b81df86ff81",
   "execution_count": 1
  },
  {
   "cell_type": "code",
   "outputs": [],
   "source": [],
   "metadata": {
    "collapsed": false
   },
   "id": "72d069ce983244bc"
  }
 ],
 "metadata": {
  "kernelspec": {
   "display_name": "Python 3",
   "language": "python",
   "name": "python3"
  },
  "language_info": {
   "codemirror_mode": {
    "name": "ipython",
    "version": 2
   },
   "file_extension": ".py",
   "mimetype": "text/x-python",
   "name": "python",
   "nbconvert_exporter": "python",
   "pygments_lexer": "ipython2",
   "version": "2.7.6"
  }
 },
 "nbformat": 4,
 "nbformat_minor": 5
}
