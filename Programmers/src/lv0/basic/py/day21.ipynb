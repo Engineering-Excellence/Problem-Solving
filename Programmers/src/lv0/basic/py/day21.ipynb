{
 "cells": [
  {
   "cell_type": "markdown",
   "source": [
    "# Day 21 함수(메서드)"
   ],
   "metadata": {
    "collapsed": false
   },
   "id": "be5467fa479ecc46"
  },
  {
   "cell_type": "code",
   "outputs": [
    {
     "name": "stdout",
     "output_type": "stream",
     "text": [
      "[15, 32, 38, 46, 56]\n"
     ]
    }
   ],
   "source": [
    "def solution(num_list: list) -> list:\n",
    "    \"\"\"\n",
    "    뒤에서 5등 위로\n",
    "\n",
    "    :param num_list: 정수로 이루어진 리스트\n",
    "    :return: num_list에서 가장 작은 5개의 수를 제외한 수들을 오름차순으로 담은 리스트\n",
    "    \"\"\"\n",
    "    return sorted(num_list)[5:]\n",
    "\n",
    "\n",
    "print(solution([12, 4, 15, 46, 38, 1, 14, 56, 32, 10]))"
   ],
   "metadata": {
    "collapsed": false,
    "ExecuteTime": {
     "end_time": "2024-01-06T03:06:35.128943Z",
     "start_time": "2024-01-06T03:06:35.121871Z"
    }
   },
   "id": "ba18c4bc1a88f1ac",
   "execution_count": 1
  },
  {
   "cell_type": "code",
   "outputs": [],
   "source": [],
   "metadata": {
    "collapsed": false
   },
   "id": "ad809cae3b9e039b"
  }
 ],
 "metadata": {
  "kernelspec": {
   "display_name": "Python 3",
   "language": "python",
   "name": "python3"
  },
  "language_info": {
   "codemirror_mode": {
    "name": "ipython",
    "version": 2
   },
   "file_extension": ".py",
   "mimetype": "text/x-python",
   "name": "python",
   "nbconvert_exporter": "python",
   "pygments_lexer": "ipython2",
   "version": "2.7.6"
  }
 },
 "nbformat": 4,
 "nbformat_minor": 5
}
