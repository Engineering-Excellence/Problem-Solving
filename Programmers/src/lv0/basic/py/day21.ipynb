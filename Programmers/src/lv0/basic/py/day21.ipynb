{
 "cells": [
  {
   "cell_type": "markdown",
   "id": "be5467fa479ecc46",
   "metadata": {},
   "source": [
    "# Day 21 함수(메서드)"
   ]
  },
  {
   "cell_type": "code",
   "execution_count": 1,
   "id": "ba18c4bc1a88f1ac",
   "metadata": {
    "ExecuteTime": {
     "end_time": "2024-01-06T03:06:35.128943Z",
     "start_time": "2024-01-06T03:06:35.121871Z"
    }
   },
   "outputs": [
    {
     "name": "stdout",
     "output_type": "stream",
     "text": [
      "[15, 32, 38, 46, 56]\n"
     ]
    }
   ],
   "source": [
    "def solution(num_list: list) -> list:\n",
    "    \"\"\"\n",
    "    뒤에서 5등 위로\n",
    "\n",
    "    :param num_list: 정수로 이루어진 리스트\n",
    "    :return: num_list에서 가장 작은 5개의 수를 제외한 수들을 오름차순으로 담은 리스트\n",
    "    \"\"\"\n",
    "    return sorted(num_list)[5:]\n",
    "\n",
    "\n",
    "print(solution([12, 4, 15, 46, 38, 1, 14, 56, 32, 10]))"
   ]
  },
  {
   "cell_type": "code",
   "execution_count": 2,
   "id": "ad809cae3b9e039b",
   "metadata": {
    "ExecuteTime": {
     "end_time": "2024-01-06T03:10:59.262759Z",
     "start_time": "2024-01-06T03:10:59.258948Z"
    }
   },
   "outputs": [
    {
     "name": "stdout",
     "output_type": "stream",
     "text": [
      "20403\n",
      "102\n",
      "50200\n"
     ]
    }
   ],
   "source": [
    "def solution(rank: list, attendance: list) -> int:\n",
    "    \"\"\"\n",
    "    전국 대회 선발 고사\n",
    "    \n",
    "    :param rank: 각 학생들의 선발 고사 등수를 담은 정수 배열\n",
    "    :param attendance: 전국 대회 참여 가능 여부가 담긴 boolean 배열\n",
    "    :return: 전국 대회에 선발된 학생 번호들을 등수가 높은 순서대로 각각 a, b, c번이라고 할 때 10000 × a + 100 × b + c를 반환\n",
    "    \"\"\"\n",
    "    arr = sorted([(r, i) for i, r in enumerate(rank) if attendance[i]])\n",
    "    return arr[0][1] * 10000 + arr[1][1] * 100 + arr[2][1]\n",
    "\n",
    "\n",
    "print(solution([3, 7, 2, 5, 4, 6, 1], [False, True, True, True, True, False, False]))\n",
    "print(solution([1, 2, 3], [True, True, True]))\n",
    "print(solution([6, 1, 5, 2, 3, 4], [True, False, True, False, False, True]))"
   ]
  },
  {
   "cell_type": "code",
   "execution_count": 3,
   "id": "8d3f1095957f5dd",
   "metadata": {
    "ExecuteTime": {
     "end_time": "2024-01-06T03:14:56.087658Z",
     "start_time": "2024-01-06T03:14:56.083953Z"
    }
   },
   "outputs": [
    {
     "name": "stdout",
     "output_type": "stream",
     "text": [
      "45\n",
      "1\n"
     ]
    }
   ],
   "source": [
    "def solution(num_str: str) -> int:\n",
    "    \"\"\"\n",
    "    문자열 정수의 합\n",
    "    \n",
    "    :param num_str: 한 자리 정수로 이루어진 문자열\n",
    "    :return: 각 자리수의 합\n",
    "    \"\"\"\n",
    "    return sum(map(int, num_str))\n",
    "\n",
    "\n",
    "print(solution(\"123456789\"))\n",
    "print(solution(\"1000000\"))"
   ]
  },
  {
   "cell_type": "code",
   "execution_count": null,
   "id": "7d1ec28bcc0580c4",
   "metadata": {},
   "outputs": [],
   "source": []
  }
 ],
 "metadata": {
  "kernelspec": {
   "display_name": "Python 3 (ipykernel)",
   "language": "python",
   "name": "python3"
  },
  "language_info": {
   "codemirror_mode": {
    "name": "ipython",
    "version": 3
   },
   "file_extension": ".py",
   "mimetype": "text/x-python",
   "name": "python",
   "nbconvert_exporter": "python",
   "pygments_lexer": "ipython3",
   "version": "3.11.5"
  }
 },
 "nbformat": 4,
 "nbformat_minor": 5
}
