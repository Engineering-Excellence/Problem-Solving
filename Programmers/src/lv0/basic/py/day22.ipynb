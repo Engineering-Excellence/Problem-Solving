{
 "cells": [
  {
   "cell_type": "markdown",
   "source": [
    "# Day 22 함수(메서드), 조건문 활용"
   ],
   "metadata": {
    "collapsed": false
   },
   "id": "3667931b3cc55ed3"
  },
  {
   "cell_type": "code",
   "outputs": [
    {
     "name": "stdout",
     "output_type": "stream",
     "text": [
      "10\n",
      "854020\n"
     ]
    }
   ],
   "source": [
    "def solution(n_str: str) -> str:\n",
    "    \"\"\"\n",
    "    0 떼기\n",
    "    \n",
    "    :param n_str: 정수로 이루어진 문자열\n",
    "    :return: n_str의 가장 왼쪽에 처음으로 등장하는 0들을 뗀 문자열\n",
    "    \"\"\"\n",
    "    return n_str.lstrip('0')\n",
    "\n",
    "\n",
    "print(solution(\"0010\"))\n",
    "print(solution(\"854020\"))"
   ],
   "metadata": {
    "collapsed": false,
    "ExecuteTime": {
     "end_time": "2024-01-07T06:41:30.329198Z",
     "start_time": "2024-01-07T06:41:30.322276Z"
    }
   },
   "id": "a32c4901900383aa",
   "execution_count": 1
  },
  {
   "cell_type": "code",
   "outputs": [
    {
     "name": "stdout",
     "output_type": "stream",
     "text": [
      "1316\n",
      "305793246910280479981\n",
      "0\n"
     ]
    }
   ],
   "source": [
    "def solution(a: str, b: str) -> str:\n",
    "    \"\"\"\n",
    "    두 수의 합\n",
    "\n",
    "    :param a: 0 이상의 정수 문자열\n",
    "    :param b: 0 이상의 정수 문자열\n",
    "    :return: a + b의 값을 문자열로 반환\n",
    "    \"\"\"\n",
    "    return str(int(a) + int(b))\n",
    "\n",
    "\n",
    "print(solution(\"582\", \"734\"))\n",
    "print(solution(\"18446744073709551615\", \"287346502836570928366\"))\n",
    "print(solution(\"0\", \"0\"))"
   ],
   "metadata": {
    "collapsed": false,
    "ExecuteTime": {
     "end_time": "2024-01-07T06:44:18.042517Z",
     "start_time": "2024-01-07T06:44:18.024834Z"
    }
   },
   "id": "ffa1a30b3eede4fb",
   "execution_count": 2
  },
  {
   "cell_type": "code",
   "outputs": [
    {
     "name": "stdout",
     "output_type": "stream",
     "text": [
      "[293, 395, 678]\n",
      "[110, 66, 439, 785, 1]\n"
     ]
    }
   ],
   "source": [
    "def solution(arr: list, delete_list: list) -> list:\n",
    "    \"\"\"\n",
    "    배열의 원소 삭제하기\n",
    "\n",
    "    :param arr: 정수 배열\n",
    "    :param delete_list: 정수 배열\n",
    "    :return: arr의 원소 중 delete_list의 원소를 모두 삭제하고 남은 원소들은 기존의 arr에 있던 순서를 유지한 배열을 반환\n",
    "    \"\"\"\n",
    "    return [i for i in arr if i not in delete_list]\n",
    "\n",
    "\n",
    "print(solution([293, 1000, 395, 678, 94], [94, 777, 104, 1000, 1, 12]))\n",
    "print(solution([110, 66, 439, 785, 1], [377, 823, 119, 43]))"
   ],
   "metadata": {
    "collapsed": false,
    "ExecuteTime": {
     "end_time": "2024-01-07T15:27:43.095588Z",
     "start_time": "2024-01-07T15:27:43.091365Z"
    }
   },
   "id": "311320ac5d8cccbd",
   "execution_count": 1
  },
  {
   "cell_type": "code",
   "outputs": [],
   "source": [],
   "metadata": {
    "collapsed": false
   },
   "id": "6acf137eca5a119f"
  }
 ],
 "metadata": {
  "kernelspec": {
   "display_name": "Python 3",
   "language": "python",
   "name": "python3"
  },
  "language_info": {
   "codemirror_mode": {
    "name": "ipython",
    "version": 2
   },
   "file_extension": ".py",
   "mimetype": "text/x-python",
   "name": "python",
   "nbconvert_exporter": "python",
   "pygments_lexer": "ipython2",
   "version": "2.7.6"
  }
 },
 "nbformat": 4,
 "nbformat_minor": 5
}
