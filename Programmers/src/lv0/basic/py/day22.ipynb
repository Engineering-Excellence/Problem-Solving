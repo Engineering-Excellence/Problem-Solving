{
 "cells": [
  {
   "cell_type": "markdown",
   "source": [
    "# Day 22 함수(메서드), 조건문 활용"
   ],
   "metadata": {
    "collapsed": false
   },
   "id": "3667931b3cc55ed3"
  },
  {
   "cell_type": "code",
   "outputs": [
    {
     "name": "stdout",
     "output_type": "stream",
     "text": [
      "10\n",
      "854020\n"
     ]
    }
   ],
   "source": [
    "def solution(n_str: str) -> str:\n",
    "    \"\"\"\n",
    "    0 떼기\n",
    "    \n",
    "    :param n_str: 정수로 이루어진 문자열\n",
    "    :return: n_str의 가장 왼쪽에 처음으로 등장하는 0들을 뗀 문자열\n",
    "    \"\"\"\n",
    "    return n_str.lstrip('0')\n",
    "\n",
    "\n",
    "print(solution(\"0010\"))\n",
    "print(solution(\"854020\"))"
   ],
   "metadata": {
    "collapsed": false,
    "ExecuteTime": {
     "end_time": "2024-01-07T06:41:30.329198Z",
     "start_time": "2024-01-07T06:41:30.322276Z"
    }
   },
   "id": "a32c4901900383aa",
   "execution_count": 1
  },
  {
   "cell_type": "code",
   "outputs": [],
   "source": [],
   "metadata": {
    "collapsed": false
   },
   "id": "ffa1a30b3eede4fb"
  }
 ],
 "metadata": {
  "kernelspec": {
   "display_name": "Python 3",
   "language": "python",
   "name": "python3"
  },
  "language_info": {
   "codemirror_mode": {
    "name": "ipython",
    "version": 2
   },
   "file_extension": ".py",
   "mimetype": "text/x-python",
   "name": "python",
   "nbconvert_exporter": "python",
   "pygments_lexer": "ipython2",
   "version": "2.7.6"
  }
 },
 "nbformat": 4,
 "nbformat_minor": 5
}
