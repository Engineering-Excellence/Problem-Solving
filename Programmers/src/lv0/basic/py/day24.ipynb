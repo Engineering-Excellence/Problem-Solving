{
 "cells": [
  {
   "cell_type": "markdown",
   "source": [
    "# Day 24 조건문 활용, 반복문 활용, 이차원 리스트(배열)"
   ],
   "metadata": {
    "collapsed": false
   },
   "id": "f354a597d4999fd8"
  },
  {
   "cell_type": "code",
   "outputs": [
    {
     "name": "stdout",
     "output_type": "stream",
     "text": [
      "19000\n",
      "13500\n"
     ]
    }
   ],
   "source": [
    "def solution1(order: list) -> int:\n",
    "    \"\"\"\n",
    "    커피 심부름\n",
    "    \n",
    "    :param order: 각 직원이 적은 메뉴 문자열 배열\n",
    "    :return: 카페에서 결제하게 될 금액\n",
    "    \"\"\"\n",
    "    return sum([5000 if \"cafelatte\" in coffee else 4500 for coffee in order])\n",
    "\n",
    "\n",
    "print(solution1([\"cafelatte\", \"americanoice\", \"hotcafelatte\", \"anything\"]))\n",
    "print(solution1([\"americanoice\", \"americano\", \"iceamericano\"]))"
   ],
   "metadata": {
    "collapsed": false,
    "ExecuteTime": {
     "end_time": "2024-02-01T15:36:53.616556300Z",
     "start_time": "2024-02-01T15:36:53.607155900Z"
    }
   },
   "id": "29d8bb1c6ccb765",
   "execution_count": 1
  },
  {
   "cell_type": "code",
   "outputs": [
    {
     "name": "stdout",
     "output_type": "stream",
     "text": [
      "['..xxxx......xxxx..', '..xxxx......xxxx..', 'xx....xx..xx....xx', 'xx....xx..xx....xx', 'xx......xx......xx', 'xx......xx......xx', '..xx..........xx..', '..xx..........xx..', '....xx......xx....', '....xx......xx....', '......xx..xx......', '......xx..xx......', '........xx........', '........xx........']\n",
      "['xxx...xxx', 'xxx...xxx', 'xxx...xxx', '...xxx...', '...xxx...', '...xxx...', 'xxx...xxx', 'xxx...xxx', 'xxx...xxx']\n"
     ]
    }
   ],
   "source": [
    "from itertools import repeat, chain\n",
    "\n",
    "\n",
    "def solution2(picture: list, k: int) -> list:\n",
    "    \"\"\"\n",
    "    그림 확대\n",
    "    \n",
    "    :param picture: 그림 파일을 나타낸 문자열 배열\n",
    "    :param k: 정수\n",
    "    :return: 그림 파일을 가로 세로로 k배 늘린 그림 파일을 나타내도록 문자열 배열\n",
    "    \"\"\"\n",
    "    return list(chain.from_iterable(repeat(''.join([k * c for c in s]), k) for s in picture))\n",
    "\n",
    "\n",
    "print(solution2([\".xx...xx.\", \"x..x.x..x\", \"x...x...x\", \".x.....x.\", \"..x...x..\", \"...x.x...\", \"....x....\"], 2))\n",
    "print(solution2([\"x.x\", \".x.\", \"x.x\"], 3))"
   ],
   "metadata": {
    "collapsed": false
   },
   "id": "89664e82e45d5af3",
   "execution_count": 19
  },
  {
   "cell_type": "code",
   "outputs": [
    {
     "name": "stdout",
     "output_type": "stream",
     "text": [
      "[3, 6, 9, 300, 297, 294]\n",
      "[3, 4, 5, 102, 101, 100]\n"
     ]
    }
   ],
   "source": [
    "def solution3(arr: list, k: int) -> list:\n",
    "    \"\"\"\n",
    "    조건에 맞게 수열 변환하기 3\n",
    "    \n",
    "    :param arr: 정수 배열\n",
    "    :param k: 자연수\n",
    "    :return: k가 홀수라면 arr의 모든 원소에 k를 곱하고, k가 짝수라면 arr의 모든 원소에 k를 더한 후 반환\n",
    "    \"\"\"\n",
    "    return [i + k if k % 2 == 0 else k * i for i in arr]\n",
    "\n",
    "\n",
    "print(solution3([1, 2, 3, 100, 99, 98], 3))\n",
    "print(solution3([1, 2, 3, 100, 99, 98], 2))"
   ],
   "metadata": {
    "collapsed": false
   },
   "id": "a4a5d6c941892bf1",
   "execution_count": 6
  },
  {
   "cell_type": "code",
   "outputs": [],
   "source": [],
   "metadata": {
    "collapsed": false
   },
   "id": "b49cb48d52a8ba21"
  }
 ],
 "metadata": {
  "kernelspec": {
   "display_name": "Python 3",
   "language": "python",
   "name": "python3"
  },
  "language_info": {
   "codemirror_mode": {
    "name": "ipython",
    "version": 2
   },
   "file_extension": ".py",
   "mimetype": "text/x-python",
   "name": "python",
   "nbconvert_exporter": "python",
   "pygments_lexer": "ipython2",
   "version": "2.7.6"
  }
 },
 "nbformat": 4,
 "nbformat_minor": 5
}
