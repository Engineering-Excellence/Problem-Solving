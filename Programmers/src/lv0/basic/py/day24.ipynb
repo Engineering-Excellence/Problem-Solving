{
 "cells": [
  {
   "cell_type": "markdown",
   "id": "f354a597d4999fd8",
   "metadata": {},
   "source": [
    "# Day 24 조건문 활용, 반복문 활용, 이차원 리스트(배열)"
   ]
  },
  {
   "cell_type": "code",
   "execution_count": 1,
   "id": "29d8bb1c6ccb765",
   "metadata": {
    "ExecuteTime": {
     "end_time": "2024-02-09T15:15:06.810117Z",
     "start_time": "2024-02-09T15:15:06.805737Z"
    }
   },
   "outputs": [
    {
     "name": "stdout",
     "output_type": "stream",
     "text": [
      "19000\n",
      "13500\n"
     ]
    }
   ],
   "source": [
    "def solution1(order: list) -> int:\n",
    "    \"\"\"\n",
    "    커피 심부름\n",
    "    \n",
    "    :param order: 각 직원이 적은 메뉴 문자열 배열\n",
    "    :return: 카페에서 결제하게 될 금액\n",
    "    \"\"\"\n",
    "    return sum([5000 if \"cafelatte\" in coffee else 4500 for coffee in order])\n",
    "\n",
    "\n",
    "print(solution1([\"cafelatte\", \"americanoice\", \"hotcafelatte\", \"anything\"]))\n",
    "print(solution1([\"americanoice\", \"americano\", \"iceamericano\"]))"
   ]
  },
  {
   "cell_type": "code",
   "execution_count": 2,
   "id": "89664e82e45d5af3",
   "metadata": {
    "ExecuteTime": {
     "end_time": "2024-02-09T15:15:06.812969Z",
     "start_time": "2024-02-09T15:15:06.810448Z"
    }
   },
   "outputs": [
    {
     "name": "stdout",
     "output_type": "stream",
     "text": [
      "['..xxxx......xxxx..', '..xxxx......xxxx..', 'xx....xx..xx....xx', 'xx....xx..xx....xx', 'xx......xx......xx', 'xx......xx......xx', '..xx..........xx..', '..xx..........xx..', '....xx......xx....', '....xx......xx....', '......xx..xx......', '......xx..xx......', '........xx........', '........xx........']\n",
      "['xxx...xxx', 'xxx...xxx', 'xxx...xxx', '...xxx...', '...xxx...', '...xxx...', 'xxx...xxx', 'xxx...xxx', 'xxx...xxx']\n"
     ]
    }
   ],
   "source": [
    "from itertools import repeat, chain\n",
    "\n",
    "\n",
    "def solution2(picture: list, k: int) -> list:\n",
    "    \"\"\"\n",
    "    그림 확대\n",
    "    \n",
    "    :param picture: 그림 파일을 나타낸 문자열 배열\n",
    "    :param k: 정수\n",
    "    :return: 그림 파일을 가로 세로로 k배 늘린 그림 파일을 나타내도록 문자열 배열\n",
    "    \"\"\"\n",
    "    return list(chain.from_iterable(repeat(''.join([k * c for c in s]), k) for s in picture))\n",
    "\n",
    "\n",
    "print(solution2([\".xx...xx.\", \"x..x.x..x\", \"x...x...x\", \".x.....x.\", \"..x...x..\", \"...x.x...\", \"....x....\"], 2))\n",
    "print(solution2([\"x.x\", \".x.\", \"x.x\"], 3))"
   ]
  },
  {
   "cell_type": "code",
   "execution_count": 3,
   "id": "a4a5d6c941892bf1",
   "metadata": {
    "ExecuteTime": {
     "end_time": "2024-02-09T15:15:06.816822Z",
     "start_time": "2024-02-09T15:15:06.813527Z"
    }
   },
   "outputs": [
    {
     "name": "stdout",
     "output_type": "stream",
     "text": [
      "[3, 6, 9, 300, 297, 294]\n",
      "[3, 4, 5, 102, 101, 100]\n"
     ]
    }
   ],
   "source": [
    "def solution3(arr: list, k: int) -> list:\n",
    "    \"\"\"\n",
    "    조건에 맞게 수열 변환하기 3\n",
    "    \n",
    "    :param arr: 정수 배열\n",
    "    :param k: 자연수\n",
    "    :return: k가 홀수라면 arr의 모든 원소에 k를 곱하고, k가 짝수라면 arr의 모든 원소에 k를 더한 후 반환\n",
    "    \"\"\"\n",
    "    return [i + k if k % 2 == 0 else k * i for i in arr]\n",
    "\n",
    "\n",
    "print(solution3([1, 2, 3, 100, 99, 98], 3))\n",
    "print(solution3([1, 2, 3, 100, 99, 98], 2))"
   ]
  },
  {
   "cell_type": "code",
   "execution_count": 4,
   "id": "b49cb48d52a8ba21",
   "metadata": {
    "ExecuteTime": {
     "end_time": "2024-02-09T15:15:06.833002Z",
     "start_time": "2024-02-09T15:15:06.816703Z"
    }
   },
   "outputs": [
    {
     "name": "stdout",
     "output_type": "stream",
     "text": [
      "lllllvwxyz\n",
      "llnnllllmm\n"
     ]
    }
   ],
   "source": [
    "import re\n",
    "\n",
    "\n",
    "def solution4(myString: str) -> str:\n",
    "    \"\"\"\n",
    "    l로 만들기\n",
    "    \n",
    "    :param myString: 알파벳 소문자로 이루어진 문자열\n",
    "    :return: 알파벳 순서에서 \"l\"보다 앞서는 모든 문자를 \"l\"로 바꾼 문자열\n",
    "    \"\"\"\n",
    "    # return ''.join(['l' if c < 'l' else c for c in myString])\n",
    "    return re.sub('[a-k]', 'l', myString)\n",
    "\n",
    "\n",
    "print(solution4(\"abcdevwxyz\"))\n",
    "print(solution4(\"jjnnllkkmm\"))"
   ]
  },
  {
   "cell_type": "code",
   "execution_count": 5,
   "id": "cb26898cdf96b1c4",
   "metadata": {
    "ExecuteTime": {
     "end_time": "2024-02-09T15:15:06.833483Z",
     "start_time": "2024-02-09T15:15:06.821336Z"
    }
   },
   "outputs": [
    {
     "name": "stdout",
     "output_type": "stream",
     "text": [
      "[[1, 0, 0], [0, 1, 0], [0, 0, 1]]\n",
      "[[1, 0, 0, 0, 0, 0], [0, 1, 0, 0, 0, 0], [0, 0, 1, 0, 0, 0], [0, 0, 0, 1, 0, 0], [0, 0, 0, 0, 1, 0], [0, 0, 0, 0, 0, 1]]\n",
      "[[1]]\n"
     ]
    }
   ],
   "source": [
    "def solution5(n: int) -> list:\n",
    "    \"\"\"\n",
    "    특별한 이차원 배열 1\n",
    "    \n",
    "    :param n: 정수 \n",
    "    :return: n차 단위행렬\n",
    "    \"\"\"\n",
    "    # return [[1 if i == j else 0 for j in range(n)] for i in range(n)]\n",
    "    arr = [[0] * n for _ in range(n)]\n",
    "    for i in range(n):\n",
    "        arr[i][i] = 1\n",
    "    return arr\n",
    "\n",
    "\n",
    "print(solution5(3))\n",
    "print(solution5(6))\n",
    "print(solution5(1))"
   ]
  },
  {
   "cell_type": "code",
   "execution_count": null,
   "id": "86d435ba0d0fbbd9",
   "metadata": {},
   "outputs": [],
   "source": []
  }
 ],
 "metadata": {
  "kernelspec": {
   "display_name": "Python 3 (ipykernel)",
   "language": "python",
   "name": "python3"
  },
  "language_info": {
   "codemirror_mode": {
    "name": "ipython",
    "version": 3
   },
   "file_extension": ".py",
   "mimetype": "text/x-python",
   "name": "python",
   "nbconvert_exporter": "python",
   "pygments_lexer": "ipython3",
   "version": "3.11.5"
  }
 },
 "nbformat": 4,
 "nbformat_minor": 5
}
