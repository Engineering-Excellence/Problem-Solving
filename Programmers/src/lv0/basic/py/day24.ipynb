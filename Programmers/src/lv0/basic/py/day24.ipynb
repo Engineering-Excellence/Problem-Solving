{
 "cells": [
  {
   "cell_type": "markdown",
   "source": [
    "# Day 24 조건문 활용, 반복문 활용, 이차원 리스트(배열)"
   ],
   "metadata": {
    "collapsed": false
   },
   "id": "f354a597d4999fd8"
  },
  {
   "cell_type": "code",
   "outputs": [
    {
     "name": "stdout",
     "output_type": "stream",
     "text": [
      "19000\n",
      "13500\n"
     ]
    }
   ],
   "source": [
    "def solution1(order: list) -> int:\n",
    "    \"\"\"\n",
    "    커피 심부름\n",
    "    \n",
    "    :param order: 각 직원이 적은 메뉴 문자열 배열\n",
    "    :return: 카페에서 결제하게 될 금액\n",
    "    \"\"\"\n",
    "    return sum([5000 if \"cafelatte\" in coffee else 4500 for coffee in order])\n",
    "\n",
    "\n",
    "print(solution1([\"cafelatte\", \"americanoice\", \"hotcafelatte\", \"anything\"]))\n",
    "print(solution1([\"americanoice\", \"americano\", \"iceamericano\"]))"
   ],
   "metadata": {
    "collapsed": false,
    "ExecuteTime": {
     "end_time": "2024-02-01T15:36:53.616556300Z",
     "start_time": "2024-02-01T15:36:53.607155900Z"
    }
   },
   "id": "29d8bb1c6ccb765",
   "execution_count": 1
  },
  {
   "cell_type": "code",
   "outputs": [],
   "source": [],
   "metadata": {
    "collapsed": false
   },
   "id": "b49cb48d52a8ba21"
  }
 ],
 "metadata": {
  "kernelspec": {
   "display_name": "Python 3",
   "language": "python",
   "name": "python3"
  },
  "language_info": {
   "codemirror_mode": {
    "name": "ipython",
    "version": 2
   },
   "file_extension": ".py",
   "mimetype": "text/x-python",
   "name": "python",
   "nbconvert_exporter": "python",
   "pygments_lexer": "ipython2",
   "version": "2.7.6"
  }
 },
 "nbformat": 4,
 "nbformat_minor": 5
}
