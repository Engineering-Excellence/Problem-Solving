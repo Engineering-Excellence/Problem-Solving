{
 "cells": [
  {
   "cell_type": "markdown",
   "source": [
    "# Day 23 조건문 활용"
   ],
   "metadata": {
    "collapsed": false
   },
   "id": "8bed5ad6a622e24d"
  },
  {
   "cell_type": "code",
   "outputs": [
    {
     "name": "stdout",
     "output_type": "stream",
     "text": [
      "abcghi\n"
     ]
    }
   ],
   "source": [
    "def solution2(str_list: list, ex: str) -> str:\n",
    "    \"\"\"\n",
    "    꼬리 문자열\n",
    "    \n",
    "    :param str_list: 문자열 리스트\n",
    "    :param ex: 제외하려는 문자열\n",
    "    :return: str_list에서 ex를 포함한 문자열을 제외하고 만든 꼬리 문자열\n",
    "    \"\"\"\n",
    "    return ''.join(filter(lambda word: ex not in word, str_list))\n",
    "\n",
    "\n",
    "print(solution2([\"abc\", \"def\", \"ghi\"], \"ef\"))\n",
    "print(solution2([\"abc\", \"bbc\", \"cbc\"], \"c\"))"
   ],
   "metadata": {
    "collapsed": false,
    "ExecuteTime": {
     "end_time": "2024-02-01T12:45:41.828617400Z",
     "start_time": "2024-02-01T12:45:41.822107600Z"
    }
   },
   "id": "a819e06657992e40",
   "execution_count": 1
  },
  {
   "cell_type": "code",
   "outputs": [
    {
     "name": "stdout",
     "output_type": "stream",
     "text": [
      "1\n",
      "0\n"
     ]
    }
   ],
   "source": [
    "def solution3(num_list: list, n: int) -> int:\n",
    "    \"\"\"\n",
    "    정수 찾기\n",
    "    \n",
    "    :param num_list: 정수 리스트\n",
    "    :param n: 정수\n",
    "    :return: num_list안에 n이 있으면 1을 없으면 0을 반환\n",
    "    \"\"\"\n",
    "    return int(n in num_list)\n",
    "\n",
    "\n",
    "print(solution3([1, 2, 3, 4, 5], 3))\n",
    "print(solution3([15, 98, 23, 2, 15], 20))"
   ],
   "metadata": {
    "collapsed": false,
    "ExecuteTime": {
     "end_time": "2024-02-01T12:45:41.833314800Z",
     "start_time": "2024-02-01T12:45:41.827621200Z"
    }
   },
   "id": "b20f1300100c89f",
   "execution_count": 2
  },
  {
   "cell_type": "code",
   "outputs": [
    {
     "name": "stdout",
     "output_type": "stream",
     "text": [
      "34\n",
      "14\n",
      "2\n"
     ]
    }
   ],
   "source": [
    "def solution4(a: int, b: int) -> int:\n",
    "    \"\"\"\n",
    "    주사위 게임 1\n",
    "    \n",
    "    :param a: 1 이상 6 이하의 정수\n",
    "    :param b: 1 이상 6 이하의 정수\n",
    "    :return: 두 정수 a와 b가 매개변수로 주어질 때, 얻는 점수를 반환\n",
    "    \"\"\"\n",
    "    if a % 2 and b % 2:\n",
    "        return a ** 2 + b ** 2\n",
    "    elif (a + b) % 2:\n",
    "        return 2 * (a + b)\n",
    "    else:\n",
    "        return abs(a - b)\n",
    "\n",
    "\n",
    "print(solution4(3, 5))\n",
    "print(solution4(6, 1))\n",
    "print(solution4(2, 4))"
   ],
   "metadata": {
    "collapsed": false,
    "ExecuteTime": {
     "end_time": "2024-02-01T12:45:41.839689600Z",
     "start_time": "2024-02-01T12:45:41.831313100Z"
    }
   },
   "id": "f45aa519ce06ee89",
   "execution_count": 3
  },
  {
   "cell_type": "code",
   "outputs": [
    {
     "name": "stdout",
     "output_type": "stream",
     "text": [
      "1\n",
      "0\n"
     ]
    }
   ],
   "source": [
    "from datetime import datetime\n",
    "\n",
    "\n",
    "def solution5(date1: list, date2: list) -> int:\n",
    "    \"\"\"\n",
    "    날짜 비교하기\n",
    "    \n",
    "    :param date1: 연월일 배열\n",
    "    :param date2: 연월일 배열\n",
    "    :return: date1이 date2보다 앞서는 날짜라면 1을, 아니면 0을 반환\n",
    "    \"\"\"\n",
    "    return int(date1 < date2)\n",
    "\n",
    "\n",
    "print(solution5([2021, 12, 28], [2021, 12, 29]))\n",
    "print(solution5([1024, 10, 24], [1024, 10, 24]))"
   ],
   "metadata": {
    "collapsed": false,
    "ExecuteTime": {
     "end_time": "2024-02-01T12:45:41.862701100Z",
     "start_time": "2024-02-01T12:45:41.838689700Z"
    }
   },
   "id": "4dc1ba2a633be249",
   "execution_count": 4
  },
  {
   "cell_type": "code",
   "outputs": [],
   "source": [],
   "metadata": {
    "collapsed": false
   },
   "id": "972840e4037afd"
  }
 ],
 "metadata": {
  "kernelspec": {
   "display_name": "Python 3",
   "language": "python",
   "name": "python3"
  },
  "language_info": {
   "codemirror_mode": {
    "name": "ipython",
    "version": 2
   },
   "file_extension": ".py",
   "mimetype": "text/x-python",
   "name": "python",
   "nbconvert_exporter": "python",
   "pygments_lexer": "ipython2",
   "version": "2.7.6"
  }
 },
 "nbformat": 4,
 "nbformat_minor": 5
}
