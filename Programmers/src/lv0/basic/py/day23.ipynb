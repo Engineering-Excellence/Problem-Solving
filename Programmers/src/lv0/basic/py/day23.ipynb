{
 "cells": [
  {
   "cell_type": "markdown",
   "id": "8bed5ad6a622e24d",
   "metadata": {},
   "source": [
    "# Day 23 조건문 활용"
   ]
  },
  {
   "cell_type": "code",
   "execution_count": 1,
   "id": "a819e06657992e40",
   "metadata": {
    "ExecuteTime": {
     "end_time": "2024-02-01T12:45:41.828617400Z",
     "start_time": "2024-02-01T12:45:41.822107600Z"
    }
   },
   "outputs": [
    {
     "name": "stdout",
     "output_type": "stream",
     "text": [
      "abcghi\n",
      "\n"
     ]
    }
   ],
   "source": [
    "def solution2(str_list: list, ex: str) -> str:\n",
    "    \"\"\"\n",
    "    꼬리 문자열\n",
    "    \n",
    "    :param str_list: 문자열 리스트\n",
    "    :param ex: 제외하려는 문자열\n",
    "    :return: str_list에서 ex를 포함한 문자열을 제외하고 만든 꼬리 문자열\n",
    "    \"\"\"\n",
    "    return ''.join(filter(lambda word: ex not in word, str_list))\n",
    "\n",
    "\n",
    "print(solution2([\"abc\", \"def\", \"ghi\"], \"ef\"))\n",
    "print(solution2([\"abc\", \"bbc\", \"cbc\"], \"c\"))"
   ]
  },
  {
   "cell_type": "code",
   "execution_count": 2,
   "id": "b20f1300100c89f",
   "metadata": {
    "ExecuteTime": {
     "end_time": "2024-02-01T12:45:41.833314800Z",
     "start_time": "2024-02-01T12:45:41.827621200Z"
    }
   },
   "outputs": [
    {
     "name": "stdout",
     "output_type": "stream",
     "text": [
      "1\n",
      "0\n"
     ]
    }
   ],
   "source": [
    "def solution3(num_list: list, n: int) -> int:\n",
    "    \"\"\"\n",
    "    정수 찾기\n",
    "    \n",
    "    :param num_list: 정수 리스트\n",
    "    :param n: 정수\n",
    "    :return: num_list안에 n이 있으면 1을 없으면 0을 반환\n",
    "    \"\"\"\n",
    "    return int(n in num_list)\n",
    "\n",
    "\n",
    "print(solution3([1, 2, 3, 4, 5], 3))\n",
    "print(solution3([15, 98, 23, 2, 15], 20))"
   ]
  },
  {
   "cell_type": "code",
   "execution_count": 3,
   "id": "f45aa519ce06ee89",
   "metadata": {
    "ExecuteTime": {
     "end_time": "2024-02-01T12:45:41.839689600Z",
     "start_time": "2024-02-01T12:45:41.831313100Z"
    }
   },
   "outputs": [
    {
     "name": "stdout",
     "output_type": "stream",
     "text": [
      "34\n",
      "14\n",
      "2\n"
     ]
    }
   ],
   "source": [
    "def solution4(a: int, b: int) -> int:\n",
    "    \"\"\"\n",
    "    주사위 게임 1\n",
    "    \n",
    "    :param a: 1 이상 6 이하의 정수\n",
    "    :param b: 1 이상 6 이하의 정수\n",
    "    :return: 두 정수 a와 b가 매개변수로 주어질 때, 얻는 점수를 반환\n",
    "    \"\"\"\n",
    "    if a % 2 and b % 2:\n",
    "        return a ** 2 + b ** 2\n",
    "    elif (a + b) % 2:\n",
    "        return 2 * (a + b)\n",
    "    else:\n",
    "        return abs(a - b)\n",
    "\n",
    "\n",
    "print(solution4(3, 5))\n",
    "print(solution4(6, 1))\n",
    "print(solution4(2, 4))"
   ]
  },
  {
   "cell_type": "code",
   "execution_count": 4,
   "id": "4dc1ba2a633be249",
   "metadata": {
    "ExecuteTime": {
     "end_time": "2024-02-01T12:45:41.862701100Z",
     "start_time": "2024-02-01T12:45:41.838689700Z"
    }
   },
   "outputs": [
    {
     "name": "stdout",
     "output_type": "stream",
     "text": [
      "1\n",
      "0\n"
     ]
    }
   ],
   "source": [
    "def solution5(date1: list, date2: list) -> int:\n",
    "    \"\"\"\n",
    "    날짜 비교하기\n",
    "    \n",
    "    :param date1: 연월일 배열\n",
    "    :param date2: 연월일 배열\n",
    "    :return: date1이 date2보다 앞서는 날짜라면 1을, 아니면 0을 반환\n",
    "    \"\"\"\n",
    "    return int(date1 < date2)\n",
    "\n",
    "\n",
    "print(solution5([2021, 12, 28], [2021, 12, 29]))\n",
    "print(solution5([1024, 10, 24], [1024, 10, 24]))"
   ]
  },
  {
   "cell_type": "code",
   "execution_count": null,
   "id": "972840e4037afd",
   "metadata": {},
   "outputs": [],
   "source": []
  }
 ],
 "metadata": {
  "kernelspec": {
   "display_name": "Python 3 (ipykernel)",
   "language": "python",
   "name": "python3"
  },
  "language_info": {
   "codemirror_mode": {
    "name": "ipython",
    "version": 3
   },
   "file_extension": ".py",
   "mimetype": "text/x-python",
   "name": "python",
   "nbconvert_exporter": "python",
   "pygments_lexer": "ipython3",
   "version": "3.11.5"
  }
 },
 "nbformat": 4,
 "nbformat_minor": 5
}
