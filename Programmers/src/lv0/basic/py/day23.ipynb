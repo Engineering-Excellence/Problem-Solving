{
 "cells": [
  {
   "cell_type": "markdown",
   "source": [
    "# Day 23 조건문 활용"
   ],
   "metadata": {
    "collapsed": false
   },
   "id": "8bed5ad6a622e24d"
  },
  {
   "cell_type": "code",
   "outputs": [
    {
     "name": "stdout",
     "output_type": "stream",
     "text": [
      "abcghi\n"
     ]
    }
   ],
   "source": [
    "def solution2(str_list: list, ex: str) -> str:\n",
    "    \"\"\"\n",
    "    꼬리 문자열\n",
    "    \n",
    "    :param str_list: 문자열 리스트\n",
    "    :param ex: 제외하려는 문자열\n",
    "    :return: str_list에서 ex를 포함한 문자열을 제외하고 만든 꼬리 문자열\n",
    "    \"\"\"\n",
    "    return ''.join(filter(lambda word: ex not in word, str_list))\n",
    "\n",
    "\n",
    "print(solution2([\"abc\", \"def\", \"ghi\"], \"ef\"))\n",
    "print(solution2([\"abc\", \"bbc\", \"cbc\"], \"c\"))"
   ],
   "metadata": {
    "collapsed": false,
    "ExecuteTime": {
     "end_time": "2024-01-10T15:13:15.274511500Z",
     "start_time": "2024-01-10T15:13:15.269936400Z"
    }
   },
   "id": "a819e06657992e40",
   "execution_count": 2
  },
  {
   "cell_type": "code",
   "outputs": [
    {
     "name": "stdout",
     "output_type": "stream",
     "text": [
      "1\n",
      "0\n"
     ]
    }
   ],
   "source": [
    "def solution3(num_list: list, n: int) -> int:\n",
    "    \"\"\"\n",
    "    정수 찾기\n",
    "    \n",
    "    :param num_list: 정수 리스트\n",
    "    :param n: 정수\n",
    "    :return: num_list안에 n이 있으면 1을 없으면 0을 반환\n",
    "    \"\"\"\n",
    "    return int(n in num_list)\n",
    "\n",
    "\n",
    "print(solution3([1, 2, 3, 4, 5], 3))\n",
    "print(solution3([15, 98, 23, 2, 15], 20))"
   ],
   "metadata": {
    "collapsed": false,
    "ExecuteTime": {
     "end_time": "2024-01-23T12:16:49.581999200Z",
     "start_time": "2024-01-23T12:16:49.577086600Z"
    }
   },
   "id": "b20f1300100c89f",
   "execution_count": 1
  },
  {
   "cell_type": "code",
   "outputs": [],
   "source": [],
   "metadata": {
    "collapsed": false
   },
   "id": "f45aa519ce06ee89"
  }
 ],
 "metadata": {
  "kernelspec": {
   "display_name": "Python 3",
   "language": "python",
   "name": "python3"
  },
  "language_info": {
   "codemirror_mode": {
    "name": "ipython",
    "version": 2
   },
   "file_extension": ".py",
   "mimetype": "text/x-python",
   "name": "python",
   "nbconvert_exporter": "python",
   "pygments_lexer": "ipython2",
   "version": "2.7.6"
  }
 },
 "nbformat": 4,
 "nbformat_minor": 5
}
