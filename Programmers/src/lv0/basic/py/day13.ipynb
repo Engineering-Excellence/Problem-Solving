{
 "cells": [
  {
   "cell_type": "markdown",
   "source": [
    "# 리스트(배열)"
   ],
   "metadata": {
    "collapsed": false
   },
   "id": "b2950c0ddc2a4ba5"
  },
  {
   "cell_type": "code",
   "execution_count": 1,
   "id": "initial_id",
   "metadata": {
    "collapsed": true,
    "ExecuteTime": {
     "end_time": "2023-12-19T16:04:31.807630Z",
     "start_time": "2023-12-19T16:04:31.801496Z"
    }
   },
   "outputs": [
    {
     "name": "stdout",
     "output_type": "stream",
     "text": [
      "[6]\n",
      "[2, 1, 7, 5]\n"
     ]
    }
   ],
   "source": [
    "# n 번째 원소부터\n",
    "def solution(num_list, n):\n",
    "    return num_list[n - 1:]\n",
    "\n",
    "\n",
    "print(solution([2, 1, 6], 3))\n",
    "print(solution([5, 2, 1, 7, 5], 2))"
   ]
  },
  {
   "cell_type": "code",
   "execution_count": 2,
   "outputs": [
    {
     "name": "stdout",
     "output_type": "stream",
     "text": [
      "[1, 6, 2]\n",
      "[7, 5, 5, 2, 1]\n"
     ]
    }
   ],
   "source": [
    "# 순서 바꾸기\n",
    "def solution(num_list, n):\n",
    "    return num_list[n:] + (num_list[:n])\n",
    "\n",
    "\n",
    "print(solution([2, 1, 6], 1))\n",
    "print(solution([5, 2, 1, 7, 5], 3))"
   ],
   "metadata": {
    "collapsed": false,
    "ExecuteTime": {
     "end_time": "2023-12-19T16:04:31.822665Z",
     "start_time": "2023-12-19T16:04:31.809183Z"
    }
   },
   "id": "3ee396093fb15798"
  },
  {
   "cell_type": "code",
   "execution_count": 3,
   "outputs": [
    {
     "name": "stdout",
     "output_type": "stream",
     "text": [
      "['u', 'u']\n",
      "[]\n"
     ]
    }
   ],
   "source": [
    "# 왼쪽 오른쪽\n",
    "def solution(str_list):\n",
    "    for i, s in enumerate(str_list):\n",
    "        if s == 'l':\n",
    "            return str_list[:i]\n",
    "        elif s == 'r':\n",
    "            return str_list[i + 1:]\n",
    "    return []\n",
    "\n",
    "\n",
    "print(solution([\"u\", \"u\", \"l\", \"r\"]))\n",
    "print(solution([\"l\"]))"
   ],
   "metadata": {
    "collapsed": false,
    "ExecuteTime": {
     "end_time": "2023-12-19T16:04:31.823213Z",
     "start_time": "2023-12-19T16:04:31.813597Z"
    }
   },
   "id": "17831e6114a809e1"
  },
  {
   "cell_type": "code",
   "execution_count": 4,
   "outputs": [
    {
     "name": "stdout",
     "output_type": "stream",
     "text": [
      "[2]\n",
      "[5, 2, 1]\n"
     ]
    }
   ],
   "source": [
    "# n 번째 원소까지\n",
    "def solution(num_list, n):\n",
    "    return num_list[:n]\n",
    "\n",
    "\n",
    "print(solution([2, 1, 6], 1))\n",
    "print(solution([5, 2, 1, 7, 5], 3))"
   ],
   "metadata": {
    "collapsed": false,
    "ExecuteTime": {
     "end_time": "2023-12-19T16:04:31.823429Z",
     "start_time": "2023-12-19T16:04:31.815818Z"
    }
   },
   "id": "3d4bb4fdee1e022a"
  },
  {
   "cell_type": "code",
   "execution_count": 5,
   "outputs": [
    {
     "name": "stdout",
     "output_type": "stream",
     "text": [
      "[4, 6, 7]\n",
      "[4, 7]\n"
     ]
    }
   ],
   "source": [
    "# n개 간격의 원소들\n",
    "def solution(num_list, n):\n",
    "    return num_list[::n]\n",
    "\n",
    "\n",
    "print(solution([4, 2, 6, 1, 7, 6], 2))\n",
    "print(solution([4, 2, 6, 1, 7, 6], 4))"
   ],
   "metadata": {
    "collapsed": false,
    "ExecuteTime": {
     "end_time": "2023-12-19T16:04:31.823630Z",
     "start_time": "2023-12-19T16:04:31.817772Z"
    }
   },
   "id": "679146a78a7bfd45"
  },
  {
   "cell_type": "code",
   "execution_count": null,
   "outputs": [],
   "source": [],
   "metadata": {
    "collapsed": false
   },
   "id": "f178c834548a5e4"
  }
 ],
 "metadata": {
  "kernelspec": {
   "display_name": "Python 3",
   "language": "python",
   "name": "python3"
  },
  "language_info": {
   "codemirror_mode": {
    "name": "ipython",
    "version": 2
   },
   "file_extension": ".py",
   "mimetype": "text/x-python",
   "name": "python",
   "nbconvert_exporter": "python",
   "pygments_lexer": "ipython2",
   "version": "2.7.6"
  }
 },
 "nbformat": 4,
 "nbformat_minor": 5
}
